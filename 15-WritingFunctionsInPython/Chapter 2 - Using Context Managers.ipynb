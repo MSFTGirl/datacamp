{
 "cells": [
  {
   "cell_type": "code",
   "execution_count": 16,
   "metadata": {},
   "outputs": [],
   "source": [
    "import os\n",
    "os.chdir('c:\\\\datacamp\\\\data\\\\')\n",
    "import contextlib\n",
    "import time"
   ]
  },
  {
   "cell_type": "markdown",
   "metadata": {},
   "source": [
    "# Writing Functions in Python\n",
    "\n",
    "## Chapter 2 - Context Managers\n",
    "\n",
    "### Using Context Managers\n",
    "\n",
    "A context manager is a type of function that sets up a context for the code to run, runs the code and then removes the context. An analog would be hosted party using caterers. The caterers come in, set up the room and all the food. The guest come and the party occurs. After the party, the caterers come back and clean up and put everything away. \n",
    "\n",
    "The open() function is a context manager. It creates context by opening a file, the gives control of the file to the code to perform functions on the file object. When the code is completed, the open() function closes the file. The example below, the open() function opens the file, 'my_file.txt' and passes it to the code that then reads the contents of the text file into a variable called text and calculates the length of the text variable and stores that in a variable called length. After this block of indented code is executed, the open() function closes the file and returns to the code beneath it. "
   ]
  },
  {
   "cell_type": "code",
   "execution_count": null,
   "metadata": {},
   "outputs": [],
   "source": [
    "with open('my_file.txt') as my_file:\n",
    "    text = my_file.read()\n",
    "    length = len(text)\n",
    "\n",
    "print('The file is {} characters long'.format(length))"
   ]
  },
  {
   "cell_type": "markdown",
   "metadata": {},
   "source": [
    "Any time a context manager is used, it will start with the keyword __with__ that lets Python know that a context manager is needed. With is followed by any function that is built to work as a context manager. A context manager can take arguments and the with statement is finished with a colon, similar to a for loop or an if statement. When code is indented, as with context managers, custom functions, if statements and for loops, these are called compound statements. Any code that is supposed to run within the with context needs to be indented. When the indented code is done, the context manager cleans up anything it needs to, like closing the file the open context manager called and then the control is returned to the unindented code below the with statement. "
   ]
  },
  {
   "cell_type": "code",
   "execution_count": null,
   "metadata": {},
   "outputs": [],
   "source": [
    "with <context-manager>(args):\n",
    "    #Run your code here\n",
    "    #This code is running within the context\n",
    "\n",
    "#This code runs after the context is removed"
   ]
  },
  {
   "cell_type": "markdown",
   "metadata": {},
   "source": [
    "Some context managers want to return a value that can be used inside the context. By using the keyword __as__ followed by a variable name at the end of the with statement, the returned value can be assigned to the variable name. "
   ]
  },
  {
   "cell_type": "code",
   "execution_count": null,
   "metadata": {},
   "outputs": [],
   "source": [
    "with <context-manager>(args) as <variable_name>:\n",
    "    #Run your code here\n",
    "    #This code is running within the context\n",
    "\n",
    "#This code runs after the context is removed"
   ]
  },
  {
   "cell_type": "markdown",
   "metadata": {},
   "source": [
    "### Exercise 1\n",
    "\n",
    "#### The number of cats\n",
    "You are working on a natural language processing project to determine what makes great writers so great. Your current hypothesis is that great writers talk about cats a lot. To prove it, you want to count the number of times the word \"cat\" appears in \"Alice's Adventures in Wonderland\" by Lewis Carroll. You have already downloaded a text file, alice.txt, with the entire contents of this great book.\n",
    "\n",
    "__Instructions:__\n",
    "* Use the open() context manager to open alice.txt and assign the file to the file variable."
   ]
  },
  {
   "cell_type": "code",
   "execution_count": null,
   "metadata": {},
   "outputs": [],
   "source": [
    "# Open \"alice.txt\" and assign the file to \"file\"\n",
    "with open('alice.txt') as file:\n",
    "  text = file.read()\n",
    "\n",
    "n = 0\n",
    "for word in text.split():\n",
    "  if word.lower() in ['cat', 'cats']:\n",
    "    n += 1\n",
    "\n",
    "print('Lewis Carroll uses the word \"cat\" {} times'.format(n))"
   ]
  },
  {
   "cell_type": "markdown",
   "metadata": {},
   "source": [
    "#### The speed of cats\n",
    "You're working on a new web service that processes Instagram feeds to identify which pictures contain cats (don't ask why -- it's the internet). The code that processes the data is slower than you would like it to be, so you are working on tuning it up to run faster. Given an image, image, you have two functions that can process it:\n",
    "\n",
    "process_with_numpy(image)\n",
    "process_with_pytorch(image)\n",
    "Your colleague wrote a context manager, timer(), that will print out how long the code inside the context block takes to run. She is suggesting you use it to see which of the two options is faster. Time each function to determine which one to use in your web service.\n",
    "\n",
    "__Instructions:__\n",
    "* Use the timer() context manager to time how long process_with_numpy(image) takes to run.\n",
    "* Use the timer() context manager to time how long process_with_pytorch(image) takes to run."
   ]
  },
  {
   "cell_type": "code",
   "execution_count": null,
   "metadata": {},
   "outputs": [],
   "source": [
    "image = get_image_from_instagram()\n",
    "\n",
    "# Time how long process_with_numpy(image) takes to run\n",
    "with timer():\n",
    "  print('Numpy version')\n",
    "  process_with_numpy(image)\n",
    "\n",
    "# Time how long process_with_pytorch(image) takes to run\n",
    "with timer():\n",
    "  print('Pytorch version')\n",
    "  process_with_pytorch(image)"
   ]
  },
  {
   "cell_type": "markdown",
   "metadata": {},
   "source": [
    "### Writing Context Managers\n",
    "\n",
    "There are two ways to define a context manager in Python:\n",
    "* Class-based with uses double underscore, enter, double underscore exit method\n",
    "* Function-based that is decorated with a context manager\n",
    "\n",
    "This lecture will focus on the function-based option. There are 5 parts to creating a function:\n",
    "1. Define a function\n",
    "2. (optional) Add any set up code the context will need\n",
    "3. Use the keyword __yield__ to signal that this is a special kind of function\n",
    "4. (optional) Add any tear down code needed to clean up the context\n",
    "5. Add the __@contextlib.contextmanager__ decorator from the contextlib module on the line immediately above the context manager function"
   ]
  },
  {
   "cell_type": "code",
   "execution_count": null,
   "metadata": {},
   "outputs": [],
   "source": [
    "@contextlib.contextmanager\n",
    "def my_context():\n",
    "    #Add any set up code needed\n",
    "    yield\n",
    "    #Add any tear down code needed"
   ]
  },
  {
   "cell_type": "markdown",
   "metadata": {},
   "source": [
    "#### The 'yield' Keyword\n",
    "\n",
    "The __yield__ keyword means that a value should returned, but the rest of the function is expected to be finished at some point in the future. The value that the context manager yields can be assigned to a variable in the with statement by adding the keyword __as__ and providing variable name.\n",
    "\n",
    "Yield is also used in generators and technically a context manager function a generator that yields a single value. "
   ]
  },
  {
   "cell_type": "code",
   "execution_count": null,
   "metadata": {},
   "outputs": [],
   "source": [
    "@contextlib.contextmanager\n",
    "def my_context():\n",
    "    print('Hello')\n",
    "    yield 42\n",
    "    print('Goodbye')\n",
    "    \n",
    "with my_context() as foo:\n",
    "    print('foo is {}'.format(foo))"
   ]
  },
  {
   "cell_type": "markdown",
   "metadata": {},
   "source": [
    "#### Set Up and Tear Down\n",
    "\n",
    "The ability of a function to yield control and know that it will get to finish later is what makes context managers so useful. The example below has the database context manager function first setting up a connection to the database, yielding the database itself and then closing down the connection to the database. This automates the connecting and disconnecting to the database so that the with statement doesn't have to be coded to do it. "
   ]
  },
  {
   "cell_type": "code",
   "execution_count": null,
   "metadata": {},
   "outputs": [],
   "source": [
    "@contextlib.contextmanager\n",
    "def database(url):\n",
    "    # Set up database connection\n",
    "    db = postgres.connect(url)\n",
    "    \n",
    "    yield db\n",
    "    \n",
    "    #Tear down database connection\n",
    "    db.discconect\n",
    "\n",
    "url = 'http://datacamp.com/data'\n",
    "with database(url) as my_db:\n",
    "    course_list = my_db.execute('SELECT * FROM courses')"
   ]
  },
  {
   "cell_type": "markdown",
   "metadata": {},
   "source": [
    "#### Yielding a Value or None\n",
    "\n",
    "The database context manager yields the contents of the database it connects to as an actual value to be assigned when the contect manager is called by a with statement. In the example below, no value is yielded, the context manager simply changes the working directory to the path called in the corresponding with statement and then changes is back when the with statement is completed. "
   ]
  },
  {
   "cell_type": "code",
   "execution_count": 14,
   "metadata": {},
   "outputs": [
    {
     "name": "stdout",
     "output_type": "stream",
     "text": [
      "c:\\datacamp\n"
     ]
    },
    {
     "data": {
      "text/plain": [
       "'c:\\\\datacamp\\\\data'"
      ]
     },
     "execution_count": 14,
     "metadata": {},
     "output_type": "execute_result"
    }
   ],
   "source": [
    "@contextlib.contextmanager\n",
    "def in_dir(path):\n",
    "    #Save old directory path\n",
    "    old_path = os.getcwd()\n",
    "    \n",
    "    #Switch to new path\n",
    "    os.chdir(path)\n",
    "    \n",
    "    yield\n",
    "    \n",
    "    #change back to previous working directory\n",
    "    os.chdir(old_path)\n",
    "\n",
    "with in_dir('c:\\\\datacamp\\\\'):\n",
    "    print(os.getcwd())\n",
    "    \n",
    "os.getcwd()"
   ]
  },
  {
   "cell_type": "markdown",
   "metadata": {},
   "source": [
    "### Exercise 2\n",
    "\n",
    "#### The timer() context manager\n",
    "A colleague of yours is working on a web service that processes Instagram photos. Customers are complaining that the service takes too long to identify whether or not an image has a cat in it, so your colleague has come to you for help. You decide to write a context manager that they can use to time how long their functions take to run.\n",
    "\n",
    "__Instructions:__\n",
    "* Add a decorator from the contextlib module to the timer() function that will make it act like a context manager.\n",
    "* Send control from the timer() function to the context block."
   ]
  },
  {
   "cell_type": "code",
   "execution_count": 17,
   "metadata": {},
   "outputs": [
    {
     "name": "stdout",
     "output_type": "stream",
     "text": [
      "This should take approximately 0.25 seconds\n",
      "Elapsed: 0.25s\n"
     ]
    }
   ],
   "source": [
    "# Add a decorator that will make timer() a context manager\n",
    "@contextlib.contextmanager\n",
    "def timer():\n",
    "  \"\"\"Time the execution of a context block.\n",
    "\n",
    "  Yields:\n",
    "    None\n",
    "  \"\"\"\n",
    "  start = time.time()\n",
    "  # Send control back to the context block\n",
    "  yield\n",
    "  end = time.time()\n",
    "  print('Elapsed: {:.2f}s'.format(end - start))\n",
    "\n",
    "with timer():\n",
    "  print('This should take approximately 0.25 seconds')\n",
    "  time.sleep(0.25)"
   ]
  },
  {
   "cell_type": "markdown",
   "metadata": {},
   "source": [
    "Notice that the three elements of a context manager are all here: a function definition, a yield statement, and the @contextlib.contextmanager decorator. It's also worth noticing that timer() is a context manager that does not return an explicit value, so yield is written by itself without specifying anything to return.\n",
    "\n",
    "#### A read-only open() context manager\n",
    "You have a bunch of data files for your next deep learning project that took you months to collect and clean. It would be terrible if you accidentally overwrote one of those files when trying to read it in for training, so you decide to create a read-only version of the open() context manager to use in your project.\n",
    "\n",
    "The regular open() context manager:\n",
    "\n",
    "> * takes a filename and a mode ('r' for read, 'w' for write, or 'a' for append)\n",
    "> * opens the file for reading, writing, or appending\n",
    "> * yields control back to the context, along with a reference to the file\n",
    "> * waits for the context to finish\n",
    "> * and then closes the file before exiting\n",
    "\n",
    "Your context manager will do the same thing, except it will only take the filename as an argument and it will only open the file for reading.\n",
    "\n",
    "__Instructions:__\n",
    "* Yield control from open_read_only() to the context block, ensuring that the read_only_file object gets assigned to my_file.\n",
    "* Use read_only_file's .close() method to ensure that you don't leave open files lying around."
   ]
  },
  {
   "cell_type": "code",
   "execution_count": 18,
   "metadata": {},
   "outputs": [
    {
     "name": "stdout",
     "output_type": "stream",
     "text": [
      "The quick brown fox jumps over the lazy dog.\n"
     ]
    }
   ],
   "source": [
    "@contextlib.contextmanager\n",
    "def open_read_only(filename):\n",
    "  \"\"\"Open a file in read-only mode.\n",
    "\n",
    "  Args:\n",
    "    filename (str): The location of the file to read\n",
    "\n",
    "  Yields:\n",
    "    file object\n",
    "  \"\"\"\n",
    "  read_only_file = open(filename, mode='r')\n",
    "  # Yield read_only_file so it can be assigned to my_file\n",
    "  yield read_only_file\n",
    "  # Close read_only_file\n",
    "  read_only_file.close()\n",
    "\n",
    "with open_read_only('my_file.txt') as my_file:\n",
    "  print(my_file.read())"
   ]
  },
  {
   "cell_type": "markdown",
   "metadata": {},
   "source": [
    "### Advanced Topics\n",
    "\n",
    "#### Nested Contexts\n",
    "\n",
    "In the example below, the context manager copies the contents of one file into another. One way to write this function would be to open the file, store the contents in a contents variable, then open the destination file and write the contents into the new file. This approach works fine until the file is too large to fit into memory."
   ]
  },
  {
   "cell_type": "code",
   "execution_count": 19,
   "metadata": {},
   "outputs": [],
   "source": [
    "def copy(scr, dst):\n",
    "    \"\"\"Copy the contents of one file into another\n",
    "    \n",
    "    Args:\n",
    "    scr (str): File name of the file to be copied\n",
    "    dst (str): Where to write the new file\"\"\"\n",
    "    \n",
    "    #Open source file and read contents\n",
    "    with open(scr) as file:\n",
    "        contents = file.read()\n",
    "    #Open destination file and copy contents to it\n",
    "    with open(dst, 'w') as destination:\n",
    "        destination.write(contents)"
   ]
  },
  {
   "cell_type": "markdown",
   "metadata": {},
   "source": [
    "What would be ideal is to open both files at once and copy over one line at at time. Because a text document can be iterated over, it is possible to read the file line by line and take some action on it, as in the example below."
   ]
  },
  {
   "cell_type": "code",
   "execution_count": null,
   "metadata": {},
   "outputs": [],
   "source": [
    "with open('my_file.txt') as file:\n",
    "    for line in file:\n",
    "        #do something"
   ]
  },
  {
   "cell_type": "markdown",
   "metadata": {},
   "source": [
    "If both files could be opened at once, the source file can be read line by line and that could be copied into the destination file line by line. Nested contexts are approved ways of allowing variables within the top context to be available to the nested context. "
   ]
  },
  {
   "cell_type": "code",
   "execution_count": null,
   "metadata": {},
   "outputs": [],
   "source": [
    "def copy(scr, dst):\n",
    "    \"\"\"Copy the contents of one file into another\n",
    "    \n",
    "    Args:\n",
    "    scr (str): File name of the file to be copied\n",
    "    dst (str): Where to write the new file\"\"\"\n",
    "    \n",
    "    with open('my_file.txt') as file:\n",
    "        with open('dst', 'w') as destination:\n",
    "            #Read one line at a time from file and copy to destination\n",
    "            for line in file:\n",
    "                destination.write(line)"
   ]
  },
  {
   "attachments": {},
   "cell_type": "markdown",
   "metadata": {},
   "source": [
    "#### Handling Errors\n",
    "\n",
    "In the example below, the function allows the user to connect to a printer. Because the printer only allows one connection at at time, it is imperative that the p.disconnect() be called. But what happens when the user of get_printer() introduces a problem when they call the function, as in the example below. The user called 'txt' which is not going to be found in the doc dictionary, it should be 'text'. This result will be KeyError and p.disconnect() doesn't get called."
   ]
  },
  {
   "cell_type": "code",
   "execution_count": null,
   "metadata": {},
   "outputs": [],
   "source": [
    "def get_printer(ip):\n",
    "    p = connect_to_printer(ip)\n",
    "    yield\n",
    "    p.disconnect()\n",
    "    print('Disconnected from the printer')\n",
    "    \n",
    "doc = {text: 'this is my text'}\n",
    "\n",
    "with get_printer(192.168.0.1) as printer:\n",
    "    printer.print_page(doc['txt'])"
   ]
  },
  {
   "attachments": {
    "keyerror.png": {
     "image/png": "[encoded data removed]"
    }
   },
   "cell_type": "markdown",
   "metadata": {},
   "source": [
    "![keyerror.png](attachment:keyerror.png)\n",
    "\n",
    "One way to handle this is to use the Try sequence where the code that might raise an error is tried, if an error does occur the Except code is run and the Finally code is always run, whether an error occurs or not. "
   ]
  },
  {
   "cell_type": "code",
   "execution_count": null,
   "metadata": {},
   "outputs": [],
   "source": [
    "try:\n",
    "    # try the code that may fail\n",
    "\n",
    "except:\n",
    "    # do something about the error\n",
    "    \n",
    "finally:\n",
    "    # this code runs no matter what"
   ]
  },
  {
   "cell_type": "markdown",
   "metadata": {},
   "source": [
    "When applied to the get_printer() function, the user will still get the same error, but this time the printer will be released. "
   ]
  },
  {
   "cell_type": "code",
   "execution_count": null,
   "metadata": {},
   "outputs": [],
   "source": [
    "def get_printer(ip):\n",
    "    p = connect_to_printer(ip)\n",
    "    try:\n",
    "    yield\n",
    "    finally:\n",
    "    p.disconnect()\n",
    "    print('Disconnected from the printer')\n",
    "    \n",
    "doc = {text: 'this is my text'}\n",
    "\n",
    "with get_printer(192.168.0.1) as printer:\n",
    "    printer.print_page(doc['txt'])\n",
    "    \n",
    "doc = {text: 'this is my text'}\n",
    "\n",
    "with get_printer(192.168.0.1) as printer:\n",
    "    printer.print_page(doc['txt'])"
   ]
  },
  {
   "attachments": {
    "cmpatterns.png": {
     "image/png": "[encoded data removed]"
    }
   },
   "cell_type": "markdown",
   "metadata": {},
   "source": [
    "#### Context Manager Patterns\n",
    "\n",
    "If the code is using of these patterns, a context manager should be considered:\n",
    "![cmpatterns.png](attachment:cmpatterns.png)\n",
    "\n",
    "### Exercise 3\n",
    "\n",
    "#### Scraping the NASDAQ\n",
    "Training deep neural nets is expensive! You might as well invest in NVIDIA stock since you're spending so much on GPUs. To pick the best time to invest, you are going to collect and analyze some data on how their stock is doing. The context manager stock('NVDA') will connect to the NASDAQ and return an object that you can use to get the latest price by calling its .price() method.\n",
    "\n",
    "You want to connect to stock('NVDA') and record 10 timesteps of price data by writing it to the file NVDA.txt.\n",
    "\n",
    "__Instructions:__\n",
    "* Use the stock('NVDA') context manager and assign the result to nvda.\n",
    "* Open a file for writing with open('NVDA.txt', 'w') and assign the file object to f_out so you can record the price over time."
   ]
  },
  {
   "cell_type": "code",
   "execution_count": null,
   "metadata": {},
   "outputs": [],
   "source": [
    "# Use the \"stock('NVDA')\" context manager\n",
    "# and assign the result to the variable \"nvda\"\n",
    "with stock('NVDA') as nvda:\n",
    "  # Open \"NVDA.txt\" for writing as f_out\n",
    "  with open('NVDA.txt','w') as f_out:\n",
    "    for _ in range(10):\n",
    "      value = nvda.price()\n",
    "      print('Logging ${:.2f} for NVDA'.format(value))\n",
    "      f_out.write('{:.2f}\\n'.format(value))"
   ]
  },
  {
   "cell_type": "markdown",
   "metadata": {},
   "source": [
    "#### Changing the working directory\n",
    "You are using an open-source library that lets you train deep neural networks on your data. Unfortunately, during training, this library writes out checkpoint models (i.e., models that have been trained on a portion of the data) to the current working directory. You find that behavior frustrating because you don't want to have to launch the script from the directory where the models will be saved.\n",
    "\n",
    "You decide that one way to fix this is to write a context manager that changes the current working directory, lets you build your models, and then resets the working directory to its original location. You'll want to be sure that any errors that occur during model training don't prevent you from resetting the working directory to its original location.\n",
    "\n",
    "__Instructions:__\n",
    "* Add a statement that lets you handle any errors that might occur inside the context.\n",
    "* Add a statement that ensures os.chdir(current_dir) will be called, whether there was an error or not."
   ]
  },
  {
   "cell_type": "code",
   "execution_count": 20,
   "metadata": {},
   "outputs": [],
   "source": [
    "def in_dir(directory):\n",
    "  \"\"\"Change current working directory to `directory`,\n",
    "  allow the user to run some code, and change back.\n",
    "\n",
    "  Args:\n",
    "    directory (str): The path to a directory to work in.\n",
    "  \"\"\"\n",
    "  current_dir = os.getcwd()\n",
    "  os.chdir(directory)\n",
    "\n",
    "  # Add code that lets you handle errors\n",
    "  try:\n",
    "    yield\n",
    "  # Ensure the directory is reset,\n",
    "  # whether there was an error or not\n",
    "  finally:\n",
    "    os.chdir(current_dir)"
   ]
  }
 ],
 "metadata": {
  "kernelspec": {
   "display_name": "Python 3",
   "language": "python",
   "name": "python3"
  },
  "language_info": {
   "codemirror_mode": {
    "name": "ipython",
    "version": 3
   },
   "file_extension": ".py",
   "mimetype": "text/x-python",
   "name": "python",
   "nbconvert_exporter": "python",
   "pygments_lexer": "ipython3",
   "version": "3.8.5"
  }
 },
 "nbformat": 4,
 "nbformat_minor": 4
}
