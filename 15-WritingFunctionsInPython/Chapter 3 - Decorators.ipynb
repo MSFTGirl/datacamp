{
 "cells": [
  {
   "cell_type": "code",
   "execution_count": 54,
   "metadata": {},
   "outputs": [],
   "source": [
    "import pandas as pd\n",
    "import random\n",
    "import os\n",
    "os.chdir('c:\\\\datacamp\\\\data')"
   ]
  },
  {
   "cell_type": "markdown",
   "metadata": {},
   "source": [
    "# Writing Python Functions\n",
    "\n",
    "## Chapter 3 - Decorators\n",
    "\n",
    "### Functions are Objects\n",
    "\n",
    "Decorators are ways to modify the behavior of functions. Because functions are just like any other object in Python, including a string or dataframe or integer, list, modules. This means it is possible to take actions on a function just like any other object. For example, a function could be assigned to a variable."
   ]
  },
  {
   "cell_type": "code",
   "execution_count": 12,
   "metadata": {},
   "outputs": [
    {
     "name": "stdout",
     "output_type": "stream",
     "text": [
      "<class 'function'>\n",
      "Hello\n"
     ]
    }
   ],
   "source": [
    "def my_func():\n",
    "    print('Hello')\n",
    "x = my_func\n",
    "print(type(x))\n",
    "x()"
   ]
  },
  {
   "cell_type": "markdown",
   "metadata": {},
   "source": [
    "#### Functions in Lists or Dictionaries\n",
    "\n",
    "Functions can also be added to a Python list or dictionary. Now an element of the list can be called and passed an argument. The same is true with values in a dictionary. "
   ]
  },
  {
   "cell_type": "code",
   "execution_count": 9,
   "metadata": {},
   "outputs": [
    {
     "name": "stdout",
     "output_type": "stream",
     "text": [
      "I am printing with an element of a list\n",
      "Now I am printing with a value from a dict\n"
     ]
    }
   ],
   "source": [
    "list_of_functions = [my_func, open, print]\n",
    "list_of_functions[2](\"I am printing with an element of a list\")\n",
    "\n",
    "func_dict = {'func1':my_func, 'func2':open, 'func3':print}\n",
    "func_dict['func3'](\"Now I am printing with a value from a dict\")"
   ]
  },
  {
   "cell_type": "markdown",
   "metadata": {},
   "source": [
    "#### Referencing a Function\n",
    "\n",
    "Notice that when a function is assigned to a variable, the parenthesis are not included. When the function name is typed with the parenthesis, the function is being called. If just the name of function is typed, it is referencing the function itself."
   ]
  },
  {
   "cell_type": "code",
   "execution_count": 15,
   "metadata": {},
   "outputs": [
    {
     "data": {
      "text/plain": [
       "42"
      ]
     },
     "execution_count": 15,
     "metadata": {},
     "output_type": "execute_result"
    }
   ],
   "source": [
    "def my_function():\n",
    "    return 42\n",
    "my_function()"
   ]
  },
  {
   "cell_type": "code",
   "execution_count": 16,
   "metadata": {},
   "outputs": [
    {
     "data": {
      "text/plain": [
       "<function __main__.my_function()>"
      ]
     },
     "execution_count": 16,
     "metadata": {},
     "output_type": "execute_result"
    }
   ],
   "source": [
    "my_function"
   ]
  },
  {
   "cell_type": "markdown",
   "metadata": {},
   "source": [
    "#### Functions as Arguments\n",
    "\n",
    "Because a function is just another object, it can be passed as an argument to another function. For example, the has_docstring function checks to see if a function has a docstring. The yes and no functions have and don't have respectively, docstrings. When the yes and no functions are passed to the has_docstring function, the resulting bool is returned."
   ]
  },
  {
   "cell_type": "code",
   "execution_count": 17,
   "metadata": {},
   "outputs": [
    {
     "name": "stdout",
     "output_type": "stream",
     "text": [
      "False\n",
      "True\n"
     ]
    }
   ],
   "source": [
    "def has_docstring(func):\n",
    "    '''Checks to see if the function has a docstring\n",
    "    Args:\n",
    "    func (callable): a function\n",
    "    \n",
    "    Returns:\n",
    "    bool'''\n",
    "    return func.__doc__ is not None \n",
    "\n",
    "def no():\n",
    "    return 42\n",
    "\n",
    "def yes():\n",
    "    'I have a docstring'\n",
    "    return 21\n",
    "\n",
    "print(has_docstring(no))\n",
    "print(has_docstring(yes))"
   ]
  },
  {
   "cell_type": "markdown",
   "metadata": {},
   "source": [
    "#### Defining a Function Inside a Function\n",
    "\n",
    "Functions defined inside other functions are referred to as nested functions, inner functions, helper functions or child functions. The function foo below prints x * y when x and y are with specific ranges. The foo function can be rewritten to be easier to read by creating a in_range nested function."
   ]
  },
  {
   "cell_type": "code",
   "execution_count": 19,
   "metadata": {},
   "outputs": [],
   "source": [
    "def foo(x,y):\n",
    "    if x > 4 and x < 10 and y > 4 and y < 10:\n",
    "        print(x*y)\n",
    "        \n",
    "def foo2(x,y):\n",
    "    def in_range(v):\n",
    "        return v > 4 and v < 10\n",
    "    if in_range(x) and in_range(y):\n",
    "        print (x*y)\n"
   ]
  },
  {
   "cell_type": "markdown",
   "metadata": {},
   "source": [
    "### Exercise 1\n",
    "\n",
    "#### Building a command line data app\n",
    "You are building a command line tool that lets a user interactively explore a data set. We've defined four functions: mean(), std(), minimum(), and maximum() that users can call to analyze their data. Help finish this section of the code so that your users can call any of these functions by typing the function name at the input prompt.\n",
    "\n",
    "Note: The function get_user_input() in this exercise is a mock version of asking the user to enter a command. It randomly returns one of the four function names. In real life, you would ask for input and wait until the user entered a value.\n",
    "\n",
    "__Instructions:__\n",
    "* Add the functions std(), minimum(), and maximum() to the function_map dictionary, like we did with mean().\n",
    "* The name of the function the user wants to call is stored in func_name. Use the dictionary of functions, function_map, to call the chosen function and pass data as an argument."
   ]
  },
  {
   "cell_type": "code",
   "execution_count": 33,
   "metadata": {},
   "outputs": [
    {
     "name": "stdout",
     "output_type": "stream",
     "text": [
      "   height  weight\n",
      "0    72.1     198\n",
      "1    69.8     204\n",
      "2    63.2     164\n",
      "3    64.7     238\n",
      "Type a command\n",
      "minimum\n"
     ]
    },
    {
     "data": {
      "text/plain": [
       "height     63.2\n",
       "weight    164.0\n",
       "dtype: float64"
      ]
     },
     "execution_count": 33,
     "metadata": {},
     "output_type": "execute_result"
    }
   ],
   "source": [
    "# Recreate functions that DataCamp had preloaded\n",
    "def mean(data):\n",
    "    return data.mean()\n",
    "\n",
    "def std(data):\n",
    "    return data.std()\n",
    "\n",
    "def minimum(data):\n",
    "    return data.min()\n",
    "\n",
    "def maximum(data):\n",
    "    return data.max()\n",
    "\n",
    "def get_user_input(input):\n",
    "    print('Type a command')\n",
    "    input = 'minimum'\n",
    "    print(input)\n",
    "    return input\n",
    "\n",
    "def load_data():\n",
    "    data = pd.read_csv('data.csv')\n",
    "    return data\n",
    "    \n",
    "# Add the missing function references to the function map\n",
    "function_map = {\n",
    "  'mean': mean, \n",
    "  'std': std,\n",
    "  'minimum': minimum,\n",
    "  'maximum': maximum\n",
    "}\n",
    "\n",
    "data = load_data()\n",
    "print(data)\n",
    "\n",
    "func_name = get_user_input('mean')\n",
    "\n",
    "# Call the chosen function and pass \"data\" as an argument\n",
    "function_map[func_name](data)"
   ]
  },
  {
   "cell_type": "markdown",
   "metadata": {},
   "source": [
    "#### Returning functions for a math game\n",
    "You are building an educational math game where the player enters a math term, and your program returns a function that matches that term. For instance, if the user types \"add\", your program returns a function that adds two numbers. So far you've only implemented the \"add\" function. Now you want to include a \"subtract\" function.\n",
    "\n",
    "__Instructions:__\n",
    "* Define the subtract() function. It should take two arguments and return the first argument minus the second argument."
   ]
  },
  {
   "cell_type": "code",
   "execution_count": 34,
   "metadata": {},
   "outputs": [
    {
     "name": "stdout",
     "output_type": "stream",
     "text": [
      "5 + 2 = 7\n",
      "5 - 2 = 3\n"
     ]
    }
   ],
   "source": [
    "def create_math_function(func_name):\n",
    "  if func_name == 'add':\n",
    "    def add(a, b):\n",
    "      return a + b\n",
    "    return add\n",
    "  elif func_name == 'subtract':\n",
    "    # Define the subtract() function\n",
    "    def subtract(a,b):\n",
    "      return a - b\n",
    "    return subtract\n",
    "  else:\n",
    "    print(\"I don't know that one\")\n",
    "    \n",
    "add = create_math_function('add')\n",
    "print('5 + 2 = {}'.format(add(5, 2)))\n",
    "\n",
    "subtract = create_math_function('subtract')\n",
    "print('5 - 2 = {}'.format(subtract(5, 2)))"
   ]
  },
  {
   "attachments": {
    "scope.png": {
     "image/png": "[encoded data removed]"
    }
   },
   "cell_type": "markdown",
   "metadata": {},
   "source": [
    "### Scope\n",
    "\n",
    "Scope determines which variables can be accessed at different points in the code. Python has strict rules that the interpreter follows when determining which variable name the code is referring to within a function. \n",
    "\n",
    "First the interpreter will look within the local scope which is made of the arguments and any variables that are defined inside the function. If the variable cannot be found in the local scope, it expands the search to the nonlocal scope, if the current function is actually nested within another function. The nonlocal scope would be the local scope of the parent function. If it cannot find the variable in the nonlocal scope, or if the function is not nested, Python then goes to the global scope which contains the code defined variables created outside of the function. If the variable cannot be found in the global scope, the interpreter will check the built in scope which are all the objects available in Python. For example, the print() function is a built in to Python and that is why it can be called within the foo function. \n",
    "\n",
    "![scope.png](attachment:scope.png)\n",
    "\n",
    "Python only allows read access to variables that are defined outside of the current scope. In the example below, when the foo() function is called, it will print 42, the value of x within the foo() function. Outside of the foo() function, when print(x) is called again, it will print 7, the global value of x. "
   ]
  },
  {
   "cell_type": "code",
   "execution_count": 37,
   "metadata": {},
   "outputs": [
    {
     "name": "stdout",
     "output_type": "stream",
     "text": [
      "42\n",
      "7\n"
     ]
    }
   ],
   "source": [
    "x = 7\n",
    "\n",
    "def foo():\n",
    "    x = 42\n",
    "    print(x)\n",
    "\n",
    "foo()\n",
    "print(x)"
   ]
  },
  {
   "cell_type": "markdown",
   "metadata": {},
   "source": [
    "#### The Global Keyword\n",
    "\n",
    "If there is a need to refer to the global value of x within the foo() function, placing the keyword global in front of x will enable the function to use the global variable x and in the example below, change the value of x. Note that now when print(x) is called outside of the foo() function, it prints 42. Calling global variables within a function should be avoided as it can make testing and debugging more difficult."
   ]
  },
  {
   "cell_type": "code",
   "execution_count": 38,
   "metadata": {},
   "outputs": [
    {
     "name": "stdout",
     "output_type": "stream",
     "text": [
      "42\n",
      "42\n"
     ]
    }
   ],
   "source": [
    "x = 7\n",
    "\n",
    "def foo():\n",
    "    global x\n",
    "    x = 42\n",
    "    print(x)\n",
    "\n",
    "foo()\n",
    "print(x)"
   ]
  },
  {
   "cell_type": "markdown",
   "metadata": {},
   "source": [
    "#### The Nonlocal Keyword\n",
    "\n",
    "Similar to referring to a global variable within a function, using the keyword nonlocal in front a variable being used in a nested function will point the variable of the same name in the parent function. "
   ]
  },
  {
   "cell_type": "code",
   "execution_count": 42,
   "metadata": {},
   "outputs": [
    {
     "name": "stdout",
     "output_type": "stream",
     "text": [
      "200\n",
      "10\n"
     ]
    }
   ],
   "source": [
    "def foo():\n",
    "    x = 10\n",
    "    def bar():\n",
    "        x = 200\n",
    "        print(x)\n",
    "    bar()\n",
    "    print(x)\n",
    "\n",
    "foo()"
   ]
  },
  {
   "cell_type": "code",
   "execution_count": 43,
   "metadata": {},
   "outputs": [
    {
     "name": "stdout",
     "output_type": "stream",
     "text": [
      "200\n",
      "200\n"
     ]
    }
   ],
   "source": [
    "def foo():\n",
    "    x = 10\n",
    "    def bar():\n",
    "        nonlocal x\n",
    "        x = 200\n",
    "        print(x)\n",
    "    bar()\n",
    "    print(x)\n",
    "\n",
    "foo()"
   ]
  },
  {
   "cell_type": "markdown",
   "metadata": {},
   "source": [
    "### Exercise 2\n",
    "\n",
    "#### Modifying variables outside local scope\n",
    "Sometimes your functions will need to modify a variable that is outside of the local scope of that function. While it's generally not best practice to do so, it's still good to know-how in case you need to do it. Update these functions so they can modify variables that would usually be outside of their scope.\n",
    "\n",
    "__Instructions:__\n",
    "* Add a keyword that lets us update call_count from inside the function.\n",
    "* Add a keyword that lets us modify file_contents from inside save_contents().\n",
    "* Add a keyword to done in check_is_done() so that wait_until_done() eventually stops looping."
   ]
  },
  {
   "cell_type": "code",
   "execution_count": 58,
   "metadata": {},
   "outputs": [
    {
     "name": "stdout",
     "output_type": "stream",
     "text": [
      "You've called my_function() 1 times!\n",
      "You've called my_function() 2 times!\n",
      "You've called my_function() 3 times!\n",
      "You've called my_function() 4 times!\n",
      "You've called my_function() 5 times!\n",
      "You've called my_function() 6 times!\n",
      "You've called my_function() 7 times!\n",
      "You've called my_function() 8 times!\n",
      "You've called my_function() 9 times!\n",
      "You've called my_function() 10 times!\n",
      "You've called my_function() 11 times!\n",
      "You've called my_function() 12 times!\n",
      "You've called my_function() 13 times!\n",
      "You've called my_function() 14 times!\n",
      "You've called my_function() 15 times!\n",
      "You've called my_function() 16 times!\n",
      "You've called my_function() 17 times!\n",
      "You've called my_function() 18 times!\n",
      "You've called my_function() 19 times!\n",
      "You've called my_function() 20 times!\n",
      "It was a bright cold day in April, and the clocks were striking thirteen. \n",
      "Call me Ishmael. \n",
      "YOU don't know about me without you have read a book by the name of The Adventures of Tom Sawyer; but that ain't no matter.\n",
      "Work done? True\n"
     ]
    }
   ],
   "source": [
    "call_count = 0\n",
    "\n",
    "def my_function():\n",
    "  # Use a keyword that lets us update call_count \n",
    "  global call_count\n",
    "  call_count += 1\n",
    "  \n",
    "  print(\"You've called my_function() {} times!\".format(call_count))\n",
    "  \n",
    "for _ in range(20):\n",
    "  my_function()\n",
    "\n",
    "def read_files():\n",
    "  file_contents = None\n",
    "  \n",
    "  def save_contents(filename):\n",
    "    # Add a keyword that lets us modify file_contents\n",
    "    nonlocal file_contents\n",
    "    if file_contents is None:\n",
    "      file_contents = []\n",
    "    with open(filename) as fin:\n",
    "      file_contents.append(fin.read())\n",
    "      \n",
    "  for filename in ['1984-1.txt', 'Moby-1.txt', 'Huck-1.txt']:\n",
    "    save_contents(filename)\n",
    "    \n",
    "  return file_contents\n",
    "\n",
    "print('\\n'.join(read_files()))\n",
    "\n",
    "def wait_until_done():\n",
    "  def check_is_done():\n",
    "    # Add a keyword so that wait_until_done() doesn't run forever\n",
    "    global done\n",
    "    if random.random() < 0.1:\n",
    "      done = True\n",
    "      \n",
    "  while not done:\n",
    "    check_is_done()\n",
    "\n",
    "done = False\n",
    "wait_until_done()\n",
    "\n",
    "print('Work done? {}'.format(done))"
   ]
  },
  {
   "attachments": {
    "closures.png": {
     "image/png": "[encoded data removed]"
    }
   },
   "cell_type": "markdown",
   "metadata": {},
   "source": [
    "Stellar scoping! By adding global done in check_is_done(), you ensure that the done being referenced is the one that was set to False before wait_until_done() was called. Without this keyword, wait_until_done() would loop forever because the done = True in check_is_done() would only be changing a variable that is local to check_is_done(). Understanding what scope your variables are in will help you debug tricky situations like this one.\n",
    "\n",
    "### Closures\n",
    "\n",
    "A closure in Python is a tuple of variables that are no longer is scope but a function needs in order to run. In this example, the foo() function defines the variable a and then returns the nested function bar(). When the func variable is set to the execution of the function foo(), it is really being set to the function bar(), but when the func variable is called, it still prints the variable a, even though a is NOT in the scope of bar(). This is accomplished with closures. When foo() returned the bar() function, Python included any non local variable that bar() was going to need to the function object. Those variables get stored in a tuple in the double underscore closure attribute of the function. \n",
    "\n",
    "The closure for func has one variable and that variable can be viewed by accessing the .cell_contents of the item. \n",
    "\n",
    "![closures.png](attachment:closures.png)"
   ]
  },
  {
   "attachments": {
    "closurendeletion.png": {
     "image/png": "[encoded data removed]"
    }
   },
   "cell_type": "markdown",
   "metadata": {},
   "source": [
    "#### Closures and Deletions\n",
    "\n",
    "In this example below, the my_func variable is assigned to the foo() function that returns the nested function bar(). When my_func is called, with the global variable x, the bar() function prints 25, the value of x. If the code then should delete the global variable x and the variable my_func is called again, it will still print 25, as the value argument of foo() gets added to the closure attribute of my_func when it is assigned to the foo() function because it is a required variable for the nested function bar(). So even though x doesn't exist anymore, its value still persists in my_func's closure.\n",
    "![closurendeletion.png](attachment:closurendeletion.png)"
   ]
  },
  {
   "cell_type": "markdown",
   "metadata": {},
   "source": [
    "#### Closures and Overwrites\n",
    "\n",
    "Notice that nothing changes when x is overwritten instead of deleting it. In this example, x is assigned the value of 25, then the function foo() is created to accept a value and return the function bar(). Then x is reassigned to the function foo() with x provided as its value. When x() is called, it returns 25. This is because the new variable of x still has 25 stored in its closure. This is important to remember when using decorators."
   ]
  },
  {
   "cell_type": "code",
   "execution_count": 59,
   "metadata": {},
   "outputs": [
    {
     "name": "stdout",
     "output_type": "stream",
     "text": [
      "25\n"
     ]
    }
   ],
   "source": [
    "x = 25\n",
    "\n",
    "def foo(value):\n",
    "    def bar():\n",
    "        print(value)\n",
    "    return bar\n",
    "\n",
    "x = foo(x)\n",
    "x()"
   ]
  },
  {
   "cell_type": "code",
   "execution_count": 60,
   "metadata": {},
   "outputs": [
    {
     "data": {
      "text/plain": [
       "<function __main__.foo.<locals>.bar()>"
      ]
     },
     "execution_count": 60,
     "metadata": {},
     "output_type": "execute_result"
    }
   ],
   "source": [
    "x"
   ]
  },
  {
   "cell_type": "markdown",
   "metadata": {},
   "source": [
    "#### Why Does All of This Matter?\n",
    "\n",
    "Decorators use all these capabilities discussed:\n",
    "* Functions as objects\n",
    "* Nested functions\n",
    "* Nonlocal scope\n",
    "* Closures\n",
    "\n",
    "### Exercise 3\n",
    "\n",
    "#### Checking for closure\n",
    "You're teaching your niece how to program in Python, and she is working on returning nested functions. She thinks she has written the code correctly, but she is worried that the returned function won't have the necessary information when called. Show her that all of the nonlocal variables she needs are in the new function's closure.\n",
    "\n",
    "__Instructions:__\n",
    "* Use an attribute of the my_func() function to show that it has a closure that is not None.\n",
    "* Show that there are two variables in the closure.\n",
    "* Get the values of the variables in the closure so you can show that they are equal to [2, 17], the arguments passed to return_a_func()."
   ]
  },
  {
   "cell_type": "code",
   "execution_count": 62,
   "metadata": {},
   "outputs": [
    {
     "name": "stdout",
     "output_type": "stream",
     "text": [
      "True\n",
      "True\n",
      "True\n"
     ]
    }
   ],
   "source": [
    "def return_a_func(arg1, arg2):\n",
    "  def new_func():\n",
    "    print('arg1 was {}'.format(arg1))\n",
    "    print('arg2 was {}'.format(arg2))\n",
    "  return new_func\n",
    "    \n",
    "my_func = return_a_func(2, 17)\n",
    "\n",
    "# Show that my_func()'s closure is not None\n",
    "print(my_func.__closure__ is not None)\n",
    "\n",
    "# Show that there are two variables in the closure\n",
    "print(len(my_func.__closure__) == 2)\n",
    "\n",
    "# Get the values of the variables in the closure\n",
    "closure_values = [\n",
    "  my_func.__closure__[i].cell_contents for i in range(2)\n",
    "]\n",
    "print(closure_values == [2, 17])"
   ]
  },
  {
   "cell_type": "markdown",
   "metadata": {},
   "source": [
    "Values get added to a function's closure in the order they are defined in the enclosing function (in this case, arg1 and then arg2), but only if they are used in the nested function. That is, if return_a_func() took a third argument (e.g., arg3) that wasn't used by new_func(), then it would not be captured in new_func()'s closure.\n",
    "\n",
    "#### Closures keep your values safe\n",
    "You are still helping your niece understand closures. You have written the function get_new_func() that returns a nested function. The nested function call_func() calls whatever function was passed to get_new_func(). You've also written my_special_function() which simply prints a message that states that you are executing my_special_function().\n",
    "\n",
    "You want to show your niece that no matter what you do to my_special_function() after passing it to get_new_func(), the new function still mimics the behavior of the original my_special_function() because it is in the new function's closure.\n",
    "\n",
    "__Instructions:__\n",
    "* Show that you still get the original message even if you redefine my_special_function() to only print \"hello\".\n",
    "* Show that even if you delete my_special_function(), you can still call new_func() without any problems.\n",
    "* Show that you still get the original message even if you overwrite my_special_function() with the new function."
   ]
  },
  {
   "cell_type": "code",
   "execution_count": 70,
   "metadata": {},
   "outputs": [
    {
     "name": "stdout",
     "output_type": "stream",
     "text": [
      "You are running my_special_function()\n",
      "You are running my_special_function()\n"
     ]
    }
   ],
   "source": [
    "def my_special_function():\n",
    "  print('You are running my_special_function()')\n",
    "  \n",
    "def get_new_func(func):\n",
    "  def call_func():\n",
    "    func()\n",
    "  return call_func\n",
    "\n",
    "new_func = get_new_func(my_special_function)\n",
    "\n",
    "# Redefine my_special_function() to just print \"hello\"\n",
    "def my_special_function():\n",
    "  print('hello')\n",
    "\n",
    "new_func()\n",
    "\n",
    "# Delete my_special_function()\n",
    "del(my_special_function)\n",
    "\n",
    "new_func()"
   ]
  },
  {
   "cell_type": "code",
   "execution_count": 69,
   "metadata": {},
   "outputs": [
    {
     "name": "stdout",
     "output_type": "stream",
     "text": [
      "You are running my_special_function()\n"
     ]
    }
   ],
   "source": [
    "def my_special_function():\n",
    "  print('You are running my_special_function()')\n",
    "  \n",
    "def get_new_func(func):\n",
    "  def call_func():\n",
    "    func()\n",
    "  return call_func\n",
    "\n",
    "# Overwrite `my_special_function` with the new function\n",
    "my_special_function = get_new_func(my_special_function)\n",
    "\n",
    "my_special_function()"
   ]
  },
  {
   "cell_type": "markdown",
   "metadata": {},
   "source": [
    "### Decorators\n",
    "\n",
    "A decorator is a wrapper that changes the default behavior of a function. Decorators can modify the input values, modify the outputs of a function and even change the way a function behaves. Decorators are placed above a newly created function and start with the @ symbol, followed by the decorator's name. \n",
    "\n",
    "#### Creating a Decorator\n",
    "\n",
    "In this example, a function called double_args() takes the arguments of a function and multiplies them by 2. When the double_args() function is applied to multiply() function and assigned to the variable new_multiply and new_multiply is called, the values passed are multiplied by 2 before being multiplied together. "
   ]
  },
  {
   "cell_type": "code",
   "execution_count": 77,
   "metadata": {},
   "outputs": [
    {
     "data": {
      "text/plain": [
       "20"
      ]
     },
     "execution_count": 77,
     "metadata": {},
     "output_type": "execute_result"
    }
   ],
   "source": [
    "def double_args(func):\n",
    "    def wrapper(a, b):\n",
    "        #Call the passed function, but double each argument\n",
    "        return func(a*2, b*2)\n",
    "    return wrapper\n",
    "\n",
    "def multiply(a, b):\n",
    "    #multiply together the valued passed\n",
    "    return a * b\n",
    "\n",
    "new_multiply = double_args(multiply)\n",
    "new_multiply(1,5)"
   ]
  },
  {
   "cell_type": "markdown",
   "metadata": {},
   "source": [
    "Rather than assigning the new function created by double_args() to a new variable name, it can be assigned to the multiply variable name, the same name as the original function, because Python stores the original multiply() function in the new multiply() function's closure."
   ]
  },
  {
   "cell_type": "code",
   "execution_count": 83,
   "metadata": {},
   "outputs": [
    {
     "name": "stdout",
     "output_type": "stream",
     "text": [
      "5\n",
      "20\n"
     ]
    },
    {
     "data": {
      "text/plain": [
       "<function __main__.multiply(a, b)>"
      ]
     },
     "execution_count": 83,
     "metadata": {},
     "output_type": "execute_result"
    }
   ],
   "source": [
    "def multiply(a, b):\n",
    "    return a * b\n",
    "print(multiply(1,5))\n",
    "\n",
    "multiply = double_args(multiply)\n",
    "print(multiply(1,5))\n",
    "\n",
    "multiply.__closure__[0].cell_contents"
   ]
  },
  {
   "attachments": {
    "doubleargsyntax.png": {
     "image/png": "[encoded data removed]"
    }
   },
   "cell_type": "markdown",
   "metadata": {},
   "source": [
    "#### Decorator Syntax\n",
    "\n",
    "Using the @decorator_name syntax is a more convenient way of saying multiply() equals the value returned by calling double_args() with multiply() as the value. The code on the left is the equivalent of the code on the right.\n",
    "\n",
    "![doubleargsyntax.png](attachment:doubleargsyntax.png)"
   ]
  },
  {
   "cell_type": "markdown",
   "metadata": {},
   "source": [
    "### Exercise 4\n",
    "\n",
    "#### Using decorator syntax\n",
    "You have written a decorator called print_args that prints out all of the arguments and their values any time a function that it is decorating gets called.\n",
    "\n",
    "__Instructions:__\n",
    "* Decorate my_function() with the print_args() decorator by redefining my_function().\n",
    "* Decorate my_function() with the print_args() decorator using decorator syntax."
   ]
  },
  {
   "cell_type": "code",
   "execution_count": 1,
   "metadata": {},
   "outputs": [
    {
     "name": "stdout",
     "output_type": "stream",
     "text": [
      "My function was called with values a:1, b:2, c:3\n",
      "<class 'int'>\n",
      "My function was called with values a:1, b:2, c:3\n",
      "<class 'int'>\n"
     ]
    },
    {
     "data": {
      "text/plain": [
       "<function __main__.my_function(a, b, c)>"
      ]
     },
     "execution_count": 1,
     "metadata": {},
     "output_type": "execute_result"
    }
   ],
   "source": [
    "# Recreate the print_args() function that Datacamp has built in\n",
    "def print_args(func):\n",
    "    def wrapper(x, y, z):\n",
    "        print('My function was called with values a:{}, b:{}, c:{}'.format(x,y,z))\n",
    "        return func\n",
    "    return wrapper\n",
    "\n",
    "def my_function(a, b, c):\n",
    "  print(a + b + c)\n",
    "\n",
    "# Decorate my_function() with the print_args() decorator\n",
    "my_function = print_args(my_function)\n",
    "\n",
    "my_function(1, 2, 3)\n",
    "\n",
    "# Decorate my_function() with the print_args() decorator\n",
    "@print_args\n",
    "def my_function(a, b, c):\n",
    "  print(a + b + c)\n",
    "\n",
    "my_function(1, 2, 3)"
   ]
  },
  {
   "cell_type": "markdown",
   "metadata": {},
   "source": [
    "#### Defining a decorator\n",
    "Your buddy has been working on a decorator that prints a \"before\" message before the decorated function is called and prints an \"after\" message after the decorated function is called. They are having trouble remembering how wrapping the decorated function is supposed to work. Help them out by finishing their print_before_and_after() decorator.\n",
    "\n",
    "__Instructions:__\n",
    "* Call the function being decorated and pass it the positional arguments args.\n",
    "* Return the new decorated function."
   ]
  },
  {
   "cell_type": "code",
   "execution_count": 108,
   "metadata": {},
   "outputs": [
    {
     "name": "stdout",
     "output_type": "stream",
     "text": [
      "Before multiply\n",
      "50\n",
      "After multiply\n"
     ]
    }
   ],
   "source": [
    "def print_before_and_after(func):\n",
    "  def wrapper(*args):\n",
    "    print('Before {}'.format(func.__name__))\n",
    "    # Call the function being decorated with *args\n",
    "    func(*args)\n",
    "    print('After {}'.format(func.__name__))\n",
    "  # Return the nested function\n",
    "  return wrapper\n",
    "\n",
    "@print_before_and_after\n",
    "def multiply(a, b):\n",
    "  print(a * b)\n",
    "\n",
    "multiply(5, 10)"
   ]
  }
 ],
 "metadata": {
  "kernelspec": {
   "display_name": "Python 3",
   "language": "python",
   "name": "python3"
  },
  "language_info": {
   "codemirror_mode": {
    "name": "ipython",
    "version": 3
   },
   "file_extension": ".py",
   "mimetype": "text/x-python",
   "name": "python",
   "nbconvert_exporter": "python",
   "pygments_lexer": "ipython3",
   "version": "3.8.5"
  }
 },
 "nbformat": 4,
 "nbformat_minor": 4
}
