{
 "cells": [
  {
   "cell_type": "code",
   "execution_count": 3,
   "metadata": {},
   "outputs": [],
   "source": [
    "#Behind the scenes data creation\n",
    "import pandas as pd\n",
    "import os\n",
    "\n",
    "#Set working directory for importing data files\n",
    "os.chdir(r'c:\\datacamp\\data')\n",
    "avocados = pd.read_pickle('avoplotto.pkl')\n",
    "avocados_2016 = pd.read_csv('avo2016.csv')\n",
    "\n",
    "name = ['Bella', 'Charlie', 'Lucy', 'Cooper', \"Max\", \"Stella\", 'Bernie', \"Sheba\", 'Farrah', 'Poochie', 'Juliet', 'Fawcett', 'Baby', 'Honey', 'Prince', 'King', 'Snow','D-O-G', 'Opal', 'Pearl', 'Mason', 'Cindy','Ralph', 'Fido', 'Albert','Alfred','Amadeus','Atticus','Aurora','Beatrice','Broderick','Brutus','Byron','Cedric','Churchill','Copernicus',\"Daphne\",'Darcy','Denny','Einstein']\n",
    "breed = ['Boxer', 'Poodle', 'Beagle', 'Chihuahua', 'Labrador', 'Labrador', 'Poodle', 'Chow Chow', 'Schnauzer', 'Labrador', 'Chihuahua', 'St. Bernard', 'Boxer', 'St. Bernard', 'Poodle', 'Beagle', 'Beagle', 'Boxer', 'Poodle', 'Beagle', 'Chihuahua', 'Labrador', 'Labrador', 'Poodle', 'Chow Chow', 'Schnauzer', 'Labrador', 'Chihuahua', 'St. Bernard', 'Boxer', 'St. Bernard', 'Poodle', 'Beagle', 'Beagle', 'Boxer', 'Poodle', 'Beagle', 'Chihuahua', 'Labrador', 'Labrador']\n",
    "color = ['Brown', 'Black', 'Brown', 'Tan', 'Tan','Brown', 'Black', 'Brown', 'Gray', 'Black', 'Tan', 'White', 'Gray', 'White', 'Gray', 'White', 'Black', 'Brown', 'Black', 'Brown', 'Tan', 'Tan','Brown', 'Black', 'Black', 'Gray', 'Black', 'Tan', 'White', 'Gray', 'White', 'Gray', 'White', 'Black','Brown', 'Black', 'Brown', 'Tan', 'Tan','Brown']\n",
    "height_cm = [62.64, 46.41, 36.39, 19.70, 54.44, 56, 43, 46, 49, 59, 18, 77, 58.13, 70.13, 51.30, 38.81, 33.40,62.64, 46.41, 36.39, 19.70, 54.44, 56, 43, 46, 49, 59, 18, 77, 58.13, 70.13, 51.30, 38.81, 33.40, 62.64, 46.41, 36.39, 19.70, 54.44, 56]\n",
    "weight_kg = [30.4, 20.4, 12.4, 1.6, 36.1, 25, 23, 22, 17, 29, 2, 74, 29.9, 69.4, 20.4, 8.8, 13.5, 30.4, 20.4, 12.4, 1.6, 36.1, 25, 23, 22, 17, 29, 2, 74, 29.9, 69.4, 20.4, 8.8, 13.5, 30.4, 20.4, 12.4, 1.6, 36.1, 25]\n",
    "sex = [\"M\", \"F\", \"M\", \"M\", \"F\", \"M\", \"F\", 'M', \"M\", \"F\", \"M\", \"M\",\"M\", \"F\", \"M\", \"M\", \"F\", \"M\", \"F\", 'M', \"M\", \"F\", \"M\", \"M\",\"M\", \"F\", \"M\", \"M\", \"F\", \"M\", \"F\", 'M', \"M\", \"F\", \"M\", \"M\",\"M\", \"F\", \"M\", \"M\"]\n",
    "\n",
    "dogs = pd.DataFrame(list(zip(name, breed, color, height_cm, weight_kg, sex)), columns = ['name', 'breed','color', 'height_cm', 'weight_kg', 'sex'])\n",
    "\n",
    "sully = pd.DataFrame({'date':['2019-01-31', '2019-02-28', '2019-03-31', '2019-04-30', '2019-05-31', '2019-06-30', '2019-07-31', '2019-08-31', '2019-09-30', '2019-10-31', '2019-11-30', '2019-12-31'],\n",
    "                    'weight_kg':[36.1, 35.3, 32.0, 32.9, 32, 31.8, 32.5, 35.2, 30.9, 31.2, 30.8, 30.7]})\n",
    "\n",
    "dog_pack = pd.read_csv('DogData.csv')"
   ]
  },
  {
   "cell_type": "markdown",
   "metadata": {},
   "source": [
    "# Data Manipulation with Pandas\n",
    "\n",
    "## Creating and Visualizing DataFrames\n",
    "\n",
    "### Visualizing Your Data\n",
    "\n",
    "#### Histograms\n",
    "Plots are a great way to visualize data. In Python, plots are created with the matplotlib.pyplot package and the standard alias when importing matplotlib.pyplot is plt. \n",
    "\n",
    "A histogram is a common plot and is used to show the distribution of a numeric variable. Using square brackets to select the numeric variable from the DataFrame and calling the .hist() method will generate a histogram of the column of data selected. In order to actually display the plot once it has been generated, it is necessary to call plt.show()"
   ]
  },
  {
   "cell_type": "code",
   "execution_count": 4,
   "metadata": {},
   "outputs": [
    {
     "data": {
      "image/png": "[encoded data removed]",
      "text/plain": [
       "<Figure size 432x288 with 1 Axes>"
      ]
     },
     "metadata": {
      "needs_background": "light"
     },
     "output_type": "display_data"
    }
   ],
   "source": [
    "import matplotlib.pyplot as plt\n",
    "dog_pack['height_cm'].hist()\n",
    "plt.show()"
   ]
  },
  {
   "cell_type": "markdown",
   "metadata": {},
   "source": [
    "The number of bars, referred to as bins, in the histogram can be adjusted using the bins = argument. Increasing and decreasing the number of bins gives a better idea of what the distribution looks like. "
   ]
  },
  {
   "cell_type": "code",
   "execution_count": 3,
   "metadata": {},
   "outputs": [
    {
     "data": {
      "image/png": "[encoded data removed]",
      "text/plain": [
       "<Figure size 432x288 with 1 Axes>"
      ]
     },
     "metadata": {
      "needs_background": "light"
     },
     "output_type": "display_data"
    }
   ],
   "source": [
    "dog_pack['height_cm'].hist(bins = 20)\n",
    "plt.show()"
   ]
  },
  {
   "cell_type": "code",
   "execution_count": 4,
   "metadata": {},
   "outputs": [
    {
     "data": {
      "image/png": "[encoded data removed]",
      "text/plain": [
       "<Figure size 432x288 with 1 Axes>"
      ]
     },
     "metadata": {
      "needs_background": "light"
     },
     "output_type": "display_data"
    }
   ],
   "source": [
    "dog_pack['height_cm'].hist(bins = 5)\n",
    "plt.show()"
   ]
  },
  {
   "cell_type": "markdown",
   "metadata": {},
   "source": [
    "#### Bar Plots\n",
    "\n",
    "Bar plots can reveal relationships between categorical data and numerical data, like breed and weight. To calculate the average weight by breed, the dog_pack DataFram is grouped by breed, the weight_kg is selected and the .mean() method is used to calcuate the mean weight of each breed.\n",
    "\n",
    "From there, a bar plot can be created using the .plot() method and setting the kind = argument to 'bar' and then call the plt.show() method. To add a title to the bar plot, use the title = argument."
   ]
  },
  {
   "cell_type": "code",
   "execution_count": 5,
   "metadata": {
    "scrolled": true
   },
   "outputs": [
    {
     "name": "stdout",
     "output_type": "stream",
     "text": [
      "breed\n",
      "Affenpincher                         4.990\n",
      "Afghan Hound                        27.210\n",
      "Airedale Terrier                    21.770\n",
      "Akita                               47.620\n",
      "Alaskan Malamute                    36.280\n",
      "American Black and Tan Coonhound    26.075\n",
      "American Eskimo Miniature            6.800\n",
      "American Eskimo Standard            11.340\n",
      "Beagle                               8.165\n",
      "Bearded Collie                      22.680\n",
      "Bloodhound                          43.085\n",
      "Border Collie                       20.410\n",
      "Boxer                               28.345\n",
      "Cocker Spaniel American              9.980\n",
      "Collie                              28.345\n",
      "Dachshund Standard                   9.070\n",
      "Dalmatian                           24.040\n",
      "Doberman Pinscher                   35.375\n",
      "English Bulldog                     20.410\n",
      "Irish Setter                        31.745\n",
      "Jack Russell Terrier                 7.260\n",
      "Labrador Retriever                  29.250\n",
      "Lhasa Apso                           6.350\n",
      "Mastiff                             70.295\n",
      "Pekingnese                           5.670\n",
      "Pharaoh Hound                       21.545\n",
      "Pomeranian                           2.495\n",
      "Poodle Standard                     24.490\n",
      "Poodle Toy                           2.040\n",
      "Pug                                  7.030\n",
      "Rhodesian Ridgeback                 31.745\n",
      "Rottweiler                          49.885\n",
      "Saint Bernard                       69.160\n",
      "Schnauzer Standard                  17.005\n",
      "Shiba Inu                           11.340\n",
      "Shih Tzu                             4.310\n",
      "Siberian Husky                      20.410\n",
      "Weimaraner                          23.810\n",
      "Welsh Corgi Cardigan                12.475\n",
      "Whippet                              8.845\n",
      "Yorkshire Terrier                    3.170\n",
      "Name: weight_kg, dtype: float64\n"
     ]
    },
    {
     "data": {
      "image/png": "[encoded data removed]",
      "text/plain": [
       "<Figure size 432x288 with 1 Axes>"
      ]
     },
     "metadata": {
      "needs_background": "light"
     },
     "output_type": "display_data"
    },
    {
     "data": {
      "image/png": "[encoded data removed]",
      "text/plain": [
       "<Figure size 432x288 with 1 Axes>"
      ]
     },
     "metadata": {
      "needs_background": "light"
     },
     "output_type": "display_data"
    }
   ],
   "source": [
    "avg_weight_by_breed = dog_pack.groupby('breed')['weight_kg'].mean()\n",
    "print(avg_weight_by_breed)\n",
    "avg_weight_by_breed.plot(kind = 'bar')\n",
    "plt.show()\n",
    "avg_weight_by_breed.plot(kind = 'bar', title = \"Mean Weight by Breed\")\n",
    "plt.show()"
   ]
  },
  {
   "cell_type": "markdown",
   "metadata": {},
   "source": [
    "#### Line Plots\n",
    "\n",
    "Line plots are great for visualizing changes in numeric variables over time. Sully, a labrador, has been weighed every month by his owner. Let's see how his weight has changed over the year. Using the .plot() method, we pass in three arguments, the x = argument gets the column name that should be displayed on the x axis, the y = argument gets the column name that should be displayed on the y axis and the kind = argument get the type of plot we would like to display, in this case, 'line'. "
   ]
  },
  {
   "cell_type": "code",
   "execution_count": 6,
   "metadata": {},
   "outputs": [
    {
     "name": "stdout",
     "output_type": "stream",
     "text": [
      "         date  weight_kg\n",
      "0  2019-01-31       36.1\n",
      "1  2019-02-28       35.3\n",
      "2  2019-03-31       32.0\n",
      "3  2019-04-30       32.9\n",
      "4  2019-05-31       32.0\n"
     ]
    },
    {
     "data": {
      "image/png": "[encoded data removed]",
      "text/plain": [
       "<Figure size 432x288 with 1 Axes>"
      ]
     },
     "metadata": {
      "needs_background": "light"
     },
     "output_type": "display_data"
    }
   ],
   "source": [
    "print(sully.head())\n",
    "\n",
    "sully.plot(x='date', y='weight_kg', kind = 'line')\n",
    "plt.show()"
   ]
  },
  {
   "cell_type": "markdown",
   "metadata": {},
   "source": [
    "Rotating the x axis labels to make them easier to read is done by setting the rot = argument. In this case we will rotate them 45 degrees."
   ]
  },
  {
   "cell_type": "code",
   "execution_count": 7,
   "metadata": {},
   "outputs": [
    {
     "data": {
      "image/png": "[encoded data removed]",
      "text/plain": [
       "<Figure size 432x288 with 1 Axes>"
      ]
     },
     "metadata": {
      "needs_background": "light"
     },
     "output_type": "display_data"
    }
   ],
   "source": [
    "sully.plot(x='date', y='weight_kg', kind = 'line', rot = 45)\n",
    "plt.show()"
   ]
  },
  {
   "cell_type": "markdown",
   "metadata": {},
   "source": [
    "#### Scatter Plots\n",
    "\n",
    "Scatter plots are great for visualizing relationships between two numeric variables. Providing the x = and y = agruments with the columns names of those that you want to compare and setting the kind = argument to 'scatter' will create a scatter plot once plt.show() is called."
   ]
  },
  {
   "cell_type": "code",
   "execution_count": 8,
   "metadata": {},
   "outputs": [
    {
     "data": {
      "image/png": "[encoded data removed]",
      "text/plain": [
       "<Figure size 432x288 with 1 Axes>"
      ]
     },
     "metadata": {
      "needs_background": "light"
     },
     "output_type": "display_data"
    }
   ],
   "source": [
    "dog_pack.plot(x='height_cm', y='weight_kg', kind = 'scatter')\n",
    "plt.show()"
   ]
  },
  {
   "cell_type": "markdown",
   "metadata": {},
   "source": [
    "#### Layering plots\n",
    "\n",
    "Plots can also be layered on top of one another. In the example below, the heights of female dogs are layered with the heights of male dogs. Using plt.legend and passing in a list of labels will identify which plot color is which. Adding the alpha = argument to each of the histograms will make them translucent so that you can see what is going on behind. "
   ]
  },
  {
   "cell_type": "code",
   "execution_count": 5,
   "metadata": {},
   "outputs": [
    {
     "data": {
      "image/png": "[encoded data removed]",
      "text/plain": [
       "<Figure size 432x288 with 1 Axes>"
      ]
     },
     "metadata": {
      "needs_background": "light"
     },
     "output_type": "display_data"
    }
   ],
   "source": [
    "dog_pack[dog_pack['sex']==\"F\"][\"height_cm\"].hist(alpha=.7)\n",
    "dog_pack[dog_pack['sex']==\"M\"]['height_cm'].hist(alpha=.7)\n",
    "plt.legend([\"F\", \"M\"])\n",
    "plt.show()"
   ]
  },
  {
   "cell_type": "markdown",
   "metadata": {},
   "source": [
    "### Exercise 1\n",
    "#### Which avocado size is most popular?\n",
    "Avocados are increasingly popular and delicious in guacamole and on toast. The Hass Avocado Board keeps track of avocado supply and demand across the USA, including the sales of three different sizes of avocado. In this exercise, you'll use a bar plot to figure out which size is the most popular.<br>\n",
    "<br>\n",
    "Bar plots are great for revealing relationships between categorical (size) and numeric (number sold) variables, but you'll often have to manipulate your data first in order to get the numbers you need for plotting.<br>\n",
    "<br>\n",
    "pandas has been imported as pd, and avocados is available.\n",
    "\n",
    "__Instructions:__\n",
    "* Print the head of the avocados dataset. What columns are available?\n",
    "* For each avocado size group, calculate the total number sold, storing as nb_sold_by_size.\n",
    "* Create a bar plot of the number of avocados sold by size.\n",
    "* Show the plot."
   ]
  },
  {
   "cell_type": "code",
   "execution_count": 6,
   "metadata": {},
   "outputs": [
    {
     "name": "stdout",
     "output_type": "stream",
     "text": [
      "         date          type  year  avg_price   size     nb_sold\n",
      "0  2015-12-27  conventional  2015       0.95  small  9626901.09\n",
      "1  2015-12-20  conventional  2015       0.98  small  8710021.76\n",
      "2  2015-12-13  conventional  2015       0.93  small  9855053.66\n",
      "3  2015-12-06  conventional  2015       0.89  small  9405464.36\n",
      "4  2015-11-29  conventional  2015       0.99  small  8094803.56\n"
     ]
    },
    {
     "data": {
      "image/png": "[encoded data removed]",
      "text/plain": [
       "<Figure size 432x288 with 1 Axes>"
      ]
     },
     "metadata": {
      "needs_background": "light"
     },
     "output_type": "display_data"
    }
   ],
   "source": [
    "# Import matplotlib.pyplot with alias plt\n",
    "import matplotlib.pyplot as plt\n",
    "\n",
    "# Look at the first few rows of data\n",
    "print(avocados.head())\n",
    "\n",
    "# Get the total number of avocados sold of each size\n",
    "nb_sold_by_size = avocados.groupby('size')['nb_sold'].sum()\n",
    "# Create a bar plot of the number of avocados sold by size\n",
    "nb_sold_by_size.plot(kind = 'bar')\n",
    "\n",
    "# Show the plot\n",
    "plt.show()"
   ]
  },
  {
   "cell_type": "markdown",
   "metadata": {},
   "source": [
    "#### Changes in sales over time\n",
    "Line plots are designed to visualize the relationship between two numeric variables, where each data values is connected to the next one. They are especially useful for visualizing change in a number over time, since each time point is naturally connected to the next time point. In this exercise, you'll visualize the change in avocado sales over three years.<br>\n",
    "<br>\n",
    "pandas has been imported as pd.\n",
    "\n",
    "__Instructions:__\n",
    "*  Get the total number of avocados sold on each date. The DataFrame has two rows for each date -- one for organic, and one for conventional. Save this as nb_sold_by_date.\n",
    "*  Create a line plot of the number of avocados sold.\n",
    "*  Show the plot."
   ]
  },
  {
   "cell_type": "code",
   "execution_count": 7,
   "metadata": {},
   "outputs": [
    {
     "data": {
      "image/png": "[encoded data removed]",
      "text/plain": [
       "<Figure size 432x288 with 1 Axes>"
      ]
     },
     "metadata": {
      "needs_background": "light"
     },
     "output_type": "display_data"
    }
   ],
   "source": [
    "# Import matplotlib.pyplot with alias plt\n",
    "import matplotlib.pyplot as plt\n",
    "\n",
    "# Get the total number of avocados sold on each date\n",
    "nb_sold_by_date = avocados.groupby('date')['nb_sold'].sum()\n",
    "\n",
    "# Create a line plot of the number of avocados sold by date\n",
    "nb_sold_by_date.plot(kind = 'line')\n",
    "\n",
    "# Show the plot\n",
    "plt.show()"
   ]
  },
  {
   "cell_type": "markdown",
   "metadata": {},
   "source": [
    "#### Avocado supply and demand\n",
    "Scatter plots are ideal for visualizing relationships between numerical variables. In this exercise, you'll compare the number of avocados sold to average price and see if they're at all related. If they're related, you may be able to use one number to predict the other.<br>\n",
    "<br>\n",
    "matplotlib.pyplot has been imported as plt and pandas has been imported as pd.\n",
    "\n",
    "__Instructions:__\n",
    "*  Create a scatter plot with nb_sold on the x-axis and avg_price on the y-axis. Title it \"Number of avocados sold vs. average price\".\n",
    "*  Show the plot."
   ]
  },
  {
   "cell_type": "code",
   "execution_count": 12,
   "metadata": {},
   "outputs": [
    {
     "data": {
      "image/png": "[encoded data removed]",
      "text/plain": [
       "<Figure size 432x288 with 1 Axes>"
      ]
     },
     "metadata": {
      "needs_background": "light"
     },
     "output_type": "display_data"
    }
   ],
   "source": [
    "# Scatter plot of nb_sold vs avg_price with title\n",
    "avocados.plot(x='nb_sold', y='avg_price', kind = 'scatter', title = \"Number of avocados sold vs. average price\")\n",
    "\n",
    "# Show the plot\n",
    "plt.show()"
   ]
  },
  {
   "cell_type": "markdown",
   "metadata": {},
   "source": [
    "#### Price of conventional vs. organic avocados\n",
    "Creating multiple plots for different subsets of data allows you to compare groups. In this exercise, you'll create multiple histograms to compare the prices of conventional and organic avocados.<br>\n",
    "<br>\n",
    "matplotlib.pyplot has been imported as plt and pandas has been imported as pd.\n",
    "\n",
    "__Instructions 1/3:__\n",
    "* Subset avocados for the conventional type, and the average price column. Create a histogram.\n",
    "* Create a histogram of avg_price for organic type avocados.\n",
    "* Add a legend to your plot, with names \"conventional\" and \"organic\".\n",
    "* Show your plot."
   ]
  },
  {
   "cell_type": "code",
   "execution_count": 39,
   "metadata": {},
   "outputs": [
    {
     "data": {
      "image/png": "[encoded data removed]",
      "text/plain": [
       "<Figure size 432x288 with 1 Axes>"
      ]
     },
     "metadata": {
      "needs_background": "light"
     },
     "output_type": "display_data"
    }
   ],
   "source": [
    "# Histogram of conventional avg_price \n",
    "avocados[avocados['type']=='conventional']['avg_price'].plot(kind = 'hist')\n",
    "\n",
    "# Histogram of organic avg_price\n",
    "avocados[avocados['type']=='organic']['avg_price'].plot(kind = 'hist')\n",
    "\n",
    "# Add a legend\n",
    "plt.legend(['conventional', 'organic'])\n",
    "\n",
    "# Show the plot\n",
    "plt.show()"
   ]
  },
  {
   "cell_type": "markdown",
   "metadata": {},
   "source": [
    "__Instructions 2/3:__\n",
    "* Modify your code to adjust the transparency of both histograms to 0.5 to see how much overlap there is between the two distributions."
   ]
  },
  {
   "cell_type": "code",
   "execution_count": 40,
   "metadata": {},
   "outputs": [
    {
     "data": {
      "image/png": "[encoded data removed]",
      "text/plain": [
       "<Figure size 432x288 with 1 Axes>"
      ]
     },
     "metadata": {
      "needs_background": "light"
     },
     "output_type": "display_data"
    }
   ],
   "source": [
    "# Modify histogram transparency to 0.5 \n",
    "avocados[avocados[\"type\"] == \"conventional\"][\"avg_price\"].hist(alpha = .5)\n",
    "\n",
    "# Modify histogram transparency to 0.5\n",
    "avocados[avocados[\"type\"] == \"organic\"][\"avg_price\"].hist(alpha = .5)\n",
    "\n",
    "# Add a legend\n",
    "plt.legend([\"conventional\", \"organic\"])\n",
    "\n",
    "# Show the plot\n",
    "plt.show()"
   ]
  },
  {
   "cell_type": "markdown",
   "metadata": {},
   "source": [
    "__Instructions 3/3:__\n",
    "* Modify your code to use 20 bins in both histogram"
   ]
  },
  {
   "cell_type": "code",
   "execution_count": 41,
   "metadata": {},
   "outputs": [
    {
     "data": {
      "image/png": "[encoded data removed]",
      "text/plain": [
       "<Figure size 432x288 with 1 Axes>"
      ]
     },
     "metadata": {
      "needs_background": "light"
     },
     "output_type": "display_data"
    }
   ],
   "source": [
    "# Modify bins to 20\n",
    "avocados[avocados[\"type\"] == \"conventional\"][\"avg_price\"].hist(bins = 20, alpha=0.5)\n",
    "\n",
    "# Modify bins to 20\n",
    "avocados[avocados[\"type\"] == \"organic\"][\"avg_price\"].hist(bins = 20, alpha=0.5)\n",
    "\n",
    "# Add a legend\n",
    "plt.legend([\"conventional\", \"organic\"])\n",
    "\n",
    "# Show the plot\n",
    "plt.show()"
   ]
  },
  {
   "cell_type": "markdown",
   "metadata": {},
   "source": [
    "### Missing Values\n",
    "\n",
    "#### What's a Missing Value?\n",
    "\n",
    "Almost all data is going to be incomplete. There is always the possibility that there are some pieces missing from your dataset. In a Pandas DataFrame, missing values are indicated with an NaN (not a number). "
   ]
  },
  {
   "cell_type": "code",
   "execution_count": 42,
   "metadata": {},
   "outputs": [
    {
     "data": {
      "text/html": [
       "<div>\n",
       "<style scoped>\n",
       "    .dataframe tbody tr th:only-of-type {\n",
       "        vertical-align: middle;\n",
       "    }\n",
       "\n",
       "    .dataframe tbody tr th {\n",
       "        vertical-align: top;\n",
       "    }\n",
       "\n",
       "    .dataframe thead th {\n",
       "        text-align: right;\n",
       "    }\n",
       "</style>\n",
       "<table border=\"1\" class=\"dataframe\">\n",
       "  <thead>\n",
       "    <tr style=\"text-align: right;\">\n",
       "      <th></th>\n",
       "      <th>breed</th>\n",
       "      <th>height_cm</th>\n",
       "      <th>weight_kg</th>\n",
       "      <th>sex</th>\n",
       "      <th>color</th>\n",
       "    </tr>\n",
       "  </thead>\n",
       "  <tbody>\n",
       "    <tr>\n",
       "      <th>0</th>\n",
       "      <td>Affenpincher</td>\n",
       "      <td>22.86</td>\n",
       "      <td>4.54</td>\n",
       "      <td>M</td>\n",
       "      <td>white</td>\n",
       "    </tr>\n",
       "    <tr>\n",
       "      <th>1</th>\n",
       "      <td>Affenpincher</td>\n",
       "      <td>30.48</td>\n",
       "      <td>5.44</td>\n",
       "      <td>F</td>\n",
       "      <td>black</td>\n",
       "    </tr>\n",
       "    <tr>\n",
       "      <th>2</th>\n",
       "      <td>Afghan Hound</td>\n",
       "      <td>68.58</td>\n",
       "      <td>27.21</td>\n",
       "      <td>M</td>\n",
       "      <td>red</td>\n",
       "    </tr>\n",
       "    <tr>\n",
       "      <th>3</th>\n",
       "      <td>Afghan Hound</td>\n",
       "      <td>63.50</td>\n",
       "      <td>NaN</td>\n",
       "      <td>F</td>\n",
       "      <td>brown</td>\n",
       "    </tr>\n",
       "    <tr>\n",
       "      <th>4</th>\n",
       "      <td>Airedale Terrier</td>\n",
       "      <td>58.42</td>\n",
       "      <td>21.77</td>\n",
       "      <td>M</td>\n",
       "      <td>white</td>\n",
       "    </tr>\n",
       "    <tr>\n",
       "      <th>...</th>\n",
       "      <td>...</td>\n",
       "      <td>...</td>\n",
       "      <td>...</td>\n",
       "      <td>...</td>\n",
       "      <td>...</td>\n",
       "    </tr>\n",
       "    <tr>\n",
       "      <th>129</th>\n",
       "      <td>NaN</td>\n",
       "      <td>NaN</td>\n",
       "      <td>NaN</td>\n",
       "      <td>NaN</td>\n",
       "      <td>tan</td>\n",
       "    </tr>\n",
       "    <tr>\n",
       "      <th>130</th>\n",
       "      <td>NaN</td>\n",
       "      <td>NaN</td>\n",
       "      <td>NaN</td>\n",
       "      <td>NaN</td>\n",
       "      <td>white</td>\n",
       "    </tr>\n",
       "    <tr>\n",
       "      <th>131</th>\n",
       "      <td>NaN</td>\n",
       "      <td>NaN</td>\n",
       "      <td>NaN</td>\n",
       "      <td>NaN</td>\n",
       "      <td>white</td>\n",
       "    </tr>\n",
       "    <tr>\n",
       "      <th>132</th>\n",
       "      <td>NaN</td>\n",
       "      <td>NaN</td>\n",
       "      <td>NaN</td>\n",
       "      <td>NaN</td>\n",
       "      <td>tan</td>\n",
       "    </tr>\n",
       "    <tr>\n",
       "      <th>133</th>\n",
       "      <td>NaN</td>\n",
       "      <td>NaN</td>\n",
       "      <td>NaN</td>\n",
       "      <td>NaN</td>\n",
       "      <td>red</td>\n",
       "    </tr>\n",
       "  </tbody>\n",
       "</table>\n",
       "<p>134 rows × 5 columns</p>\n",
       "</div>"
      ],
      "text/plain": [
       "                breed  height_cm  weight_kg  sex  color\n",
       "0        Affenpincher      22.86       4.54    M  white\n",
       "1        Affenpincher      30.48       5.44    F  black\n",
       "2        Afghan Hound      68.58      27.21    M    red\n",
       "3        Afghan Hound      63.50        NaN    F  brown\n",
       "4    Airedale Terrier      58.42      21.77    M  white\n",
       "..                ...        ...        ...  ...    ...\n",
       "129               NaN        NaN        NaN  NaN    tan\n",
       "130               NaN        NaN        NaN  NaN  white\n",
       "131               NaN        NaN        NaN  NaN  white\n",
       "132               NaN        NaN        NaN  NaN    tan\n",
       "133               NaN        NaN        NaN  NaN    red\n",
       "\n",
       "[134 rows x 5 columns]"
      ]
     },
     "execution_count": 42,
     "metadata": {},
     "output_type": "execute_result"
    }
   ],
   "source": [
    "dog_pack"
   ]
  },
  {
   "cell_type": "markdown",
   "metadata": {},
   "source": [
    "When you first get a DataFrame, it's a good idea to determine if it contains any missing values using the .isna() method."
   ]
  },
  {
   "cell_type": "code",
   "execution_count": 17,
   "metadata": {},
   "outputs": [
    {
     "data": {
      "text/html": [
       "<div>\n",
       "<style scoped>\n",
       "    .dataframe tbody tr th:only-of-type {\n",
       "        vertical-align: middle;\n",
       "    }\n",
       "\n",
       "    .dataframe tbody tr th {\n",
       "        vertical-align: top;\n",
       "    }\n",
       "\n",
       "    .dataframe thead th {\n",
       "        text-align: right;\n",
       "    }\n",
       "</style>\n",
       "<table border=\"1\" class=\"dataframe\">\n",
       "  <thead>\n",
       "    <tr style=\"text-align: right;\">\n",
       "      <th></th>\n",
       "      <th>breed</th>\n",
       "      <th>height_cm</th>\n",
       "      <th>weight_kg</th>\n",
       "      <th>sex</th>\n",
       "      <th>color</th>\n",
       "    </tr>\n",
       "  </thead>\n",
       "  <tbody>\n",
       "    <tr>\n",
       "      <th>0</th>\n",
       "      <td>False</td>\n",
       "      <td>False</td>\n",
       "      <td>False</td>\n",
       "      <td>False</td>\n",
       "      <td>False</td>\n",
       "    </tr>\n",
       "    <tr>\n",
       "      <th>1</th>\n",
       "      <td>False</td>\n",
       "      <td>False</td>\n",
       "      <td>False</td>\n",
       "      <td>False</td>\n",
       "      <td>False</td>\n",
       "    </tr>\n",
       "    <tr>\n",
       "      <th>2</th>\n",
       "      <td>False</td>\n",
       "      <td>False</td>\n",
       "      <td>False</td>\n",
       "      <td>False</td>\n",
       "      <td>False</td>\n",
       "    </tr>\n",
       "    <tr>\n",
       "      <th>3</th>\n",
       "      <td>False</td>\n",
       "      <td>False</td>\n",
       "      <td>True</td>\n",
       "      <td>False</td>\n",
       "      <td>False</td>\n",
       "    </tr>\n",
       "    <tr>\n",
       "      <th>4</th>\n",
       "      <td>False</td>\n",
       "      <td>False</td>\n",
       "      <td>False</td>\n",
       "      <td>False</td>\n",
       "      <td>False</td>\n",
       "    </tr>\n",
       "    <tr>\n",
       "      <th>...</th>\n",
       "      <td>...</td>\n",
       "      <td>...</td>\n",
       "      <td>...</td>\n",
       "      <td>...</td>\n",
       "      <td>...</td>\n",
       "    </tr>\n",
       "    <tr>\n",
       "      <th>129</th>\n",
       "      <td>True</td>\n",
       "      <td>True</td>\n",
       "      <td>True</td>\n",
       "      <td>True</td>\n",
       "      <td>False</td>\n",
       "    </tr>\n",
       "    <tr>\n",
       "      <th>130</th>\n",
       "      <td>True</td>\n",
       "      <td>True</td>\n",
       "      <td>True</td>\n",
       "      <td>True</td>\n",
       "      <td>False</td>\n",
       "    </tr>\n",
       "    <tr>\n",
       "      <th>131</th>\n",
       "      <td>True</td>\n",
       "      <td>True</td>\n",
       "      <td>True</td>\n",
       "      <td>True</td>\n",
       "      <td>False</td>\n",
       "    </tr>\n",
       "    <tr>\n",
       "      <th>132</th>\n",
       "      <td>True</td>\n",
       "      <td>True</td>\n",
       "      <td>True</td>\n",
       "      <td>True</td>\n",
       "      <td>False</td>\n",
       "    </tr>\n",
       "    <tr>\n",
       "      <th>133</th>\n",
       "      <td>True</td>\n",
       "      <td>True</td>\n",
       "      <td>True</td>\n",
       "      <td>True</td>\n",
       "      <td>False</td>\n",
       "    </tr>\n",
       "  </tbody>\n",
       "</table>\n",
       "<p>134 rows × 5 columns</p>\n",
       "</div>"
      ],
      "text/plain": [
       "     breed  height_cm  weight_kg    sex  color\n",
       "0    False      False      False  False  False\n",
       "1    False      False      False  False  False\n",
       "2    False      False      False  False  False\n",
       "3    False      False       True  False  False\n",
       "4    False      False      False  False  False\n",
       "..     ...        ...        ...    ...    ...\n",
       "129   True       True       True   True  False\n",
       "130   True       True       True   True  False\n",
       "131   True       True       True   True  False\n",
       "132   True       True       True   True  False\n",
       "133   True       True       True   True  False\n",
       "\n",
       "[134 rows x 5 columns]"
      ]
     },
     "execution_count": 17,
     "metadata": {},
     "output_type": "execute_result"
    }
   ],
   "source": [
    "dog_pack.isna()"
   ]
  },
  {
   "cell_type": "markdown",
   "metadata": {},
   "source": [
    ".isna() on it's own is not very helpful with a large dataset. Adding the .any() method will provide a boolean value of True for each variable that has one or more missing values in that column. "
   ]
  },
  {
   "cell_type": "code",
   "execution_count": 18,
   "metadata": {},
   "outputs": [
    {
     "data": {
      "text/plain": [
       "breed         True\n",
       "height_cm     True\n",
       "weight_kg     True\n",
       "sex           True\n",
       "color        False\n",
       "dtype: bool"
      ]
     },
     "execution_count": 18,
     "metadata": {},
     "output_type": "execute_result"
    }
   ],
   "source": [
    "dog_pack.isna().any()"
   ]
  },
  {
   "cell_type": "markdown",
   "metadata": {},
   "source": [
    "Using the .sum() method on the .isna() method will count the number of Trues of missing values in each variable."
   ]
  },
  {
   "cell_type": "code",
   "execution_count": 19,
   "metadata": {},
   "outputs": [
    {
     "data": {
      "text/plain": [
       "breed        52\n",
       "height_cm    56\n",
       "weight_kg    55\n",
       "sex          52\n",
       "color         0\n",
       "dtype: int64"
      ]
     },
     "execution_count": 19,
     "metadata": {},
     "output_type": "execute_result"
    }
   ],
   "source": [
    "dog_pack.isna().sum()"
   ]
  },
  {
   "cell_type": "markdown",
   "metadata": {},
   "source": [
    "Missing values can be visualized using matplotlib bar graphs. This is more useful when there are missing values across a large number of variables. "
   ]
  },
  {
   "cell_type": "code",
   "execution_count": 20,
   "metadata": {},
   "outputs": [
    {
     "data": {
      "image/png": "[encoded data removed]",
      "text/plain": [
       "<Figure size 432x288 with 1 Axes>"
      ]
     },
     "metadata": {
      "needs_background": "light"
     },
     "output_type": "display_data"
    }
   ],
   "source": [
    "import matplotlib.pyplot as plt\n",
    "dog_pack.isna().sum().plot(kind='bar')\n",
    "plt.show()"
   ]
  },
  {
   "cell_type": "markdown",
   "metadata": {},
   "source": [
    "#### Removing Missing Values\n",
    "\n",
    "Once missing data is identified, there are a few options to deal with it. One is to more the missing values using the .dropna() method to remove the rows of the DataFrame that contain missing values. "
   ]
  },
  {
   "cell_type": "code",
   "execution_count": 21,
   "metadata": {},
   "outputs": [
    {
     "data": {
      "text/html": [
       "<div>\n",
       "<style scoped>\n",
       "    .dataframe tbody tr th:only-of-type {\n",
       "        vertical-align: middle;\n",
       "    }\n",
       "\n",
       "    .dataframe tbody tr th {\n",
       "        vertical-align: top;\n",
       "    }\n",
       "\n",
       "    .dataframe thead th {\n",
       "        text-align: right;\n",
       "    }\n",
       "</style>\n",
       "<table border=\"1\" class=\"dataframe\">\n",
       "  <thead>\n",
       "    <tr style=\"text-align: right;\">\n",
       "      <th></th>\n",
       "      <th>breed</th>\n",
       "      <th>height_cm</th>\n",
       "      <th>weight_kg</th>\n",
       "      <th>sex</th>\n",
       "      <th>color</th>\n",
       "    </tr>\n",
       "  </thead>\n",
       "  <tbody>\n",
       "    <tr>\n",
       "      <th>0</th>\n",
       "      <td>Affenpincher</td>\n",
       "      <td>22.86</td>\n",
       "      <td>4.54</td>\n",
       "      <td>M</td>\n",
       "      <td>white</td>\n",
       "    </tr>\n",
       "    <tr>\n",
       "      <th>1</th>\n",
       "      <td>Affenpincher</td>\n",
       "      <td>30.48</td>\n",
       "      <td>5.44</td>\n",
       "      <td>F</td>\n",
       "      <td>black</td>\n",
       "    </tr>\n",
       "    <tr>\n",
       "      <th>2</th>\n",
       "      <td>Afghan Hound</td>\n",
       "      <td>68.58</td>\n",
       "      <td>27.21</td>\n",
       "      <td>M</td>\n",
       "      <td>red</td>\n",
       "    </tr>\n",
       "    <tr>\n",
       "      <th>4</th>\n",
       "      <td>Airedale Terrier</td>\n",
       "      <td>58.42</td>\n",
       "      <td>21.77</td>\n",
       "      <td>M</td>\n",
       "      <td>white</td>\n",
       "    </tr>\n",
       "    <tr>\n",
       "      <th>5</th>\n",
       "      <td>Airedale Terrier</td>\n",
       "      <td>55.88</td>\n",
       "      <td>21.77</td>\n",
       "      <td>F</td>\n",
       "      <td>black</td>\n",
       "    </tr>\n",
       "    <tr>\n",
       "      <th>...</th>\n",
       "      <td>...</td>\n",
       "      <td>...</td>\n",
       "      <td>...</td>\n",
       "      <td>...</td>\n",
       "      <td>...</td>\n",
       "    </tr>\n",
       "    <tr>\n",
       "      <th>77</th>\n",
       "      <td>Welsh Corgi Cardigan</td>\n",
       "      <td>27.94</td>\n",
       "      <td>11.34</td>\n",
       "      <td>F</td>\n",
       "      <td>black</td>\n",
       "    </tr>\n",
       "    <tr>\n",
       "      <th>78</th>\n",
       "      <td>Whippet</td>\n",
       "      <td>50.80</td>\n",
       "      <td>10.43</td>\n",
       "      <td>M</td>\n",
       "      <td>brown</td>\n",
       "    </tr>\n",
       "    <tr>\n",
       "      <th>79</th>\n",
       "      <td>Whippet</td>\n",
       "      <td>48.26</td>\n",
       "      <td>7.26</td>\n",
       "      <td>F</td>\n",
       "      <td>tan</td>\n",
       "    </tr>\n",
       "    <tr>\n",
       "      <th>80</th>\n",
       "      <td>Yorkshire Terrier</td>\n",
       "      <td>27.94</td>\n",
       "      <td>3.17</td>\n",
       "      <td>M</td>\n",
       "      <td>red</td>\n",
       "    </tr>\n",
       "    <tr>\n",
       "      <th>81</th>\n",
       "      <td>Yorkshire Terrier</td>\n",
       "      <td>25.40</td>\n",
       "      <td>3.17</td>\n",
       "      <td>F</td>\n",
       "      <td>white</td>\n",
       "    </tr>\n",
       "  </tbody>\n",
       "</table>\n",
       "<p>75 rows × 5 columns</p>\n",
       "</div>"
      ],
      "text/plain": [
       "                   breed  height_cm  weight_kg sex  color\n",
       "0           Affenpincher      22.86       4.54   M  white\n",
       "1           Affenpincher      30.48       5.44   F  black\n",
       "2           Afghan Hound      68.58      27.21   M    red\n",
       "4       Airedale Terrier      58.42      21.77   M  white\n",
       "5       Airedale Terrier      55.88      21.77   F  black\n",
       "..                   ...        ...        ...  ..    ...\n",
       "77  Welsh Corgi Cardigan      27.94      11.34   F  black\n",
       "78               Whippet      50.80      10.43   M  brown\n",
       "79               Whippet      48.26       7.26   F    tan\n",
       "80     Yorkshire Terrier      27.94       3.17   M    red\n",
       "81     Yorkshire Terrier      25.40       3.17   F  white\n",
       "\n",
       "[75 rows x 5 columns]"
      ]
     },
     "execution_count": 21,
     "metadata": {},
     "output_type": "execute_result"
    }
   ],
   "source": [
    "dog_pack.dropna()"
   ]
  },
  {
   "cell_type": "markdown",
   "metadata": {},
   "source": [
    "#### Replacing Missing Values\n",
    "\n",
    "Dropping the entire row may not be ideal if you have a lot of missing data or if only a few data points are missing in a row with many other data points that are not missing data. Another option is to replacing missing values with another value. The .fillna() method takes in a value and all missing values are replaced with the value provided to .fillna()."
   ]
  },
  {
   "cell_type": "code",
   "execution_count": 22,
   "metadata": {},
   "outputs": [
    {
     "data": {
      "text/html": [
       "<div>\n",
       "<style scoped>\n",
       "    .dataframe tbody tr th:only-of-type {\n",
       "        vertical-align: middle;\n",
       "    }\n",
       "\n",
       "    .dataframe tbody tr th {\n",
       "        vertical-align: top;\n",
       "    }\n",
       "\n",
       "    .dataframe thead th {\n",
       "        text-align: right;\n",
       "    }\n",
       "</style>\n",
       "<table border=\"1\" class=\"dataframe\">\n",
       "  <thead>\n",
       "    <tr style=\"text-align: right;\">\n",
       "      <th></th>\n",
       "      <th>breed</th>\n",
       "      <th>height_cm</th>\n",
       "      <th>weight_kg</th>\n",
       "      <th>sex</th>\n",
       "      <th>color</th>\n",
       "    </tr>\n",
       "  </thead>\n",
       "  <tbody>\n",
       "    <tr>\n",
       "      <th>0</th>\n",
       "      <td>Affenpincher</td>\n",
       "      <td>22.86</td>\n",
       "      <td>4.54</td>\n",
       "      <td>M</td>\n",
       "      <td>white</td>\n",
       "    </tr>\n",
       "    <tr>\n",
       "      <th>1</th>\n",
       "      <td>Affenpincher</td>\n",
       "      <td>30.48</td>\n",
       "      <td>5.44</td>\n",
       "      <td>F</td>\n",
       "      <td>black</td>\n",
       "    </tr>\n",
       "    <tr>\n",
       "      <th>2</th>\n",
       "      <td>Afghan Hound</td>\n",
       "      <td>68.58</td>\n",
       "      <td>27.21</td>\n",
       "      <td>M</td>\n",
       "      <td>red</td>\n",
       "    </tr>\n",
       "    <tr>\n",
       "      <th>3</th>\n",
       "      <td>Afghan Hound</td>\n",
       "      <td>63.50</td>\n",
       "      <td>0.00</td>\n",
       "      <td>F</td>\n",
       "      <td>brown</td>\n",
       "    </tr>\n",
       "    <tr>\n",
       "      <th>4</th>\n",
       "      <td>Airedale Terrier</td>\n",
       "      <td>58.42</td>\n",
       "      <td>21.77</td>\n",
       "      <td>M</td>\n",
       "      <td>white</td>\n",
       "    </tr>\n",
       "    <tr>\n",
       "      <th>...</th>\n",
       "      <td>...</td>\n",
       "      <td>...</td>\n",
       "      <td>...</td>\n",
       "      <td>...</td>\n",
       "      <td>...</td>\n",
       "    </tr>\n",
       "    <tr>\n",
       "      <th>129</th>\n",
       "      <td>0</td>\n",
       "      <td>0.00</td>\n",
       "      <td>0.00</td>\n",
       "      <td>0</td>\n",
       "      <td>tan</td>\n",
       "    </tr>\n",
       "    <tr>\n",
       "      <th>130</th>\n",
       "      <td>0</td>\n",
       "      <td>0.00</td>\n",
       "      <td>0.00</td>\n",
       "      <td>0</td>\n",
       "      <td>white</td>\n",
       "    </tr>\n",
       "    <tr>\n",
       "      <th>131</th>\n",
       "      <td>0</td>\n",
       "      <td>0.00</td>\n",
       "      <td>0.00</td>\n",
       "      <td>0</td>\n",
       "      <td>white</td>\n",
       "    </tr>\n",
       "    <tr>\n",
       "      <th>132</th>\n",
       "      <td>0</td>\n",
       "      <td>0.00</td>\n",
       "      <td>0.00</td>\n",
       "      <td>0</td>\n",
       "      <td>tan</td>\n",
       "    </tr>\n",
       "    <tr>\n",
       "      <th>133</th>\n",
       "      <td>0</td>\n",
       "      <td>0.00</td>\n",
       "      <td>0.00</td>\n",
       "      <td>0</td>\n",
       "      <td>red</td>\n",
       "    </tr>\n",
       "  </tbody>\n",
       "</table>\n",
       "<p>134 rows × 5 columns</p>\n",
       "</div>"
      ],
      "text/plain": [
       "                breed  height_cm  weight_kg sex  color\n",
       "0        Affenpincher      22.86       4.54   M  white\n",
       "1        Affenpincher      30.48       5.44   F  black\n",
       "2        Afghan Hound      68.58      27.21   M    red\n",
       "3        Afghan Hound      63.50       0.00   F  brown\n",
       "4    Airedale Terrier      58.42      21.77   M  white\n",
       "..                ...        ...        ...  ..    ...\n",
       "129                 0       0.00       0.00   0    tan\n",
       "130                 0       0.00       0.00   0  white\n",
       "131                 0       0.00       0.00   0  white\n",
       "132                 0       0.00       0.00   0    tan\n",
       "133                 0       0.00       0.00   0    red\n",
       "\n",
       "[134 rows x 5 columns]"
      ]
     },
     "execution_count": 22,
     "metadata": {},
     "output_type": "execute_result"
    }
   ],
   "source": [
    "dog_pack.fillna(0)"
   ]
  },
  {
   "cell_type": "markdown",
   "metadata": {},
   "source": [
    "More sophisticated techniques are also available and covered in other course.\n",
    "\n",
    "### Exercise 2\n",
    "\n",
    "#### Finding missing values\n",
    "Missing values are everywhere, and you don't want them interfering with your work. Some functions ignore missing data by default, but that's not always the behavior you might want. Some functions can't handle missing values at all, so these values need to be taken care of before you can use them. If you don't know where your missing values are, or if they exist, you could make mistakes in your analysis. In this exercise, you'll determine if there are missing values in the dataset, and if so, how many.\n",
    "\n",
    "__Instructions:__\n",
    "* Print a DataFrame that shows whether each value in avocados_2016 is missing or not.\n",
    "* Print a summary that shows whether any value in each column is missing or not.\n",
    "* Create a bar plot of the total number of missing values in each column."
   ]
  },
  {
   "cell_type": "code",
   "execution_count": 8,
   "metadata": {
    "scrolled": false
   },
   "outputs": [
    {
     "name": "stdout",
     "output_type": "stream",
     "text": [
      "     date  avg_price  total_sold  small_sold  large_sold  xl_sold  \\\n",
      "0   False      False       False       False       False    False   \n",
      "1   False      False       False       False       False    False   \n",
      "2   False      False       False       False        True    False   \n",
      "3   False      False       False       False       False    False   \n",
      "4   False      False       False       False       False     True   \n",
      "5   False      False       False        True       False    False   \n",
      "6   False      False       False       False       False    False   \n",
      "7   False      False       False       False        True    False   \n",
      "8   False      False       False       False       False    False   \n",
      "9   False      False       False       False       False    False   \n",
      "10  False      False       False       False        True    False   \n",
      "11  False      False       False       False       False    False   \n",
      "12  False      False       False       False       False    False   \n",
      "13  False      False       False       False       False    False   \n",
      "14  False      False       False       False       False    False   \n",
      "15  False      False       False       False        True    False   \n",
      "16  False      False       False       False       False     True   \n",
      "17  False      False       False       False       False    False   \n",
      "18  False      False       False       False       False    False   \n",
      "19  False      False       False       False        True    False   \n",
      "20  False      False       False       False       False    False   \n",
      "21  False      False       False       False       False    False   \n",
      "22  False      False       False       False       False    False   \n",
      "23  False      False       False       False       False    False   \n",
      "24  False      False       False       False       False    False   \n",
      "25  False      False       False       False       False    False   \n",
      "26  False      False       False       False       False    False   \n",
      "27  False      False       False       False       False    False   \n",
      "28  False      False       False       False       False    False   \n",
      "29  False      False       False       False       False    False   \n",
      "30  False      False       False       False       False     True   \n",
      "31  False      False       False       False       False    False   \n",
      "32  False      False       False       False       False     True   \n",
      "33  False      False       False       False       False    False   \n",
      "34  False      False       False       False       False    False   \n",
      "35  False      False       False       False       False    False   \n",
      "36  False      False       False        True       False    False   \n",
      "37  False      False       False       False        True    False   \n",
      "38  False      False       False       False       False    False   \n",
      "39  False      False       False       False       False    False   \n",
      "40  False      False       False       False        True    False   \n",
      "41  False      False       False       False       False    False   \n",
      "42  False      False       False       False       False    False   \n",
      "43  False      False       False       False       False    False   \n",
      "44  False      False       False        True       False    False   \n",
      "45  False      False       False       False       False    False   \n",
      "46  False      False       False       False       False    False   \n",
      "47  False      False       False       False       False    False   \n",
      "48  False      False       False       False       False    False   \n",
      "49  False      False       False       False       False    False   \n",
      "50  False      False       False        True       False    False   \n",
      "\n",
      "    total_bags_sold  small_bags_sold  large_bags_sold  xl_bags_sold  \n",
      "0             False            False            False         False  \n",
      "1             False            False            False         False  \n",
      "2             False            False            False         False  \n",
      "3             False            False            False         False  \n",
      "4             False            False            False         False  \n",
      "5             False            False            False         False  \n",
      "6             False            False            False         False  \n",
      "7             False            False            False         False  \n",
      "8             False            False            False         False  \n",
      "9             False            False            False         False  \n",
      "10            False            False            False         False  \n",
      "11            False            False            False         False  \n",
      "12            False            False            False         False  \n",
      "13            False            False            False         False  \n",
      "14            False            False            False         False  \n",
      "15            False            False            False         False  \n",
      "16            False            False            False         False  \n",
      "17            False            False            False         False  \n",
      "18            False            False            False         False  \n",
      "19            False            False            False         False  \n",
      "20            False            False            False         False  \n",
      "21            False            False            False         False  \n",
      "22            False            False            False         False  \n",
      "23            False            False            False         False  \n",
      "24            False            False            False         False  \n",
      "25            False            False            False         False  \n",
      "26            False            False            False         False  \n",
      "27            False            False            False         False  \n",
      "28            False            False            False         False  \n",
      "29            False            False            False         False  \n",
      "30            False            False            False         False  \n",
      "31            False            False            False         False  \n",
      "32            False            False            False         False  \n",
      "33            False            False            False         False  \n",
      "34            False            False            False         False  \n",
      "35            False            False            False         False  \n",
      "36            False            False            False         False  \n",
      "37            False            False            False         False  \n",
      "38            False            False            False         False  \n",
      "39            False            False            False         False  \n",
      "40            False            False            False         False  \n",
      "41            False            False            False         False  \n",
      "42            False            False            False         False  \n",
      "43            False            False            False         False  \n",
      "44            False            False            False         False  \n",
      "45            False            False            False         False  \n",
      "46            False            False            False         False  \n",
      "47            False            False            False         False  \n",
      "48            False            False            False         False  \n",
      "49            False            False            False         False  \n",
      "50            False            False            False         False  \n",
      "date               False\n",
      "avg_price          False\n",
      "total_sold         False\n",
      "small_sold          True\n",
      "large_sold          True\n",
      "xl_sold             True\n",
      "total_bags_sold    False\n",
      "small_bags_sold    False\n",
      "large_bags_sold    False\n",
      "xl_bags_sold       False\n",
      "dtype: bool\n"
     ]
    },
    {
     "data": {
      "image/png": "[encoded data removed]",
      "text/plain": [
       "<Figure size 432x288 with 1 Axes>"
      ]
     },
     "metadata": {
      "needs_background": "light"
     },
     "output_type": "display_data"
    }
   ],
   "source": [
    "# Import matplotlib.pyplot with alias plt\n",
    "import matplotlib.pyplot as plt\n",
    "\n",
    "# Check individual values for missing values\n",
    "print(avocados_2016.isna())\n",
    "\n",
    "# Check each column for missing values\n",
    "print(avocados_2016.isna().any())\n",
    "\n",
    "# Bar plot of missing values by variable\n",
    "avocados_2016.isna().sum().plot(kind = 'bar')\n",
    "\n",
    "# Show plot\n",
    "plt.show()"
   ]
  },
  {
   "cell_type": "markdown",
   "metadata": {},
   "source": [
    "#### Removing Missing Values\n",
    "\n",
    "Now that you know there are some missing values in your DataFrame, you have a few options to deal with them. One way is to remove them from the dataset completely. In this exercise, you'll remove missing values by removing all rows that contain missing values.\n",
    "pandas has been imported as pd and avocados_2016 is available.\n",
    "\n",
    "__Instructions:__\n",
    "* Remove the rows of avocados_2016 that contain missing values and store the remaining rows in avocados_complete.\n",
    "* Verify that all missing values have been removed from avocados_complete. Calculate each columns has any NAs, and print."
   ]
  },
  {
   "cell_type": "code",
   "execution_count": 44,
   "metadata": {},
   "outputs": [
    {
     "name": "stdout",
     "output_type": "stream",
     "text": [
      "date               False\n",
      "avg_price          False\n",
      "total_sold         False\n",
      "small_sold         False\n",
      "large_sold         False\n",
      "xl_sold            False\n",
      "total_bags_sold    False\n",
      "small_bags_sold    False\n",
      "large_bags_sold    False\n",
      "xl_bags_sold       False\n",
      "dtype: bool\n"
     ]
    }
   ],
   "source": [
    "# Remove rows with missing values\n",
    "avocados_complete = avocados_2016.dropna()\n",
    "\n",
    "# Check if any columns contain missing values\n",
    "print(avocados_complete.isna().any())"
   ]
  },
  {
   "cell_type": "markdown",
   "metadata": {},
   "source": [
    "#### Replacing missing values\n",
    "Another way of handling missing values is to replace them all with the same value. For numerical variables, one option is to replace values with 0—you'll do this here. However, when you replace missing values, you make assumptions about what a missing value means. In this case, you will assume that a missing number sold means that no sales for that avocado type were made that week.<br> \n",
    "In this exercise, you'll see how replacing missing values can affect the distribution of a variable using histograms. You can plot histograms for multiple variables at a time as follows:<br>\n",
    "> dogs[[\"height_cm\", \"weight_kg\"]].hist() <br>\n",
    "\n",
    "pandas has been imported as pd and matplotlib.pyplot has been imported as plt.\n",
    "\n",
    "__Instructions 1/2:__\n",
    "\n",
    "* Create a list, cols_with_missing, naming the columns with missing values: \"small_sold\", \"large_sold\", and \"xl_sold\".\n",
    "* Create a histogram of those columns.\n",
    "* Show the plot."
   ]
  },
  {
   "cell_type": "code",
   "execution_count": 45,
   "metadata": {},
   "outputs": [
    {
     "data": {
      "image/png": "[encoded data removed]",
      "text/plain": [
       "<Figure size 432x288 with 1 Axes>"
      ]
     },
     "metadata": {
      "needs_background": "light"
     },
     "output_type": "display_data"
    }
   ],
   "source": [
    "# List the columns with missing values\n",
    "cols_with_missing = ['small_sold', 'large_sold', 'xl_sold']\n",
    "\n",
    "# Create histograms showing the distributions cols_with_missing\n",
    "avocados_2016[cols_with_missing].plot(kind = 'hist')\n",
    "\n",
    "# Show the plot\n",
    "plt.show()"
   ]
  },
  {
   "cell_type": "markdown",
   "metadata": {},
   "source": [
    "__Instructions 2/2:__\n",
    "* Replace the missing values of avocados_2016 with 0s and store the result as avocados_filled.\n",
    "* Create a histogram of the cols_with_missing columns of avocados_filled."
   ]
  },
  {
   "cell_type": "markdown",
   "metadata": {},
   "source": [
    "### Creating DataFrames\n",
    "\n",
    "Getting data into Pandas DataFrames can be done in a few ways, but both involve the use of Dictionaries.\n",
    "\n",
    "#### Dictionaries\n",
    "\n",
    "The dictionary is way to hold data in Python in  key:value(s) pairs. Dictionaries are created using curly braces{}. Inside the curly braces, each value is written as key :(colon) value: key:value. "
   ]
  },
  {
   "cell_type": "code",
   "execution_count": 46,
   "metadata": {},
   "outputs": [],
   "source": [
    "my_dict = {\n",
    "    \"key1\":'value1',\n",
    "    \"key2\":'value2',\n",
    "    \"key3\":'value3'\n",
    "}"
   ]
  },
  {
   "cell_type": "markdown",
   "metadata": {},
   "source": [
    "Let's create a dictionary about a book. In this case, title is a key in this dictionary and Charlotte's Web is its corresponding value and so on. "
   ]
  },
  {
   "cell_type": "code",
   "execution_count": 47,
   "metadata": {},
   "outputs": [],
   "source": [
    "my_bookdict = {\n",
    "    \"title\":\"Charlotte's Web\",\n",
    "    'author':'E.B. White',\n",
    "    'published':1952\n",
    "}"
   ]
  },
  {
   "cell_type": "markdown",
   "metadata": {},
   "source": [
    "Values in a dictionary can be accessed via their keys within square brackets []. "
   ]
  },
  {
   "cell_type": "code",
   "execution_count": 48,
   "metadata": {},
   "outputs": [
    {
     "data": {
      "text/plain": [
       "'value1'"
      ]
     },
     "execution_count": 48,
     "metadata": {},
     "output_type": "execute_result"
    }
   ],
   "source": [
    "my_dict['key1']"
   ]
  },
  {
   "cell_type": "code",
   "execution_count": 49,
   "metadata": {},
   "outputs": [
    {
     "data": {
      "text/plain": [
       "\"Charlotte's Web\""
      ]
     },
     "execution_count": 49,
     "metadata": {},
     "output_type": "execute_result"
    }
   ],
   "source": [
    "my_bookdict['title']"
   ]
  },
  {
   "cell_type": "markdown",
   "metadata": {},
   "source": [
    "Pandas DataFrames can be created using a either a list of dictionaries or a dictionary of lists. \n",
    "\n",
    "##### List of Dictionaries\n",
    "In this case, the DataFrame is built up row by row.\n",
    "\n",
    "##### Dictionary of Lists\n",
    "In this case the DataFrame is built up column by column.\n",
    "\n",
    "We have some new dog data that we want to add and we can do this using either method. For the List of Dictionaries, it is started by creating a new list using square brackets that will hold the dictionaries. "
   ]
  },
  {
   "cell_type": "code",
   "execution_count": 50,
   "metadata": {},
   "outputs": [],
   "source": [
    "#List of Dictionaries: Row by Row\n",
    "\n",
    "list_of_dicts = []"
   ]
  },
  {
   "cell_type": "markdown",
   "metadata": {},
   "source": [
    "Then the first row of data is added as its own dictionary, within its own curly braces, located within the list square brackets. Each key will become a column name and each value will become one dog's data for that column. For the next row we create another dictionary that has the same format with the next dog's data for each key. Once the list of dictionaries is set up, it can be passed into pd.DataFrame() to be converted into a Pandas DataFrame. "
   ]
  },
  {
   "cell_type": "code",
   "execution_count": 51,
   "metadata": {},
   "outputs": [
    {
     "name": "stdout",
     "output_type": "stream",
     "text": [
      "Empty DataFrame\n",
      "Columns: []\n",
      "Index: []\n"
     ]
    }
   ],
   "source": [
    "list_of_dicts = [\n",
    "   \n",
    "    \n",
    "]\n",
    "\n",
    "new_dogs = pd.DataFrame(list_of_dicts)\n",
    "print(new_dogs)"
   ]
  },
  {
   "cell_type": "markdown",
   "metadata": {},
   "source": [
    "For the Dictionary of Lists method. In this method we go through the data column by column. In this method, each key will be a column name, just as in the List of Dictionaries method, but the value for each key will be a list of all the values for the column. \n",
    "\n",
    "The first step is the create a dictionary using curly braces."
   ]
  },
  {
   "cell_type": "code",
   "execution_count": 52,
   "metadata": {},
   "outputs": [],
   "source": [
    "#Dictionary of Lists: Column by Column\n",
    "\n",
    "dict_of_lists = {}"
   ]
  },
  {
   "cell_type": "markdown",
   "metadata": {},
   "source": [
    "Within the curly braces of the dictionary, the first column is created, name, with the values that will fill the column, from top to bottom, located with square brackets used to make a list. Once the dictionary of lists is set up, it can be passed into pd.DataFrame() to be converted into a Pandas DataFrame. "
   ]
  },
  {
   "cell_type": "code",
   "execution_count": 53,
   "metadata": {},
   "outputs": [
    {
     "name": "stdout",
     "output_type": "stream",
     "text": [
      "     name      breed  height_cm  weight_kg         dob\n",
      "0  Ginger  Dachshund         22         10  2019-03-14\n",
      "1   Scout  Dalmation         59         25  2019-05-09\n"
     ]
    }
   ],
   "source": [
    "dict_lists = {\n",
    "    'name':['Ginger','Scout'],\n",
    "    'breed':['Dachshund', 'Dalmation'],\n",
    "    'height_cm':[22, 59],\n",
    "    'weight_kg':[10, 25],\n",
    "    'dob':['2019-03-14','2019-05-09']\n",
    "}\n",
    "\n",
    "new_dogs = pd.DataFrame(dict_lists)\n",
    "print(new_dogs)"
   ]
  },
  {
   "attachments": {
    "avocadodata.png": {
     "image/png": "[encoded data removed]"
    }
   },
   "cell_type": "markdown",
   "metadata": {},
   "source": [
    "## Exercise 3\n",
    "\n",
    "### List of dictionaries\n",
    "You recently got some new avocado data from 2019 that you'd like to put in a DataFrame using the list of dictionaries method. Remember that with this method, you go through the data row by row.\n",
    "\n",
    "![avocadodata.png](attachment:avocadodata.png)\n",
    "\n",
    "__Instructions:__\n",
    "* Create a list of dictionaries with the new data called avocados_list.\n",
    "* Convert the list into a DataFrame called avocados_2019.\n",
    "* Print your new DataFrame."
   ]
  },
  {
   "cell_type": "code",
   "execution_count": 54,
   "metadata": {},
   "outputs": [
    {
     "name": "stdout",
     "output_type": "stream",
     "text": [
      "         date  small_sold  large_sold\n",
      "0  2019-11-03    10376832     7835071\n",
      "1  2019-11-10    10717154     8561348\n"
     ]
    }
   ],
   "source": [
    "# Create a list of dictionaries with new data\n",
    "avocados_list = [\n",
    "    {\"date\": \"2019-11-03\", \"small_sold\": 10376832, \"large_sold\": 7835071},\n",
    "    {\"date\": \"2019-11-10\", \"small_sold\": 10717154, \"large_sold\": 8561348},\n",
    "]\n",
    "\n",
    "# Convert list into DataFrame\n",
    "avocados_2019 = pd.DataFrame(avocados_list)\n",
    "\n",
    "# Print the new DataFrame\n",
    "print(avocados_2019)"
   ]
  },
  {
   "attachments": {
    "avocadodata.png": {
     "image/png": "[encoded data removed]"
    }
   },
   "cell_type": "markdown",
   "metadata": {},
   "source": [
    "#### Dictionary of lists\n",
    "Some more data just came in! This time, you'll use the dictionary of lists method, parsing the data column by column.\n",
    "\n",
    "![avocadodata.png](attachment:avocadodata.png)\n",
    "pandas as pd is imported.\n",
    "\n",
    "__Instructions:__\n",
    "* Create a dictionary of lists with the new data called avocados_dict.\n",
    "* Convert the dictionary to a DataFrame called avocados_2019.\n",
    "* Print your new DataFrame."
   ]
  },
  {
   "cell_type": "code",
   "execution_count": 55,
   "metadata": {},
   "outputs": [
    {
     "name": "stdout",
     "output_type": "stream",
     "text": [
      "         date  small_sold  large_sold\n",
      "0  2019-11-17    10859987     7674135\n",
      "1  2019-12-01     9291631     6238096\n"
     ]
    }
   ],
   "source": [
    "# Create a dictionary of lists with new data\n",
    "avocados_dict = {\n",
    "  \"date\": [\"2019-11-17\", \"2019-12-01\"],\n",
    "  \"small_sold\": [10859987, 9291631],\n",
    "  \"large_sold\": [7674135, 6238096]\n",
    "}\n",
    "\n",
    "# Convert dictionary into DataFrame\n",
    "avocados_2019 = pd.DataFrame(avocados_dict)\n",
    "\n",
    "# Print the new DataFrame\n",
    "print(avocados_2019)"
   ]
  },
  {
   "attachments": {
    "newdogscsv.png": {
     "image/png": "[encoded data removed]"
    }
   },
   "cell_type": "markdown",
   "metadata": {},
   "source": [
    "### Reading and Writing CSVs\n",
    "\n",
    "Typing in your data is not the most efficient way to get your data into a DataFrame. Often data is provided in a comma separated value (CSV) file, a common way to store tabular data, much like a Pandas DataFrame. \n",
    "\n",
    "The new dogs data from above is now stored in a CSV file that looks like this:\n",
    "\n",
    "![newdogscsv.png](attachment:newdogscsv.png)\n",
    "\n",
    "This file can be loaded into a Pandas DataFrame using the Pandas .read_csv() function and passing it the path to the CSV file:"
   ]
  },
  {
   "cell_type": "code",
   "execution_count": 56,
   "metadata": {},
   "outputs": [
    {
     "name": "stdout",
     "output_type": "stream",
     "text": [
      "     name      breed  height_cm  weight_kg        dob\n",
      "0  Ginger  Dachshund         22         10  3/14/2019\n",
      "1   Scout  Dalmation         59         25   5/9/2019\n"
     ]
    }
   ],
   "source": [
    "import pandas as pd\n",
    "new_dogs = pd.read_csv('c:\\\\datacamp\\\\03-DataManipulationswithPandas\\\\data\\\\new_dogs.csv')\n",
    "print(new_dogs)"
   ]
  },
  {
   "cell_type": "markdown",
   "metadata": {},
   "source": [
    "#### DataFrame Manipulation\n",
    "\n",
    "With the data in the DataFrame, the data can be manipulated using the functions covered earlier. A new column can be added to the DataFrame and the values calculated using existing data, i.e. adding a BMI column based on the dogs weight and height.\n"
   ]
  },
  {
   "cell_type": "code",
   "execution_count": 57,
   "metadata": {},
   "outputs": [
    {
     "name": "stdout",
     "output_type": "stream",
     "text": [
      "     name      breed  height_cm  weight_kg        dob         bmi\n",
      "0  Ginger  Dachshund         22         10  3/14/2019  206.611570\n",
      "1   Scout  Dalmation         59         25   5/9/2019   71.818443\n"
     ]
    }
   ],
   "source": [
    "new_dogs['bmi'] = new_dogs['weight_kg']/(new_dogs['height_cm']/100)**2\n",
    "print(new_dogs)"
   ]
  },
  {
   "cell_type": "markdown",
   "metadata": {},
   "source": [
    "An updated CSV file can be created based on the modifications using the .to_csv() function."
   ]
  },
  {
   "cell_type": "code",
   "execution_count": 58,
   "metadata": {},
   "outputs": [],
   "source": [
    "new_dogs.to_csv('c:\\\\datacamp\\\\03-DataManipulationswithPandas\\\\data\\\\new_dogs_with_bmi.csv')"
   ]
  },
  {
   "attachments": {
    "newdogswithbmicsv.png": {
     "image/png": "[encoded data removed]"
    }
   },
   "cell_type": "markdown",
   "metadata": {},
   "source": [
    "If we take a look at the new_dogs_with_bmi file, we see that the new column and its values are included:\n",
    "![newdogswithbmicsv.png](attachment:newdogswithbmicsv.png)\n",
    "\n",
    "## Exercise 2\n",
    "\n",
    "### CSV to DataFrame\n",
    "You work for an airline, and your manager has asked you to do a competitive analysis and see how often passengers flying on other airlines are involuntarily bumped from their flights. You got a CSV file (airline_bumping.csv) from the Department of Transportation containing data on passengers that were involuntarily denied boarding in 2016 and 2017, but it doesn't have the exact numbers you want. In order to figure this out, you'll need to get the CSV into a pandas DataFrame and do some manipulation!\n",
    "\n",
    "__Instructions 1/4:__\n",
    "* Read the CSV file \"airline_bumping.csv\" and store it as a DataFrame called airline_bumping.\n",
    "* Print the first few rows of airline_bumping."
   ]
  },
  {
   "cell_type": "code",
   "execution_count": 9,
   "metadata": {},
   "outputs": [
    {
     "name": "stdout",
     "output_type": "stream",
     "text": [
      "             airline  year  nb_bumped  total_passengers\n",
      "0    DELTA AIR LINES  2017        679          99796155\n",
      "1     VIRGIN AMERICA  2017        165           6090029\n",
      "2    JETBLUE AIRWAYS  2017       1475          27255038\n",
      "3    UNITED AIRLINES  2017       2067          70030765\n",
      "4  HAWAIIAN AIRLINES  2017         92           8422734\n"
     ]
    }
   ],
   "source": [
    "# Read CSV as DataFrame called airline_bumping\n",
    "airline_bumping = pd.read_csv('airline_bumping.csv')\n",
    "\n",
    "# Take a look at the DataFrame\n",
    "print(airline_bumping.head())"
   ]
  },
  {
   "cell_type": "markdown",
   "metadata": {},
   "source": [
    "__Instructions 2/4:__\n",
    " * For each airline group, select the nb_bumped, and total_passengers columns, and calculate the sum (for both years). Store this as airline_totals."
   ]
  },
  {
   "cell_type": "code",
   "execution_count": 60,
   "metadata": {},
   "outputs": [],
   "source": [
    "# For each airline, select nb_bumped and total_passengers and sum\n",
    "airline_totals = airline_bumping.groupby('airline')[[\"nb_bumped\", 'total_passengers']].sum()"
   ]
  },
  {
   "cell_type": "markdown",
   "metadata": {},
   "source": [
    "__Instructions 3/4:__\n",
    " * Create a new column of airline_totals called bumps_per_10k, which is the number of passengers bumped per 10,000 passengers in 2016 and 2017."
   ]
  },
  {
   "cell_type": "code",
   "execution_count": 61,
   "metadata": {},
   "outputs": [],
   "source": [
    "# Create new col, bumps_per_10k: no. of bumps per 10k passengers for each airline\n",
    "airline_totals[\"bumps_per_10k\"] = airline_totals['nb_bumped']/airline_totals['total_passengers'] * 10000"
   ]
  },
  {
   "cell_type": "markdown",
   "metadata": {},
   "source": [
    "__Instructions 4/4:__\n",
    " * Print airline_totals to see the results of your manipulations."
   ]
  },
  {
   "cell_type": "code",
   "execution_count": 62,
   "metadata": {},
   "outputs": [
    {
     "name": "stdout",
     "output_type": "stream",
     "text": [
      "                     nb_bumped  total_passengers  bumps_per_10k\n",
      "airline                                                        \n",
      "ALASKA AIRLINES           1392          36543121       0.380920\n",
      "AMERICAN AIRLINES        11115         197365225       0.563169\n",
      "DELTA AIR LINES           1591         197033215       0.080748\n",
      "EXPRESSJET AIRLINES       3326          27858678       1.193883\n",
      "FRONTIER AIRLINES         1228          22954995       0.534960\n",
      "HAWAIIAN AIRLINES          122          16577572       0.073593\n",
      "JETBLUE AIRWAYS           3615          53245866       0.678926\n",
      "SKYWEST AIRLINES          3094          47091737       0.657015\n",
      "SOUTHWEST AIRLINES       18585         228142036       0.814624\n",
      "SPIRIT AIRLINES           2920          32304571       0.903897\n",
      "UNITED AIRLINES           4941         134468897       0.367446\n",
      "VIRGIN AMERICA             242          12017967       0.201365\n"
     ]
    }
   ],
   "source": [
    "# Print airline_totals\n",
    "print(airline_totals)"
   ]
  },
  {
   "cell_type": "markdown",
   "metadata": {},
   "source": [
    "### DataFrame to CSV\n",
    "You're almost there! To make things easier to read, you'll need to sort the data and export it to CSV so that your colleagues can read it.\n",
    "\n",
    "pandas as pd has been imported for you.\n",
    "\n",
    "__Instructions:__\n",
    "* Sort airline_totals by the values of bumps_per_10k from highest to lowest, storing as airline_totals_sorted.\n",
    "* Print your sorted DataFrame.\n",
    "* Save the sorted DataFrame as a CSV called \"airline_totals_sorted.csv\""
   ]
  },
  {
   "cell_type": "code",
   "execution_count": 63,
   "metadata": {},
   "outputs": [
    {
     "name": "stdout",
     "output_type": "stream",
     "text": [
      "                     nb_bumped  total_passengers  bumps_per_10k\n",
      "airline                                                        \n",
      "EXPRESSJET AIRLINES       3326          27858678       1.193883\n",
      "SPIRIT AIRLINES           2920          32304571       0.903897\n",
      "SOUTHWEST AIRLINES       18585         228142036       0.814624\n",
      "JETBLUE AIRWAYS           3615          53245866       0.678926\n",
      "SKYWEST AIRLINES          3094          47091737       0.657015\n",
      "AMERICAN AIRLINES        11115         197365225       0.563169\n",
      "FRONTIER AIRLINES         1228          22954995       0.534960\n",
      "ALASKA AIRLINES           1392          36543121       0.380920\n",
      "UNITED AIRLINES           4941         134468897       0.367446\n",
      "VIRGIN AMERICA             242          12017967       0.201365\n",
      "DELTA AIR LINES           1591         197033215       0.080748\n",
      "HAWAIIAN AIRLINES          122          16577572       0.073593\n"
     ]
    }
   ],
   "source": [
    "# Create airline_totals_sorted\n",
    "airline_totals_sorted = airline_totals.sort_values('bumps_per_10k', ascending=False )\n",
    "\n",
    "# Print airline_totals_sorted\n",
    "print(airline_totals_sorted)\n",
    "\n",
    "# Save as airline_totals_sorted.csv\n",
    "airline_totals_sorted.to_csv('airline_totals_sorted.csv')"
   ]
  }
 ],
 "metadata": {
  "kernelspec": {
   "display_name": "Python 3",
   "language": "python",
   "name": "python3"
  },
  "language_info": {
   "codemirror_mode": {
    "name": "ipython",
    "version": 3
   },
   "file_extension": ".py",
   "mimetype": "text/x-python",
   "name": "python",
   "nbconvert_exporter": "python",
   "pygments_lexer": "ipython3",
   "version": "3.8.3"
  }
 },
 "nbformat": 4,
 "nbformat_minor": 2
}
