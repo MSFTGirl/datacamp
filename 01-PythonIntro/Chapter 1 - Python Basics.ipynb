{
 "cells": [
  {
   "cell_type": "markdown",
   "metadata": {},
   "source": [
    "# Introduction to Python\n",
    "\n",
    "## Chapter 1 - Python Basics\n",
    "\n",
    "### Exercise 1\n",
    "\n",
    "#### The Python Interface\n",
    "\n",
    "__Instructions__\n",
    " - Experiment in the IPython Shell; type 5 / 8, for example.\n",
    " - Add another line of code to the Python script on the top-right (not in the Shell): print(7 + 10).\n",
    " - Hit Submit Answer to execute the Python script and receive feedback."
   ]
  },
  {
   "cell_type": "code",
   "execution_count": 1,
   "metadata": {},
   "outputs": [
    {
     "name": "stdout",
     "output_type": "stream",
     "text": [
      "0.625\n",
      "17\n"
     ]
    }
   ],
   "source": [
    "# Example, do not modify!\n",
    "print(5 / 8)\n",
    "\n",
    "# Put code below here\n",
    "print(7+10)"
   ]
  },
  {
   "cell_type": "markdown",
   "metadata": {},
   "source": [
    "#### Any comments?\n",
    "Something that Hugo didn't mention in his videos is that you can add comments to your Python scripts. Comments are important to make sure that you and others can understand what your code is about.<br>\n",
    "<br>\n",
    "To add comments to your Python script, you can use the # tag. These comments are not run as Python code, so they will not influence your result. As an example, take the comment on the right, # Division; it is completely ignored during execution.\n",
    "\n",
    "__Instructions__ <br>\n",
    " - Above the print(7 + 10), add the comment # Addition"
   ]
  },
  {
   "cell_type": "code",
   "execution_count": null,
   "metadata": {},
   "outputs": [],
   "source": [
    "# Just testing division\n",
    "print(5 / 8)\n",
    "\n",
    "# Addition\n",
    "print(7 + 10)"
   ]
  },
  {
   "cell_type": "markdown",
   "metadata": {},
   "source": [
    "#### Python as a calculator<br>\n",
    "Python is perfectly suited to do basic calculations. Apart from addition, subtraction, multiplication and division, there is also support for more advanced operations such as:\n",
    "- Exponentiation: $**$. This operator raises the number to its left to the power of the number to its right. For example 4$**$2 will give 16.\n",
    "- Modulo: %. This operator returns the remainder of the division of the number to the left by the number on its right. For example 18 % 7 equals 4.\n",
    "- The code in the script gives some examples.\n",
    "\n",
    "__Instructions__\n",
    " - Suppose you have $100, which you can invest with a 10 percent return each year. After one year, it's 100×1.1=110\n",
    "100×1.1=110 dollars and after two years it's 100×1.1×1.1=121\n",
    " - Add code to calculate how much money you end up with after 7 years, and print the result."
   ]
  },
  {
   "cell_type": "code",
   "execution_count": 3,
   "metadata": {},
   "outputs": [
    {
     "name": "stdout",
     "output_type": "stream",
     "text": [
      "10\n",
      "0\n",
      "15\n",
      "5.0\n",
      "16\n",
      "4\n",
      "194.87171000000012\n"
     ]
    }
   ],
   "source": [
    "#Addition and subtraction\n",
    "print(5+5)\n",
    "print (5-5)\n",
    "\n",
    "#Multiplication and Division\n",
    "print(3*5)\n",
    "print(10/2)\n",
    "\n",
    "#Exponentation\n",
    "print(4**2)\n",
    "\n",
    "#Modulo: %. This operator returns the remainder of the division of the number to the left by the number on its right.\n",
    "print(18%7)\n",
    "\n",
    "#How much is your $100 worth after 7 years\n",
    "print(100*1.1**7)"
   ]
  },
  {
   "cell_type": "markdown",
   "metadata": {},
   "source": [
    "## Variables and Types\n",
    "\n",
    "### Variables\n",
    "\n",
    "In Python, a variable allows you to refer to a value with a name. Variables are assigned with an equal sign (=) and are case sensitive."
   ]
  },
  {
   "cell_type": "code",
   "execution_count": 4,
   "metadata": {},
   "outputs": [
    {
     "data": {
      "text/plain": [
       "1.79"
      ]
     },
     "execution_count": 4,
     "metadata": {},
     "output_type": "execute_result"
    }
   ],
   "source": [
    "height = 1.79\n",
    "weight = 68.7\n",
    "\n",
    "height"
   ]
  },
  {
   "cell_type": "code",
   "execution_count": 5,
   "metadata": {},
   "outputs": [
    {
     "data": {
      "text/plain": [
       "21.44127836209856"
      ]
     },
     "execution_count": 5,
     "metadata": {},
     "output_type": "execute_result"
    }
   ],
   "source": [
    "#BMI = weight / height**2\n",
    "\n",
    "weight/height**2"
   ]
  },
  {
   "cell_type": "code",
   "execution_count": 6,
   "metadata": {},
   "outputs": [
    {
     "data": {
      "text/plain": [
       "21.44127836209856"
      ]
     },
     "execution_count": 6,
     "metadata": {},
     "output_type": "execute_result"
    }
   ],
   "source": [
    "bmi = weight/height**2\n",
    "bmi"
   ]
  },
  {
   "cell_type": "markdown",
   "metadata": {},
   "source": [
    "#### Python Types\n",
    "\n",
    "In Python, there can be many types of variable. You can determine a variable's type by typing type(NAMEofVARIABLE) to determine the variable type: Integer (int) for all whole numbers and Float (float) for all real numbers."
   ]
  },
  {
   "cell_type": "code",
   "execution_count": 6,
   "metadata": {},
   "outputs": [
    {
     "data": {
      "text/plain": [
       "float"
      ]
     },
     "execution_count": 6,
     "metadata": {},
     "output_type": "execute_result"
    }
   ],
   "source": [
    "BMI = weight/height**2\n",
    "BMI\n",
    "type(BMI)"
   ]
  },
  {
   "cell_type": "code",
   "execution_count": 7,
   "metadata": {},
   "outputs": [
    {
     "data": {
      "text/plain": [
       "int"
      ]
     },
     "execution_count": 7,
     "metadata": {},
     "output_type": "execute_result"
    }
   ],
   "source": [
    "days_of_week = 5\n",
    "type(days_of_week)"
   ]
  },
  {
   "cell_type": "markdown",
   "metadata": {},
   "source": [
    "Variable type string is Python's way to represent text using either single or double quotes. Booleans are True or False, yes or no. Booleans are very useful to perform filtering operations on data. "
   ]
  },
  {
   "cell_type": "code",
   "execution_count": 8,
   "metadata": {},
   "outputs": [
    {
     "data": {
      "text/plain": [
       "str"
      ]
     },
     "execution_count": 8,
     "metadata": {},
     "output_type": "execute_result"
    }
   ],
   "source": [
    "x = 'body mass index'\n",
    "y = \"this works too with double quotes\"\n",
    "type(y)"
   ]
  },
  {
   "cell_type": "code",
   "execution_count": 10,
   "metadata": {},
   "outputs": [
    {
     "data": {
      "text/plain": [
       "bool"
      ]
     },
     "execution_count": 10,
     "metadata": {},
     "output_type": "execute_result"
    }
   ],
   "source": [
    "z = True\n",
    "type(z)"
   ]
  },
  {
   "cell_type": "markdown",
   "metadata": {},
   "source": [
    "Depending on the data type, operators will behave differently. The + operator will add together integers or floats and paste together strings. "
   ]
  },
  {
   "cell_type": "code",
   "execution_count": 11,
   "metadata": {},
   "outputs": [
    {
     "data": {
      "text/plain": [
       "5"
      ]
     },
     "execution_count": 11,
     "metadata": {},
     "output_type": "execute_result"
    }
   ],
   "source": [
    "2+3"
   ]
  },
  {
   "cell_type": "code",
   "execution_count": 12,
   "metadata": {},
   "outputs": [
    {
     "data": {
      "text/plain": [
       "'abcd'"
      ]
     },
     "execution_count": 12,
     "metadata": {},
     "output_type": "execute_result"
    }
   ],
   "source": [
    "'ab' + 'cd'"
   ]
  },
  {
   "cell_type": "markdown",
   "metadata": {},
   "source": [
    "### Exercise 2\n",
    "\n",
    "#### Variable Assignment\n",
    "In Python, a variable allows you to refer to a value with a name. To create a variable use =, like this example: x = 5. You can now use the name of this variable, x, instead of the actual value, 5. Remember, = in Python means assignment, it doesn't test equality!<br>\n",
    "<br>\n",
    "__Instructions__\n",
    " - Create a variable savings with the value 100.\n",
    " - Check out this variable by typing print(savings) in the script."
   ]
  },
  {
   "cell_type": "code",
   "execution_count": 9,
   "metadata": {},
   "outputs": [
    {
     "name": "stdout",
     "output_type": "stream",
     "text": [
      "100\n"
     ]
    }
   ],
   "source": [
    "# Create a variable savings\n",
    "savings = 100\n",
    "\n",
    "#Print savings\n",
    "print(savings)"
   ]
  },
  {
   "cell_type": "markdown",
   "metadata": {},
   "source": [
    "#### Calculations with variables\n",
    "Remember how you calculated the money you ended up with after 7 years of investing one hundred dollars? You did something like this: 100 $*$ 1.1 $**$ 7. Instead of calculating with the actual values, you can use variables instead. The savings variable you've created in the previous exercise represents the one hundred dollars you started with. It's up to you to create a new variable to represent 1.1 and then redo the calculations!\n",
    "\n",
    "__Instructions__\n",
    " - Create a variable growth_multiplier, equal to 1.1.\n",
    " - Create a variable, result, equal to the amount of money you saved after 7 years. \n",
    " - Print out the value of result"
   ]
  },
  {
   "cell_type": "code",
   "execution_count": 10,
   "metadata": {},
   "outputs": [
    {
     "name": "stdout",
     "output_type": "stream",
     "text": [
      "194.87171000000012\n"
     ]
    }
   ],
   "source": [
    "# Create a variable savings\n",
    "savings = 100\n",
    "\n",
    "# Create a variable factor\n",
    "growth_multiplier = 1.10\n",
    "\n",
    "# Calculate result\n",
    "result = savings * growth_multiplier ** 7\n",
    "\n",
    "# Print out result\n",
    "print(result)"
   ]
  },
  {
   "cell_type": "markdown",
   "metadata": {},
   "source": [
    "#### Other variable types\n",
    "In the previous exercise, you worked with two Python data types:\n",
    "- int, or integer: a number without a fractional part. savings, with the value 100, is an example of an integer.\n",
    "- float, or floating point: a number that has both an integer and fractional part, separated by a point. growth_multiplier, with the value 1.1, is an example of a float.\n",
    "- Next to numerical data types, there are two other very common data types:\n",
    "- str, or string: a type to represent text. You can use single or double quotes to build a string.\n",
    "- bool, or boolean: a type to represent logical values. Can only be True or False (the capitalization is important!).\n",
    "\n",
    "__Instructions__\n",
    " - Create a new string, desc, with the value \"compound interest\".\n",
    " - Create a new boolean, profitable, with the value True"
   ]
  },
  {
   "cell_type": "code",
   "execution_count": 11,
   "metadata": {},
   "outputs": [],
   "source": [
    "# Create a variable desc\n",
    "desc = \"compound interest\"\n",
    "\n",
    "# Create a variable profitable\n",
    "profitable = True"
   ]
  },
  {
   "cell_type": "markdown",
   "metadata": {},
   "source": [
    "#### Operations with other types\n",
    "Hugo mentioned that different types behave differently in Python. When you sum two strings, for example, you'll get different behavior than when you sum two integers or two booleans. In the script some variables with different types have already been created. It's up to you to use them.\n",
    "\n",
    "__Instructions__\n",
    " - Calculate the product of savings and growth_multiplier. Store the result in year1.\n",
    " - What do you think the resulting type will be? Find out by printing out the type of year1.\n",
    " - Calculate the sum of desc and desc and store the result in a new variable doubledesc.\n",
    " - Print out doubledesc. Did you expect this?"
   ]
  },
  {
   "cell_type": "code",
   "execution_count": 12,
   "metadata": {},
   "outputs": [
    {
     "name": "stdout",
     "output_type": "stream",
     "text": [
      "<class 'float'>\n",
      "compound interestcompound interest\n"
     ]
    }
   ],
   "source": [
    "# Several variables to experiment with\n",
    "savings = 100\n",
    "growth_multiplier = 1.1\n",
    "desc = \"compound interest\"\n",
    "\n",
    "# Assign product of factor and savings to year1\n",
    "year1 = growth_multiplier * savings\n",
    "\n",
    "# Print the type of year1\n",
    "print(type(year1))\n",
    "\n",
    "# Assign sum of desc and desc to doubledesc\n",
    "doubledesc = desc + desc\n",
    "\n",
    "# Print out doubledesc\n",
    "print(doubledesc)"
   ]
  },
  {
   "cell_type": "markdown",
   "metadata": {},
   "source": [
    "Using the + operator to paste together two strings can be very useful in building custom messages.\n",
    "\n",
    "Suppose, for example, that you've calculated the return of your investment and want to summarize the results in a string. You'll need to explicitly convert the types of your variables. More specifically, you'll need str(), to convert a value into a string. str(savings), for example, will convert the float savings to a string. Similar functions such as int(), float() and bool() will help you convert Python values into any type.\n",
    "\n",
    "#### Type conversion\n",
    "Using the + operator to paste together two strings can be very useful in building custom messages. Suppose, for example, that you've calculated the return of your investment and want to summarize the results in a string. Assuming the integer savings and float result are defined, you can try something like this:<br>\n",
    "<br>\n",
    "print('\"I started with \" + savings + \" and now I have \" + result + \". Awesome!\"')<br>\n",
    "<br>\n",
    "This will not work, though, as you cannot simply sum strings and integers/floats. To fix the error, you'll need to explicitly convert the types of your variables. More specifically, you'll need str(), to convert a value into a string. str(savings), for example, will convert the integer savings to a string. Similar functions such as int(), float() and bool() will help you convert Python values into any type.\n",
    "\n",
    "__Instructions__\n",
    " - Hit Run Code to run the code. Try to understand the error message.\n",
    " - Fix the code such that the printout runs without errors; use the function str() to convert the variables to strings.\n",
    " - Convert the variable pi_string to a float and store this float as a new variable, pi_float"
   ]
  },
  {
   "cell_type": "code",
   "execution_count": 1,
   "metadata": {},
   "outputs": [
    {
     "ename": "TypeError",
     "evalue": "can only concatenate str (not \"int\") to str",
     "output_type": "error",
     "traceback": [
      "\u001b[1;31m---------------------------------------------------------------------------\u001b[0m",
      "\u001b[1;31mTypeError\u001b[0m                                 Traceback (most recent call last)",
      "\u001b[1;32m<ipython-input-1-6d88f750dd04>\u001b[0m in \u001b[0;36m<module>\u001b[1;34m\u001b[0m\n\u001b[0;32m      4\u001b[0m \u001b[1;33m\u001b[0m\u001b[0m\n\u001b[0;32m      5\u001b[0m \u001b[1;31m# Original printout\u001b[0m\u001b[1;33m\u001b[0m\u001b[1;33m\u001b[0m\u001b[1;33m\u001b[0m\u001b[0m\n\u001b[1;32m----> 6\u001b[1;33m \u001b[0mprint\u001b[0m\u001b[1;33m(\u001b[0m\u001b[1;34m\"I started with $\"\u001b[0m \u001b[1;33m+\u001b[0m \u001b[0msavings\u001b[0m \u001b[1;33m+\u001b[0m \u001b[1;34m\" and now have $\"\u001b[0m \u001b[1;33m+\u001b[0m \u001b[0mresult\u001b[0m \u001b[1;33m+\u001b[0m \u001b[1;34m\". Awesome!\"\u001b[0m\u001b[1;33m)\u001b[0m\u001b[1;33m\u001b[0m\u001b[1;33m\u001b[0m\u001b[0m\n\u001b[0m\u001b[0;32m      7\u001b[0m \u001b[1;33m\u001b[0m\u001b[0m\n\u001b[0;32m      8\u001b[0m \u001b[1;31m# Fix the printout\u001b[0m\u001b[1;33m\u001b[0m\u001b[1;33m\u001b[0m\u001b[1;33m\u001b[0m\u001b[0m\n",
      "\u001b[1;31mTypeError\u001b[0m: can only concatenate str (not \"int\") to str"
     ]
    }
   ],
   "source": [
    "# Definition of savings and result\n",
    "savings = 100\n",
    "result = 100 * 1.10 ** 7\n",
    "\n",
    "# Original printout\n",
    "print(\"I started with $\" + savings + \" and now have $\" + result + \". Awesome!\")"
   ]
  },
  {
   "cell_type": "code",
   "execution_count": 2,
   "metadata": {},
   "outputs": [
    {
     "name": "stdout",
     "output_type": "stream",
     "text": [
      "I started with $100 and now have $194.87171000000012. Awesome!\n"
     ]
    }
   ],
   "source": [
    "# Fix the printout\n",
    "print(\"I started with $\" + str(savings) + \" and now have $\" + str(result) + \". Awesome!\")\n",
    "\n",
    "# Definition of pi_string\n",
    "pi_string = \"3.1415926\""
   ]
  },
  {
   "cell_type": "code",
   "execution_count": null,
   "metadata": {},
   "outputs": [],
   "source": []
  }
 ],
 "metadata": {
  "kernelspec": {
   "display_name": "Python 3",
   "language": "python",
   "name": "python3"
  },
  "language_info": {
   "codemirror_mode": {
    "name": "ipython",
    "version": 3
   },
   "file_extension": ".py",
   "mimetype": "text/x-python",
   "name": "python",
   "nbconvert_exporter": "python",
   "pygments_lexer": "ipython3",
   "version": "3.8.2"
  }
 },
 "nbformat": 4,
 "nbformat_minor": 2
}
