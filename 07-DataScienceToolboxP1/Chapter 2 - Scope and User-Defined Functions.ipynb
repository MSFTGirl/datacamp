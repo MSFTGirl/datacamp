{
 "cells": [
  {
   "cell_type": "markdown",
   "metadata": {},
   "source": [
    "## Python Data Science Toolbox (Part 1)\n",
    "\n",
    "## Chapter 2 - Scope, Default Arguments and Variable Length Arguments\n",
    "\n",
    "### Lecture - Scope and User Defined Functions\n",
    "\n",
    "Throughout the courses so far, variables have been created and called without any issues. However, not all objects that are defined are accessible everywhere in a program. A variable's scope defines the part of the program where an object or name is accessible. There are three types of scopes:\n",
    "Global Scope - defined in the main body of a program/script\n",
    "Local Scope - defined inside a function. Once the execution of the function is done, any name inside the local scope ceases to exist.\n",
    "Built-in Scope - names in the pre-defined built-ins module that Python provides\n",
    "\n",
    "#### Global vs Local Scope (1)\n",
    "When we look at our square function from Chapter 1, we defined the function and it uses a variable called new_val. Once the function has been executed, we cannot call the new_val variable. This is because the variable new_val was only defined within the scope of the function, it was not defined globally. "
   ]
  },
  {
   "cell_type": "code",
   "execution_count": 1,
   "metadata": {},
   "outputs": [
    {
     "data": {
      "text/plain": [
       "9"
      ]
     },
     "execution_count": 1,
     "metadata": {},
     "output_type": "execute_result"
    }
   ],
   "source": [
    "def square(value):\n",
    "    \"\"\"Returns the square of a number\"\"\"\n",
    "    new_val = value ** 2\n",
    "    return new_val\n",
    "square(3)"
   ]
  },
  {
   "cell_type": "code",
   "execution_count": 2,
   "metadata": {},
   "outputs": [
    {
     "ename": "NameError",
     "evalue": "name 'new_val' is not defined",
     "output_type": "error",
     "traceback": [
      "\u001b[1;31m---------------------------------------------------------------------------\u001b[0m",
      "\u001b[1;31mNameError\u001b[0m                                 Traceback (most recent call last)",
      "\u001b[1;32m<ipython-input-2-e497c98f4b10>\u001b[0m in \u001b[0;36m<module>\u001b[1;34m\u001b[0m\n\u001b[1;32m----> 1\u001b[1;33m \u001b[0mnew_val\u001b[0m\u001b[1;33m\u001b[0m\u001b[1;33m\u001b[0m\u001b[0m\n\u001b[0m",
      "\u001b[1;31mNameError\u001b[0m: name 'new_val' is not defined"
     ]
    }
   ],
   "source": [
    "new_val"
   ]
  },
  {
   "cell_type": "markdown",
   "metadata": {},
   "source": [
    "#### Global vs Local Scope (2)\n",
    "Now, if we define the variable new_val before we define and call the function square, you will see that any time we call the name in the global scope, we will access the variable that is defined in the global scope. Any time we call the name in the local scope of the function, it will look first in the local scope and if Python cannot find the name in the local scope, then it will look in the global scope. "
   ]
  },
  {
   "cell_type": "code",
   "execution_count": 3,
   "metadata": {},
   "outputs": [
    {
     "data": {
      "text/plain": [
       "9"
      ]
     },
     "execution_count": 3,
     "metadata": {},
     "output_type": "execute_result"
    }
   ],
   "source": [
    "new_val = 10\n",
    "def square(value):\n",
    "    \"\"\"Returns the square of a number\"\"\"\n",
    "    new_val = value ** 2\n",
    "    return new_val\n",
    "square(3)"
   ]
  },
  {
   "cell_type": "code",
   "execution_count": 4,
   "metadata": {},
   "outputs": [
    {
     "data": {
      "text/plain": [
       "10"
      ]
     },
     "execution_count": 4,
     "metadata": {},
     "output_type": "execute_result"
    }
   ],
   "source": [
    "new_val"
   ]
  },
  {
   "cell_type": "markdown",
   "metadata": {},
   "source": [
    "For example, note in the code below that the function references the variable new_value, defined in the global scope, so that when the function is called, the global value is accessed, not the value when the function is defined. Thus, if new_val is given a new value, we will get the new value squared."
   ]
  },
  {
   "cell_type": "code",
   "execution_count": 7,
   "metadata": {},
   "outputs": [
    {
     "data": {
      "text/plain": [
       "100"
      ]
     },
     "execution_count": 7,
     "metadata": {},
     "output_type": "execute_result"
    }
   ],
   "source": [
    "new_val = 10\n",
    "def square(value):\n",
    "    \"\"\"Returns the square of a number\"\"\"\n",
    "    new_val2 = new_val ** 2\n",
    "    return new_val2\n",
    "square(3)"
   ]
  },
  {
   "cell_type": "code",
   "execution_count": 8,
   "metadata": {},
   "outputs": [
    {
     "data": {
      "text/plain": [
       "400"
      ]
     },
     "execution_count": 8,
     "metadata": {},
     "output_type": "execute_result"
    }
   ],
   "source": [
    "new_val = 20\n",
    "square(3)"
   ]
  },
  {
   "cell_type": "markdown",
   "metadata": {},
   "source": [
    "As a recap, when we reference a name, first the local scope is searched, then the global. If the name is in neither, then the built-in scope is searched. \n",
    "\n",
    "#### Global vs Local Scope (3)\n",
    "What if we want to alter the value of a global name within an function call? This is where the keyword global is used. Within the function definition, we use the keyword global followed by the name of the variable. In the example below, we declare the variable new_val in the function as a global variable and then return its value squared. When we call the variable new_val after running the function, we see that we can still the value that was updated after the function was called. "
   ]
  },
  {
   "cell_type": "code",
   "execution_count": 10,
   "metadata": {},
   "outputs": [
    {
     "data": {
      "text/plain": [
       "100"
      ]
     },
     "execution_count": 10,
     "metadata": {},
     "output_type": "execute_result"
    }
   ],
   "source": [
    "new_val = 10\n",
    "def square(value):\n",
    "    \"\"\"Returns the square of a number\"\"\"\n",
    "    global new_val\n",
    "    new_val = new_val ** 2\n",
    "    return new_val\n",
    "square(3)"
   ]
  },
  {
   "cell_type": "code",
   "execution_count": 11,
   "metadata": {},
   "outputs": [
    {
     "data": {
      "text/plain": [
       "100"
      ]
     },
     "execution_count": 11,
     "metadata": {},
     "output_type": "execute_result"
    }
   ],
   "source": [
    "new_val"
   ]
  },
  {
   "cell_type": "markdown",
   "metadata": {},
   "source": [
    "### Exercise 1"
   ]
  },
  {
   "cell_type": "code",
   "execution_count": 13,
   "metadata": {},
   "outputs": [
    {
     "name": "stdout",
     "output_type": "stream",
     "text": [
      "team titans\n",
      "justice league\n"
     ]
    }
   ],
   "source": [
    "#The Keyword Global\n",
    "\n",
    "team = \"team titans\"\n",
    "\n",
    "def change_team():\n",
    "    '''Change the value of the global variable team.'''\n",
    "    global team\n",
    "    team = 'justice league'\n",
    "\n",
    "print(team)\n",
    "change_team()\n",
    "print(team)"
   ]
  },
  {
   "cell_type": "markdown",
   "metadata": {},
   "source": [
    "### Lecture - Nested Functions\n",
    "\n",
    "#### Nested Functions - Scope Search\n",
    "Scope becomes important when there are functions within functions. In the example below, Python will first search the scope of the inner function to find the value of x, then it will search of the scope of the outer function for the value of x. The outer function is referred to as an enclosing function of the inner function. If Python can't find x in the scope of the enclosing function, it only then searches for x in the global scope and then the built in scope. \n",
    "\n",
    "def outer(....):\n",
    "  \"\"\"...\"\"\"\n",
    "  x = ...\n",
    "  \n",
    "  def inner(...):\n",
    "     \"\"\"...\"\"\"\n",
    "     y = x ** 2\n",
    "  \n",
    "  return....\n",
    "  \n",
    "#### Nested Functions - Value of\n",
    "Nested functions are useful when it is necessary to use a process a number of times within a function. In example below we have written out the computation for each of the arguments provided in the function, but this is not efficient nor scalable. "
   ]
  },
  {
   "cell_type": "code",
   "execution_count": null,
   "metadata": {},
   "outputs": [],
   "source": [
    "def mod2plus5(x1, x2, x3):\n",
    "    '''Returns the remainder plus 5 of three values'''\n",
    "    newx1 = x1 % 2 + 5\n",
    "    newx2 = x2 % 2 + 5\n",
    "    newx3 = x3 % 2 + 5\n",
    "    \n",
    "    return(newx1, newx2, newx3)"
   ]
  },
  {
   "cell_type": "markdown",
   "metadata": {},
   "source": [
    "Instead, what we can do is created an inner function, as shown below and call it when necessary. The inner function is called a nested function and the syntax is exactly the same as any other function. "
   ]
  },
  {
   "cell_type": "code",
   "execution_count": 1,
   "metadata": {},
   "outputs": [
    {
     "name": "stdout",
     "output_type": "stream",
     "text": [
      "(6, 5, 6)\n"
     ]
    }
   ],
   "source": [
    "def mod2plus5(x1, x2, x3):\n",
    "    '''Returns the remainder plus 5 of 3 values'''\n",
    "    def inner(x):\n",
    "        '''Returns the remainer plus 5 of a value'''\n",
    "        return x % 2 + 5\n",
    "    return(inner(x1), inner(x2), inner(x3))\n",
    "\n",
    "print(mod2plus5(1,2,3))"
   ]
  },
  {
   "cell_type": "markdown",
   "metadata": {},
   "source": [
    "#### Returning Functions\n",
    "Another valueable use case for a nested function is the ability to return a function. In the example below, raised_val returns the nested function inner. \n",
    "\n",
    "Passing the number 2 to raise_val() creates a function that squares any number. Pass the number 3 to raise_val() creates a function that cubes any number. One interesting details is that when we call the function square, it remembered the value of n = 2, as defined when we created the variable square, although the enclosing scope defined by raised_val() and to which n = 2 is local has finished execution. This is a subtly referred to as a closure in computer science and is necessary to be aware of in case you encounter it in the real world. "
   ]
  },
  {
   "cell_type": "code",
   "execution_count": 2,
   "metadata": {},
   "outputs": [
    {
     "name": "stdout",
     "output_type": "stream",
     "text": [
      "25 512\n"
     ]
    }
   ],
   "source": [
    "def raise_val(n):\n",
    "    '''Return the inner function'''\n",
    "    \n",
    "    def inner(x):\n",
    "        \"Raise x to the power of n\"\n",
    "        raised = x ** n\n",
    "        return raised\n",
    "    \n",
    "    return(inner)\n",
    "\n",
    "square = raise_val(2)\n",
    "cube = raise_val(3)\n",
    "print(square(5), cube(8))"
   ]
  },
  {
   "cell_type": "markdown",
   "metadata": {},
   "source": [
    "#### Using Nonlocal Variables\n",
    "Using the keyword global in function definitions to create and change global variables. Similarly, in a nested function, the keyword nonlocal allows you to create and change variables in an enclosing function. In the example below, the value of n is altered using the nonlocal keyword and thus calling outer() returns the value of n as defined in the nested function, inner(), as opposed to the value of n as first defined in the enclosing function of n = 1."
   ]
  },
  {
   "cell_type": "code",
   "execution_count": 4,
   "metadata": {},
   "outputs": [
    {
     "name": "stdout",
     "output_type": "stream",
     "text": [
      "2\n",
      "2\n"
     ]
    }
   ],
   "source": [
    "def outer():\n",
    "    \"\"\"Prints the value of n\"\"\"\n",
    "    n = 1\n",
    "    \n",
    "    def inner():\n",
    "        nonlocal n\n",
    "        n = 2\n",
    "        print(n)\n",
    "    \n",
    "    inner()\n",
    "    print(n)\n",
    "\n",
    "outer()"
   ]
  },
  {
   "cell_type": "markdown",
   "metadata": {},
   "source": [
    "#### Summary\n",
    "Scope search prioritization is known as the LEGB rule:\n",
    "* Local scope\n",
    "* Enclosing function\n",
    "* Global scope\n",
    "* Built-in scope\n",
    "\n",
    "Declaring and naming variables will only be created locally unless the keywords global or nonlocal are first used. \n",
    "\n",
    "### Exercise 2"
   ]
  },
  {
   "cell_type": "code",
   "execution_count": 9,
   "metadata": {},
   "outputs": [
    {
     "name": "stdout",
     "output_type": "stream",
     "text": [
      "('a!!!', 'b!!!', 'c!!!')\n"
     ]
    }
   ],
   "source": [
    "# Nested Functions (1)\n",
    "\n",
    "#Define three_shouts\n",
    "def three_shouts(word1, word2, word3):\n",
    "    \"\"\"Returns a tuple of strings concatenated with '!!!.'\"\"\"\n",
    "    \n",
    "    #Define inner()\n",
    "    def inner(word):\n",
    "        \"\"\"Returns a string concatenated with '!!!.'\"\"\"\n",
    "        return word + \"!!!\"\n",
    "    \n",
    "    #Return a tuple of strings\n",
    "    return (inner(word1), inner(word2), inner(word3))\n",
    "\n",
    "print(three_shouts('a','b','c'))"
   ]
  },
  {
   "cell_type": "code",
   "execution_count": 10,
   "metadata": {},
   "outputs": [
    {
     "name": "stdout",
     "output_type": "stream",
     "text": [
      "hellohello worldworldworld\n"
     ]
    }
   ],
   "source": [
    "# Nested Functions (2)\n",
    "\n",
    "def echo(n):\n",
    "    \"Return the inner_echo function\"\n",
    "    \n",
    "    #define inner_echo\n",
    "    def inner_echo(word1):\n",
    "        \"concatenates n copies of word1\"\n",
    "        echo_word = word1 * n\n",
    "        return echo_word\n",
    "    \n",
    "    return inner_echo\n",
    "\n",
    "twice = echo(2)\n",
    "thrice = echo(3)\n",
    "\n",
    "print(twice(\"hello\"), thrice('world'))"
   ]
  },
  {
   "cell_type": "code",
   "execution_count": 17,
   "metadata": {},
   "outputs": [
    {
     "name": "stdout",
     "output_type": "stream",
     "text": [
      "hellohello\n",
      "hellohello!!!\n"
     ]
    }
   ],
   "source": [
    "#Keyword nonlocal and nested functions\n",
    "\n",
    "def echo_shout(word):\n",
    "    \"Change the value of a nonlocal variable\"\n",
    "    \n",
    "    #Concatenate word with itself and set to variable echo_word\n",
    "    echo_word = word + word\n",
    "    print(echo_word)\n",
    "    \n",
    "    def shout():\n",
    "        \"Alter enclosing scope\"\n",
    "        #Use echo_word in a nonlocal scope\n",
    "        nonlocal echo_word \n",
    "        echo_word = echo_word + \"!!!\"\n",
    "    \n",
    "    shout()\n",
    "    print(echo_word)\n",
    "\n",
    "(echo_shout('hello'))"
   ]
  },
  {
   "cell_type": "markdown",
   "metadata": {},
   "source": [
    "### Lecture - Default and Flexible Arguments\n",
    "When there is a function that takes multiple parameters and there is often a common value for some of these parameters, the function can be called without having to specifically the value for every parameter by setting default values for these parameters. Flexible arguments allow a functions to accept any number of arguments.\n",
    "\n",
    "#### Adding a Default Argument\n",
    "To define a function with a default value for one of the parameters, in the function header we follow the parameter of interest with an equal sign and a default value."
   ]
  },
  {
   "cell_type": "code",
   "execution_count": 18,
   "metadata": {},
   "outputs": [
    {
     "name": "stdout",
     "output_type": "stream",
     "text": [
      "81\n",
      "9\n"
     ]
    }
   ],
   "source": [
    "def power(number, pow = 1):\n",
    "    '''Raise number to the power of pow'''\n",
    "    new_value = number ** pow\n",
    "    return new_value\n",
    "\n",
    "print(power(9,2))\n",
    "print(power(9))"
   ]
  },
  {
   "cell_type": "markdown",
   "metadata": {},
   "source": [
    "#### Flexible Arguments: * args(1)\n",
    "\n",
    "When the function needs to be able to accept as many arguments as needed, using the star symbol with the word args creates a tuple called args made up of all the values provided to the function when it is called. This args tuple can then be used in the body of the function.  "
   ]
  },
  {
   "cell_type": "code",
   "execution_count": 20,
   "metadata": {},
   "outputs": [
    {
     "data": {
      "text/plain": [
       "45"
      ]
     },
     "execution_count": 20,
     "metadata": {},
     "output_type": "execute_result"
    }
   ],
   "source": [
    "def sum_all(*args):\n",
    "    \"\"\"Sum all values in *args together\"\"\"\n",
    "    sum_all = 0\n",
    "    for num in args:\n",
    "        sum_all += num\n",
    "    return sum_all\n",
    "\n",
    "sum_all(5,6,7,8,9,10)"
   ]
  },
  {
   "cell_type": "markdown",
   "metadata": {},
   "source": [
    "#### Flexible Arguments: ** kwargs\n",
    "Using a double star to pass an arbitrary number of keyword arguments (kwargs), or arguments that are preceeded by identifiers. Using the double star and the parameter kwargs turns the identifier keyword pairs into a dictionary named kwargs into the function body."
   ]
  },
  {
   "cell_type": "code",
   "execution_count": 23,
   "metadata": {},
   "outputs": [
    {
     "name": "stdout",
     "output_type": "stream",
     "text": [
      "name: Janine\n",
      "job: Mom\n"
     ]
    }
   ],
   "source": [
    "def print_all(**kwargs):\n",
    "    \"\"\"Print out the key-value pairs in **kwargs\"\"\"\n",
    "    for key, value in kwargs.items():\n",
    "        print(key + \": \" + value)\n",
    "\n",
    "print_all(name = 'Janine', job = 'Mom')"
   ]
  },
  {
   "cell_type": "markdown",
   "metadata": {},
   "source": [
    "Note that it's not the names args and kwargs that are meaningful, but the use of * or ** that defines whether a function will take multiple arguments that are turned into a tuple that will named whatever text is provided following the * or a dictionary that will be named whatever text is provided following the **. \n",
    "\n",
    "def sum_all(* sa_tup):\n",
    "def print_all(** pa_dict):\n",
    "\n",
    "Both work the same as using args and kwargs."
   ]
  },
  {
   "cell_type": "code",
   "execution_count": 29,
   "metadata": {},
   "outputs": [
    {
     "name": "stdout",
     "output_type": "stream",
     "text": [
      "(5, 6, 7, 8)\n",
      "26\n",
      "{'name': 'Janine', 'job': 'Mom'}\n",
      "name: Janine\n",
      "job: Mom\n"
     ]
    }
   ],
   "source": [
    "def sum_all(*sa_tup):\n",
    "    print(sa_tup)\n",
    "    sum_num = 0\n",
    "    for num in sa_tup:\n",
    "        sum_num += num\n",
    "    print(sum_num)\n",
    "\n",
    "sum_all(5,6,7,8)\n",
    "\n",
    "def print_all(**pa_dict):\n",
    "    print(pa_dict)\n",
    "    for key, value in pa_dict.items():\n",
    "        print(key + \": \" + value)\n",
    "\n",
    "print_all(name = \"Janine\", job = \"Mom\")"
   ]
  },
  {
   "cell_type": "markdown",
   "metadata": {},
   "source": [
    "## Exercise (3)"
   ]
  },
  {
   "cell_type": "code",
   "execution_count": 30,
   "metadata": {},
   "outputs": [
    {
     "name": "stdout",
     "output_type": "stream",
     "text": [
      "Hey!!!\n",
      "HeyHeyHeyHeyHey!!!\n"
     ]
    }
   ],
   "source": [
    "# Functions with one default argument\n",
    "\n",
    "def shout_echo(word1, echo = 1):\n",
    "    echo_word = word1 * echo\n",
    "    shout_word = echo_word + \"!!!\"\n",
    "    return shout_word\n",
    "\n",
    "no_echo = shout_echo(\"Hey\")\n",
    "with_echo = shout_echo(\"Hey\", 5)\n",
    "print(no_echo)\n",
    "print(with_echo)"
   ]
  },
  {
   "cell_type": "code",
   "execution_count": 33,
   "metadata": {},
   "outputs": [
    {
     "name": "stdout",
     "output_type": "stream",
     "text": [
      "HEYHEYHEYHEYHEY!!!\n",
      "HEY!!!\n"
     ]
    }
   ],
   "source": [
    "# Functions with multiple default arguments\n",
    "\n",
    "def shout_echo(word1, echo = 1, intense = False):\n",
    "    echo_word = word1 * echo\n",
    "    if intense is True:\n",
    "        echo_word_new = echo_word.upper() + \"!!!\"\n",
    "    else:\n",
    "        echo_word_new = echo_word + \"!!!\"\n",
    "    return echo_word_new\n",
    "\n",
    "with_big_echo = shout_echo(\"Hey\", 5, True)\n",
    "big_no_echo = shout_echo(\"Hey\", intense = True) #note you have to include the argument name intense for this to work properly\n",
    "\n",
    "print(with_big_echo)\n",
    "print(big_no_echo)"
   ]
  },
  {
   "cell_type": "code",
   "execution_count": 34,
   "metadata": {},
   "outputs": [
    {
     "name": "stdout",
     "output_type": "stream",
     "text": [
      "luke\n",
      "lukeleiahanobidarth\n"
     ]
    }
   ],
   "source": [
    "#Functions with variable length arguments\n",
    "\n",
    "def gibberish(*args):\n",
    "    \"\"\"Concatenate strings in *args together\"\"\"\n",
    "    hodgepodge = ''\n",
    "    for word in args:\n",
    "        hodgepodge += word\n",
    "    return hodgepodge\n",
    "\n",
    "one_word = gibberish('luke')\n",
    "many_words = gibberish('luke', 'leia','han', 'obi','darth')\n",
    "\n",
    "print(one_word)\n",
    "print(many_words)"
   ]
  },
  {
   "cell_type": "code",
   "execution_count": 38,
   "metadata": {},
   "outputs": [
    {
     "name": "stdout",
     "output_type": "stream",
     "text": [
      "\n",
      "BEGIN: REPORT\n",
      "\n",
      "name: luke\n",
      "affliation: jedi\n",
      "status: missing\n",
      "\n",
      " END REPORT\n",
      "\n",
      "BEGIN: REPORT\n",
      "\n",
      "name: anakin\n",
      "affiliation: sith lord\n",
      "status: deceased\n",
      "\n",
      " END REPORT\n"
     ]
    }
   ],
   "source": [
    "#Functions with variable length keyword arguments\n",
    "\n",
    "def report_status(**kwargs):\n",
    "    \"\"\"Print ou the status of a movie character\"\"\"\n",
    "    print(\"\\nBEGIN: REPORT\\n\")\n",
    "    for key, value in kwargs.items():\n",
    "        print(key + \": \" + value)\n",
    "    print(\"\\n END REPORT\")\n",
    "\n",
    "report_status(name = 'luke', affliation = 'jedi', status = 'missing')\n",
    "report_status(name = 'anakin', affiliation = 'sith lord', status = 'deceased')"
   ]
  },
  {
   "cell_type": "markdown",
   "metadata": {},
   "source": [
    "### Exercise (4)"
   ]
  },
  {
   "cell_type": "code",
   "execution_count": 1,
   "metadata": {},
   "outputs": [
    {
     "name": "stdout",
     "output_type": "stream",
     "text": [
      "{'en': 97, 'et': 1, 'und': 2}\n",
      "{'<a href=\"http://twitter.com\" rel=\"nofollow\">Twitter Web Client</a>': 24, '<a href=\"http://www.facebook.com/twitter\" rel=\"nofollow\">Facebook</a>': 1, '<a href=\"http://twitter.com/download/android\" rel=\"nofollow\">Twitter for Android</a>': 26, '<a href=\"http://twitter.com/download/iphone\" rel=\"nofollow\">Twitter for iPhone</a>': 33, '<a href=\"http://www.twitter.com\" rel=\"nofollow\">Twitter for BlackBerry</a>': 2, '<a href=\"http://www.google.com/\" rel=\"nofollow\">Google</a>': 2, '<a href=\"http://twitter.com/#!/download/ipad\" rel=\"nofollow\">Twitter for iPad</a>': 6, '<a href=\"http://linkis.com\" rel=\"nofollow\">Linkis.com</a>': 2, '<a href=\"http://rutracker.org/forum/viewforum.php?f=93\" rel=\"nofollow\">newzlasz</a>': 2, '<a href=\"http://ifttt.com\" rel=\"nofollow\">IFTTT</a>': 1, '<a href=\"http://www.myplume.com/\" rel=\"nofollow\">Plume\\xa0for\\xa0Android</a>': 1}\n"
     ]
    }
   ],
   "source": [
    "#Bringing it all together using the count_entries example from Chapter 1\n",
    "import os\n",
    "os.chdir('c:\\\\datacamp\\\\data\\\\')\n",
    "import pandas as pd\n",
    "tweets_df = pd.read_csv('tweets.csv')\n",
    "\n",
    "def count_entries(df, col_name = 'lang'):\n",
    "    \"\"\"Returns a dictionary with counts of occurrences as value for each key\"\"\"\n",
    "    col_count = {}\n",
    "    col = df[col_name]\n",
    "    for entry in col:\n",
    "        if entry in col_count.keys():\n",
    "            col_count[entry] += 1\n",
    "        else:\n",
    "            col_count[entry] = 1\n",
    "    return col_count\n",
    "\n",
    "result1 = count_entries(tweets_df)\n",
    "result2 = count_entries(tweets_df, 'source')\n",
    "\n",
    "print(result1)\n",
    "print(result2)"
   ]
  },
  {
   "cell_type": "code",
   "execution_count": 1,
   "metadata": {},
   "outputs": [
    {
     "name": "stdout",
     "output_type": "stream",
     "text": [
      "{'en': 97, 'et': 1, 'und': 2}\n",
      "{'<a href=\"http://twitter.com\" rel=\"nofollow\">Twitter Web Client</a>': 24, '<a href=\"http://www.facebook.com/twitter\" rel=\"nofollow\">Facebook</a>': 1, '<a href=\"http://twitter.com/download/android\" rel=\"nofollow\">Twitter for Android</a>': 26, '<a href=\"http://twitter.com/download/iphone\" rel=\"nofollow\">Twitter for iPhone</a>': 33, '<a href=\"http://www.twitter.com\" rel=\"nofollow\">Twitter for BlackBerry</a>': 2, '<a href=\"http://www.google.com/\" rel=\"nofollow\">Google</a>': 2, '<a href=\"http://twitter.com/#!/download/ipad\" rel=\"nofollow\">Twitter for iPad</a>': 6, '<a href=\"http://linkis.com\" rel=\"nofollow\">Linkis.com</a>': 2, '<a href=\"http://rutracker.org/forum/viewforum.php?f=93\" rel=\"nofollow\">newzlasz</a>': 2, '<a href=\"http://ifttt.com\" rel=\"nofollow\">IFTTT</a>': 1, '<a href=\"http://www.myplume.com/\" rel=\"nofollow\">Plume\\xa0for\\xa0Android</a>': 1}\n"
     ]
    }
   ],
   "source": [
    "'''Bringing it all together (2)\n",
    "generalize this function one step further by allowing the user to pass it a flexible argument, that is, in this case, \n",
    "as many column names as the user would like'''\n",
    "\n",
    "import pandas as pd\n",
    "tweets_df = pd.read_csv('C:\\\\datacamp\\\\data\\\\tweets.csv')\n",
    "\n",
    "def count_entries(df, *args):\n",
    "    '''Return a dictionary with counts of occurences as value for each key'''\n",
    "    cols_count = {}\n",
    "    \n",
    "    #Iterate over column names in args\n",
    "    for col_name in args:\n",
    "        col = df[col_name]\n",
    "        for entry in col:\n",
    "            if entry in cols_count.keys():\n",
    "                cols_count[entry] += 1\n",
    "            else:\n",
    "                cols_count[entry] = 1\n",
    "        return cols_count\n",
    "\n",
    "result1 = count_entries(tweets_df, \"lang\")\n",
    "result2 = count_entries(tweets_df, \"source\")\n",
    "\n",
    "print(result1)\n",
    "print(result2)"
   ]
  }
 ],
 "metadata": {
  "kernelspec": {
   "display_name": "Python 3",
   "language": "python",
   "name": "python3"
  },
  "language_info": {
   "codemirror_mode": {
    "name": "ipython",
    "version": 3
   },
   "file_extension": ".py",
   "mimetype": "text/x-python",
   "name": "python",
   "nbconvert_exporter": "python",
   "pygments_lexer": "ipython3",
   "version": "3.8.3"
  }
 },
 "nbformat": 4,
 "nbformat_minor": 2
}
