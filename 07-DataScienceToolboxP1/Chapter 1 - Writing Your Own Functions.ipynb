{
 "cells": [
  {
   "cell_type": "markdown",
   "metadata": {},
   "source": [
    "# Python Data Science Toolbox Part 1\n",
    "\n",
    "## Chapter 1 - Writing Your Own Functions\n",
    "\n",
    "### Lecture - User Defined Functions\n",
    "\n",
    "Sometimes you will need functionality that specific to your needs and you will want to be able to reuse this functionality and that is when you will create your own user defined functions. The first step is writing the function header using the key word def and giving your function a name(). The example below does not have any parameters that would be included between the parentheses."
   ]
  },
  {
   "cell_type": "code",
   "execution_count": 1,
   "metadata": {},
   "outputs": [
    {
     "name": "stdout",
     "output_type": "stream",
     "text": [
      "16\n"
     ]
    }
   ],
   "source": [
    "def square() :     # <- function header\n",
    "    new_value = 4 ** 2  # <- function body\n",
    "    print(new_value)\n",
    "    \n",
    "square()"
   ]
  },
  {
   "cell_type": "markdown",
   "metadata": {},
   "source": [
    "To allow for user defined parameters, you add a variable name to the function header between the parentheses.\n",
    "\n",
    "A quick word on parameters and arguments: When you define a function, you write parameters in the function header. when you call a function, you pass arguments into the function.  "
   ]
  },
  {
   "cell_type": "code",
   "execution_count": 2,
   "metadata": {},
   "outputs": [
    {
     "name": "stdout",
     "output_type": "stream",
     "text": [
      "16\n"
     ]
    }
   ],
   "source": [
    "def square(value) :     \n",
    "    new_value = value ** 2  \n",
    "    print(new_value)\n",
    "    \n",
    "square(4)"
   ]
  },
  {
   "cell_type": "markdown",
   "metadata": {},
   "source": [
    "If you don't the function to print the value directly, but instead want to return the square value and assign it to some variable, you add the return key word rather than print the outcome."
   ]
  },
  {
   "cell_type": "code",
   "execution_count": 3,
   "metadata": {},
   "outputs": [
    {
     "data": {
      "text/plain": [
       "16"
      ]
     },
     "execution_count": 3,
     "metadata": {},
     "output_type": "execute_result"
    }
   ],
   "source": [
    "def square(value) :     \n",
    "    new_value = value ** 2  \n",
    "    return new_value\n",
    "    \n",
    "num = square(4)\n",
    "num"
   ]
  },
  {
   "cell_type": "markdown",
   "metadata": {},
   "source": [
    "Docstrings are another important part of writing a function. Docstrings describe what your function does and serves as documentation for anyone else who is reading your function and keeps them from having to trace through all the code in the function definition. Function Docstrings are placed in the immediate line after the function header between triple quotation marks '''. "
   ]
  },
  {
   "cell_type": "code",
   "execution_count": null,
   "metadata": {},
   "outputs": [],
   "source": [
    "def square(value) :\n",
    "    '''Returns the square of a value'''\n",
    "    new_value = value ** 2  \n",
    "    return new_value"
   ]
  },
  {
   "cell_type": "markdown",
   "metadata": {},
   "source": [
    "### Exercise 1 - User Defined Functions"
   ]
  },
  {
   "cell_type": "markdown",
   "metadata": {},
   "source": [
    "Docstrings are another important part of writing a function. Docstrings describe what your function does and serves as documentation for anyone else who is reading your function and keeps them from having to trace through all the code in the fu"
   ]
  },
  {
   "cell_type": "code",
   "execution_count": 4,
   "metadata": {},
   "outputs": [
    {
     "name": "stdout",
     "output_type": "stream",
     "text": [
      "congratulations!!!\n"
     ]
    }
   ],
   "source": [
    "# Write a simple function\n",
    "\n",
    "def shout() : \n",
    "    '''Print a string with three exclamation marks'''\n",
    "    shout_word = \"congratulations\" + \"!!!\"\n",
    "    print(shout_word)\n",
    "\n",
    "shout()"
   ]
  },
  {
   "cell_type": "code",
   "execution_count": 6,
   "metadata": {},
   "outputs": [
    {
     "name": "stdout",
     "output_type": "stream",
     "text": [
      "congratulations!!!\n"
     ]
    }
   ],
   "source": [
    "#Single parameter function\n",
    "\n",
    "def shout(word) :\n",
    "    '''Print a string with 3 exclamation marks'''\n",
    "    shout_word = word + \"!!!\"\n",
    "    print(shout_word)\n",
    "\n",
    "shout('congratulations')"
   ]
  },
  {
   "cell_type": "code",
   "execution_count": 7,
   "metadata": {},
   "outputs": [
    {
     "name": "stdout",
     "output_type": "stream",
     "text": [
      "congratulations!!!\n"
     ]
    }
   ],
   "source": [
    "#Functions that return a single value\n",
    "\n",
    "def shout(word):\n",
    "    '''Return a string with 3 exclamation marks'''\n",
    "    shout_word = word + \"!!!\"\n",
    "    return shout_word\n",
    "\n",
    "yell = shout(\"congratulations\")\n",
    "print(yell)"
   ]
  },
  {
   "cell_type": "markdown",
   "metadata": {},
   "source": [
    "### Lecture - Multiple Parameters and Return Values\n",
    "\n",
    "Using our square function, we will learn how to pass multiple arguments by allowing the user to define the power as well as the value to be raised to that power. "
   ]
  },
  {
   "cell_type": "code",
   "execution_count": 8,
   "metadata": {},
   "outputs": [
    {
     "name": "stdout",
     "output_type": "stream",
     "text": [
      "8\n"
     ]
    }
   ],
   "source": [
    "def raise_to_power(value1, value2):\n",
    "    '''Raise value1 to the power of value2'''\n",
    "    new_value = value1 ** value2\n",
    "    return new_value\n",
    "\n",
    "result = raise_to_power(2,3)\n",
    "print(result)"
   ]
  },
  {
   "cell_type": "markdown",
   "metadata": {},
   "source": [
    "#### Tuples\n",
    "You can also make the function return multiple values by constructing objects known as Tuples. A tuple is like a list, in that it can contain multiple values, but unlike a list, a tuple is immutable. That means that the values in a tuple cannot be changed once it has been constructed. While lists are defined using square brackets, tuples are defined using parentheses. \n",
    "\n",
    "Tuples can be unpacked into several variables on a single line. In the example below, you assign the variables a, b and c the values in the tuple in the order they appear in the tuple."
   ]
  },
  {
   "cell_type": "code",
   "execution_count": 9,
   "metadata": {},
   "outputs": [
    {
     "name": "stdout",
     "output_type": "stream",
     "text": [
      "2\n",
      "4\n",
      "6\n"
     ]
    }
   ],
   "source": [
    "even_nums = (2,4,6)\n",
    "a,b,c = even_nums\n",
    "print(a)\n",
    "print(b)\n",
    "print(c)"
   ]
  },
  {
   "cell_type": "markdown",
   "metadata": {},
   "source": [
    "In addition, you can access individual tuple elements like you do with lists, using square brackets to identify the index of the value you want to select."
   ]
  },
  {
   "cell_type": "code",
   "execution_count": 10,
   "metadata": {},
   "outputs": [
    {
     "name": "stdout",
     "output_type": "stream",
     "text": [
      "4\n"
     ]
    }
   ],
   "source": [
    "even_nums = (2,4,6)\n",
    "print(even_nums[1])"
   ]
  },
  {
   "cell_type": "markdown",
   "metadata": {},
   "source": [
    "We can modify our raise_to_power to provide two values, one for value1 raised to the power of value2 and value2 raised to the power of value1, using tuples."
   ]
  },
  {
   "cell_type": "code",
   "execution_count": 11,
   "metadata": {},
   "outputs": [
    {
     "name": "stdout",
     "output_type": "stream",
     "text": [
      "(8, 9)\n"
     ]
    }
   ],
   "source": [
    "def raise_both(value1, value2) :\n",
    "    '''Raise value1 to the power of value2 and vice versa'''\n",
    "    new_value1 = value1 ** value2\n",
    "    new_value2 = value2 ** value1\n",
    "    new_tuple = (new_value1, new_value2)\n",
    "    return new_tuple\n",
    "\n",
    "result = raise_both(2,3)\n",
    "print(result)"
   ]
  },
  {
   "cell_type": "markdown",
   "metadata": {},
   "source": [
    "### Exercise 2 Functions with Multiple Parameters"
   ]
  },
  {
   "cell_type": "code",
   "execution_count": 12,
   "metadata": {},
   "outputs": [
    {
     "name": "stdout",
     "output_type": "stream",
     "text": [
      "congratulations!!!you!!!\n"
     ]
    }
   ],
   "source": [
    "#Functions with multiple parameters\n",
    "\n",
    "def shout(word1, word2) :\n",
    "    '''Concatenate strings with 3 exclamation marks'''\n",
    "    shout1 = word1 + \"!!!\"\n",
    "    shout2 = word2 + \"!!!\"\n",
    "    new_shout = shout1 + shout2\n",
    "    return new_shout\n",
    "\n",
    "yell = shout('congratulations', 'you')\n",
    "print(yell)"
   ]
  },
  {
   "cell_type": "code",
   "execution_count": 13,
   "metadata": {},
   "outputs": [
    {
     "ename": "TypeError",
     "evalue": "'tuple' object does not support item assignment",
     "output_type": "error",
     "traceback": [
      "\u001b[1;31m---------------------------------------------------------------------------\u001b[0m",
      "\u001b[1;31mTypeError\u001b[0m                                 Traceback (most recent call last)",
      "\u001b[1;32m<ipython-input-13-1faa52fece3c>\u001b[0m in \u001b[0;36m<module>\u001b[1;34m\u001b[0m\n\u001b[0;32m      2\u001b[0m \u001b[1;33m\u001b[0m\u001b[0m\n\u001b[0;32m      3\u001b[0m \u001b[0mnums\u001b[0m \u001b[1;33m=\u001b[0m \u001b[1;33m(\u001b[0m\u001b[1;36m3\u001b[0m\u001b[1;33m,\u001b[0m\u001b[1;36m4\u001b[0m\u001b[1;33m,\u001b[0m\u001b[1;36m6\u001b[0m\u001b[1;33m)\u001b[0m\u001b[1;33m\u001b[0m\u001b[1;33m\u001b[0m\u001b[0m\n\u001b[1;32m----> 4\u001b[1;33m \u001b[0mnums\u001b[0m\u001b[1;33m[\u001b[0m\u001b[1;36m0\u001b[0m\u001b[1;33m]\u001b[0m \u001b[1;33m=\u001b[0m \u001b[1;36m2\u001b[0m\u001b[1;33m\u001b[0m\u001b[1;33m\u001b[0m\u001b[0m\n\u001b[0m\u001b[0;32m      5\u001b[0m \u001b[1;33m\u001b[0m\u001b[0m\n\u001b[0;32m      6\u001b[0m \u001b[0mnum1\u001b[0m\u001b[1;33m,\u001b[0m \u001b[0mnum2\u001b[0m\u001b[1;33m,\u001b[0m \u001b[0mnum3\u001b[0m \u001b[1;33m=\u001b[0m \u001b[0mnums\u001b[0m\u001b[1;33m\u001b[0m\u001b[1;33m\u001b[0m\u001b[0m\n",
      "\u001b[1;31mTypeError\u001b[0m: 'tuple' object does not support item assignment"
     ]
    }
   ],
   "source": [
    "#A brief introduction to tuples\n",
    "\n",
    "nums = (3,4,6)\n",
    "nums[0] = 2\n",
    "\n"
   ]
  },
  {
   "cell_type": "code",
   "execution_count": 17,
   "metadata": {},
   "outputs": [],
   "source": [
    "nums = (3,4,6)\n",
    "num1, num2, num3 = nums\n",
    "\n",
    "even_nums = (2,4,6)"
   ]
  },
  {
   "cell_type": "code",
   "execution_count": 18,
   "metadata": {},
   "outputs": [
    {
     "name": "stdout",
     "output_type": "stream",
     "text": [
      "congratulations!!!\n",
      "you!!!\n"
     ]
    }
   ],
   "source": [
    "#Functions that return multiple values\n",
    "def shout_all(word1, word2):\n",
    "    shout1 = word1 + \"!!!\"\n",
    "    shout2 = word2 + \"!!!\"\n",
    "    shout_words = (shout1, shout2)\n",
    "    return shout_words\n",
    "\n",
    "yell1, yell2 = shout_all(\"congratulations\", 'you')\n",
    "\n",
    "print(yell1)\n",
    "print(yell2)"
   ]
  },
  {
   "cell_type": "markdown",
   "metadata": {},
   "source": [
    "### Lecture - Bringing it all together\n",
    "\n",
    "Basic ingredients of a function\n",
    "* Function header starting with the key word def\n",
    "    def raise_both(value1, value2):\n",
    "* Function body which contains docstrings contained in triple quotation marks to document what the function does. The rest of the body performs the computation and then closes with the key word return followed by the value or values returned by the function. \n",
    "    \"raises value1 to the power of value2 and vice versa\"\n",
    "    new_value1 = value1 ** value2\n",
    "    new_value2 = value2 ** value1\n",
    "    new_tuple = (new_value1, new_value2)\n",
    "    return new_tuple"
   ]
  },
  {
   "cell_type": "markdown",
   "metadata": {},
   "source": [
    "### Exercise 3 - Bringing it all together"
   ]
  },
  {
   "cell_type": "code",
   "execution_count": 1,
   "metadata": {},
   "outputs": [
    {
     "name": "stdout",
     "output_type": "stream",
     "text": [
      "{'en': 97, 'et': 1, 'und': 2}\n"
     ]
    }
   ],
   "source": [
    "#Bringing it all together(1)\n",
    "import os\n",
    "os.chdir('c:\\\\datacamp\\\\data\\\\')\n",
    "import pandas as pd\n",
    "df = pd.read_csv('tweets.csv')\n",
    "\n",
    "# Initialize an empty dictionary: langs_count\n",
    "langs_count = {}\n",
    "\n",
    "# Extract column from DataFrame: col\n",
    "col = df['lang']\n",
    "\n",
    "# Iterate over lang column in DataFrame\n",
    "for entry in col:\n",
    "\n",
    "    # If the language is in langs_count, add 1 \n",
    "    if entry in langs_count.keys():\n",
    "        langs_count[entry] = langs_count[entry] + 1\n",
    "    # Else add the language to langs_count, set the value to 1\n",
    "    else:\n",
    "        langs_count[str(entry)] = 1\n",
    "\n",
    "# Print the populated dictionary\n",
    "print(langs_count)"
   ]
  },
  {
   "cell_type": "code",
   "execution_count": 2,
   "metadata": {},
   "outputs": [
    {
     "name": "stdout",
     "output_type": "stream",
     "text": [
      "{'en': 97, 'et': 1, 'und': 2}\n"
     ]
    }
   ],
   "source": [
    "'''Bringing it all together (2)\n",
    "generalize this function one step further by allowing the user to pass it a flexible argument, that is, in this case, \n",
    "as many column names as the user would like'''\n",
    "\n",
    "import pandas as pd\n",
    "tweets_df = pd.read_csv('tweets.csv')\n",
    "\n",
    "def count_entries(df, col_name):\n",
    "    \"\"\"Return a dictionary with counts of \n",
    "    occurrences as value for each key.\"\"\"\n",
    "\n",
    "    # Initialize an empty dictionary: langs_count\n",
    "    langs_count = {}\n",
    "    \n",
    "    # Extract column from DataFrame: col\n",
    "    col = tweets_df[col_name]\n",
    "\n",
    "    # Iterate over lang column in DataFrame\n",
    "    for entry in col:\n",
    "\n",
    "        # If the language is in langs_count, add 1\n",
    "        if entry in langs_count.keys():\n",
    "            langs_count[entry] = langs_count[entry] + 1\n",
    "        # Else add the language to langs_count, set the value to 1\n",
    "        else:\n",
    "            langs_count[str(entry)] = 1\n",
    "\n",
    "    # Return the langs_count dictionary\n",
    "    return langs_count\n",
    "\n",
    "# Call count_entries(): result\n",
    "result = count_entries(tweets_df,'lang')\n",
    "\n",
    "# Print the result\n",
    "print(result)"
   ]
  }
 ],
 "metadata": {
  "kernelspec": {
   "display_name": "Python 3",
   "language": "python",
   "name": "python3"
  },
  "language_info": {
   "codemirror_mode": {
    "name": "ipython",
    "version": 3
   },
   "file_extension": ".py",
   "mimetype": "text/x-python",
   "name": "python",
   "nbconvert_exporter": "python",
   "pygments_lexer": "ipython3",
   "version": "3.8.3"
  }
 },
 "nbformat": 4,
 "nbformat_minor": 2
}
