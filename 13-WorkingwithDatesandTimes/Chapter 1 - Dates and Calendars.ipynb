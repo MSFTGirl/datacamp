{
 "cells": [
  {
   "cell_type": "markdown",
   "metadata": {},
   "source": [
    "# Working with Dates and Times in Python\n",
    "\n",
    "## Chapter 1 - Dates and Calendars\n",
    "\n",
    "### Dates in Python\n",
    "\n",
    "#### Creating Dates\n",
    "Dates, like strings and other Python objects, have special rules for creating them and methods for working with them. The date class needs to be imported from the DataTime package and using the date() function of the date class, date objects can be created. The date() function accepts, in order, the year month and day separated by commas. Order is remembered as longest to shortest in terms of length of time.\n",
    "\n",
    "#### Date Attributes\n",
    "The resulting date object has .year, .month and .day attributes that can used to identify each part of the date. "
   ]
  },
  {
   "cell_type": "code",
   "execution_count": 11,
   "metadata": {},
   "outputs": [
    {
     "name": "stdout",
     "output_type": "stream",
     "text": [
      "2016\n",
      "10\n",
      "7\n"
     ]
    }
   ],
   "source": [
    "import os\n",
    "import pickle as pkl\n",
    "os.chdir('c:\\\\datacamp\\\\data\\\\')\n",
    "from datetime import date\n",
    "\n",
    "two_hurricane_dates = [date(2016, 10, 7), date(2017, 6, 21)]\n",
    "\n",
    "print(two_hurricane_dates[0].year)\n",
    "print(two_hurricane_dates[0].month)\n",
    "print(two_hurricane_dates[0].day)"
   ]
  },
  {
   "cell_type": "markdown",
   "metadata": {},
   "source": [
    "#### Finding the Day of the Week\n",
    "\n",
    "More complicated tasks can also be accomplished. Methods like .weekday() will return the date of the week that corresponds to the specific date. The result is an integer. Python counts week days starting at zero and Monday:\n",
    "0 - Monday\n",
    "1 - Tuesday\n",
    "2 - Wednesday\n",
    "3 - Thursday\n",
    "4 - Friday\n",
    "5 - Saturday"
   ]
  },
  {
   "cell_type": "code",
   "execution_count": 5,
   "metadata": {},
   "outputs": [
    {
     "name": "stdout",
     "output_type": "stream",
     "text": [
      "4\n"
     ]
    }
   ],
   "source": [
    "print(two_hurricane_dates[0].weekday())"
   ]
  },
  {
   "cell_type": "markdown",
   "metadata": {},
   "source": [
    "### Exercise 1\n",
    "\n",
    "#### Which day of the week?\n",
    "Hurricane Andrew, which hit Florida on August 24, 1992, was one of the costliest and deadliest hurricanes in US history. Which day of the week did it make landfall?\n",
    "\n",
    "Let's walk through all of the steps to figure this out.\n",
    "\n",
    "__Instructions:__\n",
    "* Import date from datetime.\n",
    "* Create a date object for August 24, 1992.\n",
    "* Now ask Python what day of the week Hurricane Andrew hit (remember that Python counts days of the week starting from Monday as 0, Tuesday as 1, and so on)."
   ]
  },
  {
   "cell_type": "code",
   "execution_count": 71,
   "metadata": {},
   "outputs": [
    {
     "data": {
      "text/plain": [
       "0"
      ]
     },
     "execution_count": 71,
     "metadata": {},
     "output_type": "execute_result"
    }
   ],
   "source": [
    "from datetime import date\n",
    "andrew = date(1992, 8, 24)\n",
    "andrew.weekday()"
   ]
  },
  {
   "cell_type": "markdown",
   "metadata": {},
   "source": [
    "#### How many hurricanes come early?\n",
    "In this chapter, you will work with a list of the hurricanes that made landfall in Florida from 1950 to 2017. There were 235 in total. Check out the variable florida_hurricane_dates, which has all of these dates.\n",
    "\n",
    "Atlantic hurricane season officially begins on June 1. How many hurricanes since 1950 have made landfall in Florida before the official start of hurricane season?\n",
    "\n",
    "__Instructions:__\n",
    "* Complete the for loop to iterate through florida_hurricane_dates.\n",
    "* Complete the if statement to increment the counter (early_hurricanes) if the hurricane made landfall before June."
   ]
  },
  {
   "cell_type": "code",
   "execution_count": 72,
   "metadata": {},
   "outputs": [
    {
     "name": "stdout",
     "output_type": "stream",
     "text": [
      "10\n"
     ]
    }
   ],
   "source": [
    "# Counter for how many before June 1\n",
    "early_hurricanes = 0\n",
    "\n",
    "# We loop over the dates\n",
    "for hurricane in florida_hurricane_dates:\n",
    "  # Check if the month is before June (month number 6)\n",
    "  if hurricane.month < 6:\n",
    "    early_hurricanes = early_hurricanes + 1\n",
    "    \n",
    "print(early_hurricanes)"
   ]
  },
  {
   "cell_type": "markdown",
   "metadata": {},
   "source": [
    "### Math with Dates\n",
    "\n",
    "Python enables math with dates by using a number line like object, a calendar line. Each dot on the calendar line represents a specific date. When date objects are created, under the hood Python is creating a calendar line. \n",
    "\n",
    "And just like numbers, two dates can be subtracted; the resulting object is a timedelta object which gives the elapsed time between events. By calling the .days attribute of the timedelta object, it returns the number of days between each dates.\n",
    "\n",
    "Time deltas can also be used in the other direction. Importing timedelta from datetime and using the timedelta function, a timedelta object can be created, in this example, a 29 day time delta. When the timedelta object is added to the original date, the second date is the outcome. Python handled the fact that November only has 30 days and can handle when years are leap years. "
   ]
  },
  {
   "cell_type": "code",
   "execution_count": 70,
   "metadata": {},
   "outputs": [
    {
     "name": "stdout",
     "output_type": "stream",
     "text": [
      "2017-11-05\n",
      "29\n",
      "2017-12-04\n"
     ]
    }
   ],
   "source": [
    "from datetime import date\n",
    "d1 = date(2017, 11, 5)\n",
    "d2 = date(2017, 12, 4)\n",
    "\n",
    "l = [d1, d2]\n",
    "print(min(l))\n",
    "\n",
    "delta = d2 - d1\n",
    "print(delta.days)\n",
    "\n",
    "from datetime import timedelta\n",
    "td = timedelta(days = 29)\n",
    "print(d1 + td)\n"
   ]
  },
  {
   "cell_type": "markdown",
   "metadata": {},
   "source": [
    "### Exercise 2\n",
    "\n",
    "#### Subtracting dates\n",
    "Python date objects let us treat calendar dates as something similar to numbers: we can compare them, sort them, add, and even subtract them. This lets us do math with dates in a way that would be a pain to do by hand.\n",
    "\n",
    "The 2007 Florida hurricane season was one of the busiest on record, with 8 hurricanes in one year. The first one hit on May 9th, 2007, and the last one hit on December 13th, 2007. How many days elapsed between the first and last hurricane in 2007?\n",
    "\n",
    "__Instructions:__\n",
    "* Import date from datetime.\n",
    "* Create a date object for May 9th, 2007, and assign it to the start variable.\n",
    "* Create a date object for December 13th, 2007, and assign it to the end variable.\n",
    "* Subtract start from end, to print the number of days in the resulting timedelta object."
   ]
  },
  {
   "cell_type": "code",
   "execution_count": 52,
   "metadata": {},
   "outputs": [
    {
     "name": "stdout",
     "output_type": "stream",
     "text": [
      "218\n"
     ]
    }
   ],
   "source": [
    "# Import date\n",
    "from datetime import date\n",
    "\n",
    "# Create a date object for May 9th, 2007\n",
    "start = date(2007, 5, 9)\n",
    "\n",
    "# Create a date object for December 13th, 2007\n",
    "end = date(2007, 12, 13)\n",
    "\n",
    "# Subtract the two dates and print the number of days\n",
    "print((end - start).days)"
   ]
  },
  {
   "cell_type": "markdown",
   "metadata": {},
   "source": [
    "#### Counting events per calendar month\n",
    "Hurricanes can make landfall in Florida throughout the year. As we've already discussed, some months are more hurricane-prone than others.\n",
    "\n",
    "Using florida_hurricane_dates, let's see how hurricanes in Florida were distributed across months throughout the year.\n",
    "\n",
    "We've created a dictionary called hurricanes_each_month to hold your counts and set the initial counts to zero. You will loop over the list of hurricanes, incrementing the correct month in hurricanes_each_month as you go, and then print the result.\n",
    "\n",
    "__Instructions:__\n",
    "* Within the for loop:\n",
    "> * Assign month to be the month of that hurricane.<br>\n",
    "> * Increment hurricanes_each_month for the relevant month by 1."
   ]
  },
  {
   "cell_type": "code",
   "execution_count": 50,
   "metadata": {},
   "outputs": [
    {
     "name": "stdout",
     "output_type": "stream",
     "text": [
      "{1: 0, 2: 1, 3: 0, 4: 1, 5: 8, 6: 32, 7: 21, 8: 49, 9: 70, 10: 43, 11: 9, 12: 1}\n"
     ]
    }
   ],
   "source": [
    "#Load data for this exercise\n",
    "florida_hurricane_dates = pkl.load(open('florida_hurricane_dates.pkl','rb'))\n",
    "\n",
    "# A dictionary to count hurricanes per calendar month\n",
    "hurricanes_each_month = {1: 0, 2: 0, 3: 0, 4: 0, 5: 0, 6:0, 7: 0, 8:0, 9:0, 10:0, 11:0, 12:0}\n",
    "\n",
    "# Loop over all hurricanes\n",
    "for hurricane in florida_hurricane_dates:\n",
    "  # Pull out the month\n",
    "  month = hurricane.month\n",
    "  # Increment the count in your dictionary by one\n",
    "  hurricanes_each_month[month] += 1\n",
    "  \n",
    "print(hurricanes_each_month)"
   ]
  },
  {
   "cell_type": "markdown",
   "metadata": {},
   "source": [
    "#### Putting a list of dates in order\n",
    "Much like numbers and strings, date objects in Python can be put in order. Earlier dates come before later ones, and so we can sort a list of date objects from earliest to latest.\n",
    "\n",
    "What if our Florida hurricane dates had been scrambled? We've gone ahead and shuffled them so they're in random order and saved the results as dates_scrambled. Your job is to put them back in chronological order, and then print the first and last dates from this sorted list.\n",
    "\n",
    "__Instructions:__\n",
    "* Print the first and last dates in dates_scrambled.\n",
    "* Sort dates_scrambled using Python's built-in sorted() method, and save the results to dates_ordered.\n",
    "* Print the first and last dates in dates_ordered."
   ]
  },
  {
   "cell_type": "code",
   "execution_count": 63,
   "metadata": {},
   "outputs": [
    {
     "name": "stdout",
     "output_type": "stream",
     "text": [
      "1988-08-04\n",
      "2011-07-18\n",
      "1950-08-31\n",
      "2017-10-29\n"
     ]
    }
   ],
   "source": [
    "#Create the scrambled date list\n",
    "import datetime\n",
    "dates_scrambled = [datetime.date(1988, 8, 4),  datetime.date(1990, 10, 12),  datetime.date(2003, 4, 20),  datetime.date(1971, 9, 1),  datetime.date(1988, 8, 23),  datetime.date(1994, 8, 15),  datetime.date(2002, 8, 4),  datetime.date(1988, 5, 30),  datetime.date(2003, 9, 13),  datetime.date(2009, 8, 21),  datetime.date(1978, 6, 22),  datetime.date(1969, 6, 9),  datetime.date(1976, 6, 11),  datetime.date(1976, 8, 19),  datetime.date(1966, 6, 9),  datetime.date(1968, 7, 5),  datetime.date(1987, 11, 4),  datetime.date(1988, 8, 13),  datetime.date(2007, 12, 13),  datetime.date(1994, 11, 16),  datetime.date(2003, 9, 6),  datetime.date(1971, 8, 13),  datetime.date(1981, 8, 17),  datetime.date(1998, 9, 25),  datetime.date(1968, 9, 26),  datetime.date(1968, 6, 4),  datetime.date(1998, 11, 5),  datetime.date(2008, 8, 18),  datetime.date(1987, 8, 14),  datetime.date(1988, 11, 23),  datetime.date(2010, 9, 29),  datetime.date(1985, 7, 23),  datetime.date(2017, 7, 31),  datetime.date(1955, 8, 21),  datetime.date(1986, 6, 26),  datetime.date(1963, 10, 21),  datetime.date(2011, 10, 28),  datetime.date(2011, 11, 9),  datetime.date(1997, 7, 19),  datetime.date(2007, 6, 2),  datetime.date(2002, 9, 14),  datetime.date(1992, 9, 29),  datetime.date(1971, 10, 13),  datetime.date(1962, 8, 26),  datetime.date(1964, 8, 27),  datetime.date(1984, 9, 27),  datetime.date(1973, 9, 25),  datetime.date(1969, 10, 21),  datetime.date(1994, 7, 3),  datetime.date(1958, 9, 4),  datetime.date(1985, 11, 21),  datetime.date(2011, 9, 3),  datetime.date(1972, 6, 19),  datetime.date(1991, 6, 30),  datetime.date(2004, 8, 12),  datetime.date(2007, 9, 8),  datetime.date(1952, 2, 3),  datetime.date(1965, 9, 30),  datetime.date(2000, 9, 22),  datetime.date(2002, 9, 26),  datetime.date(1950, 9, 5),  datetime.date(1966, 10, 4),  datetime.date(1970, 5, 25),  datetime.date(1979, 9, 24),  datetime.date(1960, 9, 23),  datetime.date(2007, 8, 23),  datetime.date(2009, 8, 16),  datetime.date(1996, 10, 18),  datetime.date(2012, 10, 25),  datetime.date(2011, 8, 25),  datetime.date(1951, 5, 18),  datetime.date(1980, 8, 7),  datetime.date(1979, 9, 3),  datetime.date(1953, 9, 26),  datetime.date(1968, 10, 19),  datetime.date(2009, 11, 9),  datetime.date(1999, 8, 29),  datetime.date(2015, 10, 1),  datetime.date(2008, 9, 2),  datetime.date(2004, 10, 10),  datetime.date(2004, 9, 16),  datetime.date(1992, 8, 24),  datetime.date(2000, 9, 9),  datetime.date(1971, 9, 16),  datetime.date(1996, 9, 2),  datetime.date(1998, 9, 3),  datetime.date(1951, 10, 2),  datetime.date(1979, 9, 12),  datetime.date(2007, 10, 31),  datetime.date(1953, 10, 9),  datetime.date(1952, 8, 30),  datetime.date(1969, 9, 7),  datetime.date(2015, 8, 30),  datetime.date(1959, 10, 8),  datetime.date(2002, 7, 13),  datetime.date(1961, 10, 29),  datetime.date(2007, 5, 9),  datetime.date(2016, 10, 7),  datetime.date(1964, 9, 20),  datetime.date(1979, 7, 11),  datetime.date(1950, 10, 18),  datetime.date(2008, 8, 31),  datetime.date(2012, 8, 25),  datetime.date(1966, 7, 24),  datetime.date(2010, 8, 10),  datetime.date(2005, 8, 25),  datetime.date(2003, 6, 30),  datetime.date(1956, 7, 6),  datetime.date(1974, 9, 8),  datetime.date(1966, 6, 30),  datetime.date(2016, 9, 14),  datetime.date(1968, 6, 18),  datetime.date(1982, 9, 11),  datetime.date(1976, 9, 13),  datetime.date(1975, 7, 29),  datetime.date(2007, 9, 13),  datetime.date(1970, 9, 27),  datetime.date(1969, 10, 2),  datetime.date(2010, 8, 31),  datetime.date(1995, 10, 4),  datetime.date(1969, 8, 29),  datetime.date(1984, 10, 26),  datetime.date(1973, 9, 3),  datetime.date(1976, 5, 23),  datetime.date(2001, 11, 5),  datetime.date(2010, 6, 30),  datetime.date(1985, 10, 10),  datetime.date(1970, 7, 22),  datetime.date(1972, 5, 28),  datetime.date(1982, 6, 18),  datetime.date(2001, 8, 6),  datetime.date(1953, 8, 29),  datetime.date(1965, 9, 8),  datetime.date(1964, 9, 10),  datetime.date(1959, 10, 18),  datetime.date(1957, 6, 8),  datetime.date(1988, 9, 10),  datetime.date(2005, 6, 11),  datetime.date(1953, 6, 6),  datetime.date(2003, 8, 30),  datetime.date(2002, 10, 3),  datetime.date(1968, 8, 10),  datetime.date(1999, 10, 15),  datetime.date(2002, 9, 4),  datetime.date(2001, 6, 12),  datetime.date(2017, 9, 10),  datetime.date(2005, 10, 5),  datetime.date(2005, 7, 10),  datetime.date(1973, 6, 7),  datetime.date(1999, 9, 15),  datetime.date(2005, 9, 20),  datetime.date(1995, 6, 5),  datetime.date(2003, 7, 25),  datetime.date(2004, 9, 13),  datetime.date(1964, 6, 6),  datetime.date(1973, 6, 23),  datetime.date(2005, 9, 12),  datetime.date(2012, 6, 23),  datetime.date(1961, 9, 11),  datetime.date(1990, 5, 25),  datetime.date(2017, 6, 21),  datetime.date(1975, 6, 27),  datetime.date(1959, 6, 18),  datetime.date(2004, 9, 5),  datetime.date(1987, 10, 12),  datetime.date(1995, 7, 27),  datetime.date(1964, 10, 14),  datetime.date(1970, 8, 6),  datetime.date(1969, 10, 1),  datetime.date(1996, 10, 8),  datetime.date(1968, 8, 28),  datetime.date(1956, 10, 15),  datetime.date(1975, 9, 23),  datetime.date(1970, 9, 13),  datetime.date(1975, 10, 16),  datetime.date(1990, 10, 9),  datetime.date(2005, 10, 24),  datetime.date(1950, 8, 31),  datetime.date(2000, 10, 3),  datetime.date(2002, 10, 11),  datetime.date(1983, 8, 28),  datetime.date(1960, 7, 29),  datetime.date(1950, 10, 21),  datetime.date(1995, 8, 2),  datetime.date(1956, 9, 24),  datetime.date(2016, 9, 1),  datetime.date(1993, 6, 1),  datetime.date(1987, 9, 7),  datetime.date(2012, 5, 28),  datetime.date(1995, 8, 23),  datetime.date(1969, 8, 18),  datetime.date(2001, 9, 14),  datetime.date(2000, 8, 23),  datetime.date(1974, 10, 7),  datetime.date(1986, 8, 13),  datetime.date(1977, 8, 27),  datetime.date(2008, 7, 16),  datetime.date(1996, 7, 11),  datetime.date(1988, 9, 4),  datetime.date(1975, 10, 1),  datetime.date(2003, 8, 14),  datetime.date(1957, 9, 8),  datetime.date(2005, 7, 6),  datetime.date(1960, 9, 15),  datetime.date(1974, 9, 27),  datetime.date(1965, 6, 15),  datetime.date(1999, 9, 21),  datetime.date(2004, 8, 13),  datetime.date(1994, 10, 2),  datetime.date(1971, 8, 10),  datetime.date(2008, 7, 22),  datetime.date(2000, 9, 18),  datetime.date(1960, 9, 10),  datetime.date(2006, 6, 13),  datetime.date(2017, 10, 29),  datetime.date(1972, 9, 5),  datetime.date(1964, 10, 5),  datetime.date(1991, 10, 16),  datetime.date(1969, 9, 21),  datetime.date(1998, 9, 20),  datetime.date(1977, 9, 5),  datetime.date(1988, 9, 13),  datetime.date(1974, 6, 25),  datetime.date(2010, 7, 23),  datetime.date(2007, 9, 22),  datetime.date(1984, 9, 9),  datetime.date(1989, 9, 22),  datetime.date(1992, 6, 25),  datetime.date(1971, 8, 29),  datetime.date(1953, 9, 20),  datetime.date(1985, 8, 15),  datetime.date(2016, 6, 6),  datetime.date(2006, 8, 30),  datetime.date(1980, 11, 18),  datetime.date(2011, 7, 18)]\n",
    "\n",
    "# Print the first and last scrambled dates\n",
    "print(dates_scrambled[0])\n",
    "print(dates_scrambled[-1])\n",
    "\n",
    "dates_ordered = sorted(dates_scrambled)\n",
    "print(dates_ordered[0])\n",
    "print(dates_ordered[-1])"
   ]
  },
  {
   "cell_type": "markdown",
   "metadata": {},
   "source": [
    "### Turning Dates Into Strings\n",
    "\n",
    "Python has an easy way to turn dates back into string which is necessary when we want to print dates or use the dates in a file name or send them to a csv or Excel file. \n",
    "\n",
    "By default Python prints dates in the ISO 8601 format, 4 digit year-2 digit month-2 digit day (YYYY-MM-DD). If the ISO format of the date is needed as a string, the .isoformat() method is used.\n",
    "\n",
    "By using the year first, the ISO 8601 format allows for dates to be sorted correctly. If the month or day had ben listed first, the sorted() function would not work properly. \n",
    "\n",
    "Python does allow for other date formats to be used, using the sstrftime() method which accepts a format string. .strftime() is flexible and can be passed text as well. %Y (capital y) give the year, %m (lower case m) gives the month and %d (lower case d) gives the day.  "
   ]
  },
  {
   "cell_type": "code",
   "execution_count": 81,
   "metadata": {},
   "outputs": [
    {
     "name": "stdout",
     "output_type": "stream",
     "text": [
      "['2019-11-05']\n",
      "['1999-12-31', '2000-01-01']\n",
      "2019\n",
      "Year is 2019\n",
      "11\n",
      "05\n"
     ]
    }
   ],
   "source": [
    "d = date(2019, 11, 5)\n",
    "print([d.isoformat()])\n",
    "\n",
    "some_dates = ['2000-01-01', '1999-12-31']\n",
    "print(sorted(some_dates))\n",
    "\n",
    "print(d.strftime(('%Y')))\n",
    "print(d.strftime(('Year is %Y')))\n",
    "\n",
    "print(d.strftime('%m'))\n",
    "print(d.strftime('%d'))\n"
   ]
  },
  {
   "cell_type": "markdown",
   "metadata": {},
   "source": [
    "### Exercise 3\n",
    "\n",
    "#### Printing dates in a friendly format\n",
    "Because people may want to see dates in many different formats, Python comes with very flexible functions for turning date objects into strings.\n",
    "\n",
    "Let's see what event was recorded first in the Florida hurricane data set. In this exercise, you will format the earliest date in the florida_hurriance_dates list in two ways so you can decide which one you want to use: either the ISO standard or the typical US style.\n",
    "\n",
    "__Instructions:__\n",
    "* Assign the earliest date in florida_hurricane_dates to first_date.\n",
    "* Print first_date in the ISO standard. For example, December 1st, 2000 would be \"2000-12-01\".\n",
    "* Print first_date in the US style, using .strftime(). For example, December 1st, 2000 would be \"12/1/2000\" ."
   ]
  },
  {
   "cell_type": "code",
   "execution_count": 88,
   "metadata": {},
   "outputs": [
    {
     "name": "stdout",
     "output_type": "stream",
     "text": [
      "ISO: Our earliest hurricane date: 1950-08-31\n",
      "US: Our earliest hurricane date: 08/31/1950\n"
     ]
    }
   ],
   "source": [
    "# Assign the earliest date to first_date\n",
    "first_date = sorted(florida_hurricane_dates)[0]\n",
    "\n",
    "# Convert to ISO and US formats\n",
    "iso = \"Our earliest hurricane date: \" + first_date.isoformat()\n",
    "us = \"Our earliest hurricane date: \" + first_date.strftime(\"%m/%d/%Y\")\n",
    "\n",
    "print(\"ISO: \" + iso)\n",
    "print(\"US: \" + us)"
   ]
  },
  {
   "cell_type": "markdown",
   "metadata": {},
   "source": [
    "#### Representing dates in different ways\n",
    "date objects in Python have a great number of ways they can be printed out as strings. In some cases, you want to know the date in a clear, language-agnostic format. In other cases, you want something which can fit into a paragraph and flow naturally.\n",
    "\n",
    "Let's try printing out the same date, August 26, 1992 (the day that Hurricane Andrew made landfall in Florida), in a number of different ways, to practice using the .strftime() method.\n",
    "\n",
    "A date object called andrew has already been created.\n",
    "\n",
    "__Instructions:__\n",
    "* Print andrew in the format 'YYYY-MM'.\n",
    "* Print andrew in the format 'MONTH (YYYY)', where MONTH is the full name (%B).\n",
    "* Print andrew in the format 'YYYY-DDD' where DDD is the day of the year."
   ]
  },
  {
   "cell_type": "code",
   "execution_count": 107,
   "metadata": {},
   "outputs": [
    {
     "name": "stdout",
     "output_type": "stream",
     "text": [
      "1992-08\n",
      "August (1992)\n",
      "1992-239\n"
     ]
    }
   ],
   "source": [
    "# Import date\n",
    "from datetime import date\n",
    "\n",
    "# Create a date object\n",
    "andrew = date(1992, 8, 26)\n",
    "\n",
    "# Print the date in the format 'YYYY-MM'\n",
    "print(andrew.strftime('%Y-%m'))\n",
    "\n",
    "# Print the date in the format 'MONTH (YYYY)'\n",
    "print(andrew.strftime('%B (%Y)'))\n",
    "\n",
    "# Print the date in the format 'YYYY-DDD'\n",
    "print(andrew.strftime('%Y-%j'))"
   ]
  }
 ],
 "metadata": {
  "kernelspec": {
   "display_name": "Python 3",
   "language": "python",
   "name": "python3"
  },
  "language_info": {
   "codemirror_mode": {
    "name": "ipython",
    "version": 3
   },
   "file_extension": ".py",
   "mimetype": "text/x-python",
   "name": "python",
   "nbconvert_exporter": "python",
   "pygments_lexer": "ipython3",
   "version": "3.8.5"
  }
 },
 "nbformat": 4,
 "nbformat_minor": 4
}
